{
 "cells": [
  {
   "cell_type": "markdown",
   "id": "64dc2c17-4844-4a62-939c-a27c237e75eb",
   "metadata": {
    "tags": []
   },
   "source": [
    "# Test RXN Plugin\n",
    "\n",
    "Just press `►►` and check for errors."
   ]
  },
  {
   "cell_type": "markdown",
   "id": "780ca710-ea32-4297-8ebd-acb6ff54e90e",
   "metadata": {},
   "source": [
    "<br>"
   ]
  },
  {
   "cell_type": "markdown",
   "id": "7bafdc38-ac19-4db2-819a-9854e3988fb3",
   "metadata": {
    "tags": []
   },
   "source": [
    "### Prep"
   ]
  },
  {
   "cell_type": "code",
   "execution_count": 5,
   "id": "0ce89ab2-8736-460f-916a-c010d09aed5d",
   "metadata": {
    "tags": []
   },
   "outputs": [
    {
     "data": {
      "text/markdown": [
       "<span style=\"color: #dc0\">Destination file already exists. Overwrite?</span> <br> \n"
      ],
      "text/plain": [
       "<IPython.core.display.Markdown object>"
      ]
     },
     "metadata": {},
     "output_type": "display_data"
    },
    {
     "name": "stdin",
     "output_type": "stream",
     "text": [
      "(y/n):  y\n"
     ]
    },
    {
     "data": {
      "text/markdown": [
       "<span style=\"color: #090\">Imported the file /Users/themoenen/Documents/GitHub/openad-plugin-rxn/testing/files/my_recipe.txt to your DEFAULT workspace</span> <br> \n"
      ],
      "text/plain": [
       "<IPython.core.display.Markdown object>"
      ]
     },
     "execution_count": 5,
     "metadata": {},
     "output_type": "execute_result"
    },
    {
     "data": {
      "text/markdown": [
       "<span style=\"color: #dc0\">Destination file already exists. Overwrite?</span> <br> \n"
      ],
      "text/plain": [
       "<IPython.core.display.Markdown object>"
      ]
     },
     "metadata": {},
     "output_type": "display_data"
    },
    {
     "name": "stdin",
     "output_type": "stream",
     "text": [
      "(y/n):  y\n"
     ]
    },
    {
     "data": {
      "text/markdown": [
       "<span style=\"color: #090\">Imported the file /Users/themoenen/Documents/GitHub/openad-plugin-rxn/testing/files/my_reactions.csv to your DEFAULT workspace</span> <br> \n"
      ],
      "text/plain": [
       "<IPython.core.display.Markdown object>"
      ]
     },
     "execution_count": 5,
     "metadata": {},
     "output_type": "execute_result"
    }
   ],
   "source": [
    "# Move test file into your workspace\n",
    "import os\n",
    "\n",
    "# Recipe txt file\n",
    "recipe_path = os.path.join(os.getcwd(), 'files', 'my_recipe.txt')\n",
    "%openad import from '{recipe_path}' to 'my_recipe.txt'\n",
    "\n",
    "\n",
    "# Reactions csv file\n",
    "reactions_csv_path = os.path.join(os.getcwd(), 'files', 'my_reactions.csv')\n",
    "%openad import from '{reactions_csv_path}' to 'my_reactions.csv'"
   ]
  },
  {
   "cell_type": "markdown",
   "id": "cff25ff0-3aa1-4c18-857e-e62d6130ce5b",
   "metadata": {},
   "source": [
    "<br>"
   ]
  },
  {
   "cell_type": "markdown",
   "id": "d8c96588-446f-4504-ad7c-a4f51c40acda",
   "metadata": {},
   "source": [
    "## Plugin Help"
   ]
  },
  {
   "cell_type": "code",
   "execution_count": null,
   "id": "2fbcf733",
   "metadata": {
    "tags": [],
    "vscode": {
     "languageId": "plaintext"
    }
   },
   "outputs": [],
   "source": [
    "%openad rxn"
   ]
  },
  {
   "cell_type": "code",
   "execution_count": null,
   "id": "a8670447-8c8b-462c-b335-98ae6b5ee286",
   "metadata": {
    "tags": []
   },
   "outputs": [],
   "source": [
    "%openad rxn ?"
   ]
  },
  {
   "cell_type": "code",
   "execution_count": null,
   "id": "ada01cca-8887-449a-a110-044e4f62126b",
   "metadata": {
    "tags": []
   },
   "outputs": [],
   "source": [
    "%openad ? rxn"
   ]
  },
  {
   "cell_type": "markdown",
   "id": "99e26473-49f0-446b-b3e9-506d52a93d3c",
   "metadata": {
    "tags": []
   },
   "source": [
    "<br>\n",
    "<h2><u><b>General</b></u></h2>"
   ]
  },
  {
   "cell_type": "markdown",
   "id": "0abefa8b-6278-40d6-af0b-58166e31f906",
   "metadata": {},
   "source": [
    "### Reset login"
   ]
  },
  {
   "cell_type": "code",
   "execution_count": null,
   "id": "444b70df-75cc-42f9-8297-1908dfee5e71",
   "metadata": {
    "tags": []
   },
   "outputs": [],
   "source": [
    "# Command help\n",
    "%openad rxn reset login ?"
   ]
  },
  {
   "cell_type": "code",
   "execution_count": null,
   "id": "23b0be1e-158a-4702-9b89-06aba3d749b0",
   "metadata": {
    "tags": []
   },
   "outputs": [],
   "source": [
    "from openad.helpers.general import confirm_prompt\n",
    "if not confirm_prompt(\"Please confirm before deleting your RXN credentials\"):\n",
    "    raise Exception('Notebook execution aborted')"
   ]
  },
  {
   "cell_type": "code",
   "execution_count": null,
   "id": "873ec0c1-d682-4164-880a-c7aea9884648",
   "metadata": {},
   "outputs": [],
   "source": [
    "# Existing credentials\n",
    "%openad reset login"
   ]
  },
  {
   "cell_type": "code",
   "execution_count": null,
   "id": "878857e8-eebc-4d9a-a930-081e906c2bc5",
   "metadata": {},
   "outputs": [],
   "source": [
    "# Non-existing credentials\n",
    "%openad reset login"
   ]
  },
  {
   "cell_type": "markdown",
   "id": "5c277d72-55ba-4a79-8415-fbace08c4c17",
   "metadata": {
    "tags": []
   },
   "source": [
    "### List models"
   ]
  },
  {
   "cell_type": "code",
   "execution_count": null,
   "id": "e3c3ba29-3623-4f25-9a6b-fb17e94a2363",
   "metadata": {
    "tags": []
   },
   "outputs": [],
   "source": [
    "# Command help\n",
    "%openad rxn list models ?"
   ]
  },
  {
   "cell_type": "code",
   "execution_count": null,
   "id": "2e295203-dd59-4c49-99dd-d0254487a9af",
   "metadata": {
    "tags": []
   },
   "outputs": [],
   "source": [
    "# Regular\n",
    "%openad rxn list models"
   ]
  },
  {
   "cell_type": "code",
   "execution_count": 15,
   "id": "8159d6c2-37d1-4dad-a506-cd5803a1178e",
   "metadata": {
    "tags": []
   },
   "outputs": [
    {
     "data": {
      "text/html": [
       "<div>\n",
       "<style scoped>\n",
       "    .dataframe tbody tr th:only-of-type {\n",
       "        vertical-align: middle;\n",
       "    }\n",
       "\n",
       "    .dataframe tbody tr th {\n",
       "        vertical-align: top;\n",
       "    }\n",
       "\n",
       "    .dataframe thead th {\n",
       "        text-align: right;\n",
       "    }\n",
       "</style>\n",
       "<table border=\"1\" class=\"dataframe\">\n",
       "  <thead>\n",
       "    <tr style=\"text-align: right;\">\n",
       "      <th></th>\n",
       "      <th>Models</th>\n",
       "      <th>Versions</th>\n",
       "    </tr>\n",
       "  </thead>\n",
       "  <tbody>\n",
       "    <tr>\n",
       "      <th>0</th>\n",
       "      <td>reaction-prediction-model</td>\n",
       "      <td>[2018-08-31, 2020-08-10]</td>\n",
       "    </tr>\n",
       "    <tr>\n",
       "      <th>1</th>\n",
       "      <td>paragraph-to-actions</td>\n",
       "      <td>[2020-07-17]</td>\n",
       "    </tr>\n",
       "    <tr>\n",
       "      <th>2</th>\n",
       "      <td>sequence-to-actions</td>\n",
       "      <td>[2020-10-20, 2021-01-18]</td>\n",
       "    </tr>\n",
       "    <tr>\n",
       "      <th>3</th>\n",
       "      <td>retrosynthesis-prediction-model</td>\n",
       "      <td>[12class-tokens-2021-05-14, 2019-09-12, 2020-0...</td>\n",
       "    </tr>\n",
       "  </tbody>\n",
       "</table>\n",
       "</div>"
      ],
      "text/plain": [
       "                            Models   \n",
       "0        reaction-prediction-model  \\\n",
       "1             paragraph-to-actions   \n",
       "2              sequence-to-actions   \n",
       "3  retrosynthesis-prediction-model   \n",
       "\n",
       "                                            Versions  \n",
       "0                           [2018-08-31, 2020-08-10]  \n",
       "1                                       [2020-07-17]  \n",
       "2                           [2020-10-20, 2021-01-18]  \n",
       "3  [12class-tokens-2021-05-14, 2019-09-12, 2020-0...  "
      ]
     },
     "execution_count": 15,
     "metadata": {},
     "output_type": "execute_result"
    }
   ],
   "source": [
    "# Data API\n",
    "data = %openadd rxn list models\n",
    "data"
   ]
  },
  {
   "cell_type": "markdown",
   "id": "b6d295e4-2a9a-4b32-ab62-0c351ca12704",
   "metadata": {},
   "source": [
    "<br>"
   ]
  },
  {
   "cell_type": "markdown",
   "id": "8b992552-d2d8-417c-aa45-8dfcfb2175f7",
   "metadata": {
    "tags": []
   },
   "source": [
    "### Interpret recipe"
   ]
  },
  {
   "cell_type": "code",
   "execution_count": null,
   "id": "a71eb538-ed17-4a8a-b373-59cf06610445",
   "metadata": {
    "tags": []
   },
   "outputs": [],
   "source": [
    "# Command help\n",
    "%openad rxn interpret recipe ?"
   ]
  },
  {
   "cell_type": "code",
   "execution_count": null,
   "id": "341d643c-ec74-4c36-8290-87789702ad09",
   "metadata": {
    "tags": []
   },
   "outputs": [],
   "source": [
    "# From file\n",
    "%openad rxn interpret recipe 'my_recipe.txt'"
   ]
  },
  {
   "cell_type": "code",
   "execution_count": null,
   "id": "34ee1605-8b0a-4efa-b808-6c4f9eae7fa1",
   "metadata": {},
   "outputs": [],
   "source": [
    "# From string\n",
    "%openad rxn interpret recipe 'A solution of ((1S,2S)-1-{[(methoxymethyl-biphenyl-4-yl)-(2-pyridin-2-yl-cyclopropanecarbonyl)-amino]-methyl}-2-methyl-butyl)-carbamic acid tert-butyl ester (25 mg, 0.045 mmol) and dichloromethane (4 mL) was treated with a solution of HCl in dioxane (4 N, 0.5 mL) and the resulting reaction mixture was maintained at room temperature for 12 h. The reaction was then concentrated to dryness to afford (1R,2R)-2-pyridin-2-yl-cyclopropanecarboxylic acid ((2S,3S)-2-amino-3-methylpentyl)-(methoxymethyl-biphenyl-4-yl)-amide (18 mg, 95% yield) as a white solid.'"
   ]
  },
  {
   "cell_type": "code",
   "execution_count": 16,
   "id": "7d8c6449-bec1-490a-b8b1-21c405b82aca",
   "metadata": {
    "tags": []
   },
   "outputs": [
    {
     "data": {
      "application/vnd.jupyter.widget-view+json": {
       "model_id": "cb06bb23d7d2474ea47d5ca8eea26f07",
       "version_major": 2,
       "version_minor": 0
      },
      "text/plain": [
       "Output()"
      ]
     },
     "metadata": {},
     "output_type": "display_data"
    },
    {
     "data": {
      "text/plain": [
       "['<h1>Recipe steps:</h1>',\n",
       " '1. MAKESOLUTION with ((1S,2S)-1-{[(methoxymethyl-biphenyl-4-yl)-(2-pyridin-2-yl-cyclopropanecarbonyl)-amino]-methyl}-2-methyl-butyl)-carbamic acid tert-butyl ester (25 mg, 0.045 mmol) and dichloromethane (4 mL)',\n",
       " '2. ADD SLN',\n",
       " '3. ADD HCl in dioxane \\u200c(4 N) (0.5 mL)',\n",
       " '4. STIR for 12 h at room temperature',\n",
       " '5. CONCENTRATE',\n",
       " '6. YIELD (1R,2R)-2-pyridin-2-yl-cyclopropanecarboxylic acid \\u200c((2S,3S)-2-amino-3-methylpentyl)-(methoxymethyl-biphenyl-4-yl)-amide (18 mg, 95%)']"
      ]
     },
     "execution_count": 16,
     "metadata": {},
     "output_type": "execute_result"
    }
   ],
   "source": [
    "# Data API - from file\n",
    "data = %openadd rxn interpret recipe 'my_recipe.txt'\n",
    "data"
   ]
  },
  {
   "cell_type": "code",
   "execution_count": 17,
   "id": "7071ff06-523f-483b-99a9-dae5a4713eca",
   "metadata": {
    "tags": []
   },
   "outputs": [
    {
     "data": {
      "application/vnd.jupyter.widget-view+json": {
       "model_id": "fd90ae6ae511438990c467f74deb2d85",
       "version_major": 2,
       "version_minor": 0
      },
      "text/plain": [
       "Output()"
      ]
     },
     "metadata": {},
     "output_type": "display_data"
    },
    {
     "data": {
      "text/plain": [
       "['<h1>Recipe steps:</h1>',\n",
       " '1. MAKESOLUTION with ((1S,2S)-1-{[(methoxymethyl-biphenyl-4-yl)-(2-pyridin-2-yl-cyclopropanecarbonyl)-amino]-methyl}-2-methyl-butyl)-carbamic acid tert-butyl ester (25 mg, 0.045 mmol) and dichloromethane (4 mL)',\n",
       " '2. ADD SLN',\n",
       " '3. ADD HCl in dioxane \\u200c(4 N) (0.5 mL)',\n",
       " '4. STIR for 12 h at room temperature',\n",
       " '5. CONCENTRATE',\n",
       " '6. YIELD (1R,2R)-2-pyridin-2-yl-cyclopropanecarboxylic acid \\u200c((2S,3S)-2-amino-3-methylpentyl)-(methoxymethyl-biphenyl-4-yl)-amide (18 mg, 95%)']"
      ]
     },
     "execution_count": 17,
     "metadata": {},
     "output_type": "execute_result"
    }
   ],
   "source": [
    "# Data API - from string\n",
    "data = %openadd rxn interpret recipe 'A solution of ((1S,2S)-1-{[(methoxymethyl-biphenyl-4-yl)-(2-pyridin-2-yl-cyclopropanecarbonyl)-amino]-methyl}-2-methyl-butyl)-carbamic acid tert-butyl ester (25 mg, 0.045 mmol) and dichloromethane (4 mL) was treated with a solution of HCl in dioxane (4 N, 0.5 mL) and the resulting reaction mixture was maintained at room temperature for 12 h. The reaction was then concentrated to dryness to afford (1R,2R)-2-pyridin-2-yl-cyclopropanecarboxylic acid ((2S,3S)-2-amino-3-methylpentyl)-(methoxymethyl-biphenyl-4-yl)-amide (18 mg, 95% yield) as a white solid.'\n",
    "data"
   ]
  },
  {
   "cell_type": "markdown",
   "id": "d997d937-064f-48e0-ab1e-d8005673303d",
   "metadata": {
    "tags": []
   },
   "source": [
    "<br>\n",
    "<h2><u><b>Prediction</b></u></h2>"
   ]
  },
  {
   "cell_type": "markdown",
   "id": "64e1a900-ff83-4e4d-83d9-d4ca70d0a91c",
   "metadata": {
    "tags": []
   },
   "source": [
    "### Predict retrosynythesis"
   ]
  },
  {
   "cell_type": "code",
   "execution_count": null,
   "id": "fdd88cbe-6280-4a82-99f9-d0f9318e9210",
   "metadata": {},
   "outputs": [],
   "source": [
    "# Command help\n",
    "%openad rxn predict retrosynthesis ?"
   ]
  },
  {
   "cell_type": "code",
   "execution_count": null,
   "id": "031d6689-7cfc-4337-b0fe-ff1e3eb5927e",
   "metadata": {
    "tags": []
   },
   "outputs": [],
   "source": [
    "# Regular\n",
    "%openad rxn predict retrosynthesis 'BrCCc1cccc2c(Br)c3ccccc3cc12' using (max_steps=3)"
   ]
  },
  {
   "cell_type": "code",
   "execution_count": null,
   "id": "0a1259d7-84c1-4fb2-86c5-bc6807b81c89",
   "metadata": {
    "tags": []
   },
   "outputs": [],
   "source": [
    "# Cached\n",
    "%openad rxn predict retrosynthesis 'BrCCc1cccc2c(Br)c3ccccc3cc12' using (max_steps=3)"
   ]
  },
  {
   "cell_type": "code",
   "execution_count": null,
   "id": "35c9928a-5341-4de4-99aa-c1b760151eb1",
   "metadata": {},
   "outputs": [],
   "source": [
    "# No cache\n",
    "%openad rxn predict retrosynthesis 'BrCCc1cccc2c(Br)c3ccccc3cc12' using (max_steps=3) no cache"
   ]
  },
  {
   "cell_type": "code",
   "execution_count": null,
   "id": "f1cde1ac-4388-4cd1-b0a5-4942750ef638",
   "metadata": {
    "tags": []
   },
   "outputs": [],
   "source": [
    "# Invalid\n",
    "%openad rxn predict retrosynthesis 'ABCDEF' using (max_steps=3)"
   ]
  },
  {
   "cell_type": "code",
   "execution_count": 18,
   "id": "38131509-7a26-4743-9697-65543bea756a",
   "metadata": {
    "tags": []
   },
   "outputs": [
    {
     "data": {
      "text/html": [
       "<div>\n",
       "<style scoped>\n",
       "    .dataframe tbody tr th:only-of-type {\n",
       "        vertical-align: middle;\n",
       "    }\n",
       "\n",
       "    .dataframe tbody tr th {\n",
       "        vertical-align: top;\n",
       "    }\n",
       "\n",
       "    .dataframe thead th {\n",
       "        text-align: right;\n",
       "    }\n",
       "</style>\n",
       "<table border=\"1\" class=\"dataframe\">\n",
       "  <thead>\n",
       "    <tr style=\"text-align: right;\">\n",
       "      <th></th>\n",
       "      <th>reaction_path_index</th>\n",
       "      <th>result</th>\n",
       "      <th>confidence</th>\n",
       "      <th>compound [step -1]</th>\n",
       "      <th>confidence [step -1]</th>\n",
       "      <th>compound [step -2]</th>\n",
       "      <th>confidence [step -2]</th>\n",
       "      <th>compound [step -3]</th>\n",
       "    </tr>\n",
       "  </thead>\n",
       "  <tbody>\n",
       "    <tr>\n",
       "      <th>0</th>\n",
       "      <td>1</td>\n",
       "      <td>BrCCc1cccc2c(Br)c3ccccc3cc12</td>\n",
       "      <td>1.0</td>\n",
       "      <td>BrC(Br)(Br)Br</td>\n",
       "      <td></td>\n",
       "      <td></td>\n",
       "      <td></td>\n",
       "      <td></td>\n",
       "    </tr>\n",
       "    <tr>\n",
       "      <th>1</th>\n",
       "      <td>1</td>\n",
       "      <td>BrCCc1cccc2c(Br)c3ccccc3cc12</td>\n",
       "      <td>1.0</td>\n",
       "      <td>ClCCl</td>\n",
       "      <td></td>\n",
       "      <td></td>\n",
       "      <td></td>\n",
       "      <td></td>\n",
       "    </tr>\n",
       "    <tr>\n",
       "      <th>2</th>\n",
       "      <td>1</td>\n",
       "      <td>BrCCc1cccc2c(Br)c3ccccc3cc12</td>\n",
       "      <td>1.0</td>\n",
       "      <td>OCCc1cccc2c(Br)c3ccccc3cc12</td>\n",
       "      <td>1.0</td>\n",
       "      <td>B.C1CCOC1</td>\n",
       "      <td></td>\n",
       "      <td></td>\n",
       "    </tr>\n",
       "    <tr>\n",
       "      <th>3</th>\n",
       "      <td>1</td>\n",
       "      <td>BrCCc1cccc2c(Br)c3ccccc3cc12</td>\n",
       "      <td>1.0</td>\n",
       "      <td>OCCc1cccc2c(Br)c3ccccc3cc12</td>\n",
       "      <td>1.0</td>\n",
       "      <td>O=C(O)Cc1cccc2c(Br)c3ccccc3cc12</td>\n",
       "      <td>1.0</td>\n",
       "      <td>CCO</td>\n",
       "    </tr>\n",
       "    <tr>\n",
       "      <th>4</th>\n",
       "      <td>1</td>\n",
       "      <td>BrCCc1cccc2c(Br)c3ccccc3cc12</td>\n",
       "      <td>1.0</td>\n",
       "      <td>OCCc1cccc2c(Br)c3ccccc3cc12</td>\n",
       "      <td>1.0</td>\n",
       "      <td>O=C(O)Cc1cccc2c(Br)c3ccccc3cc12</td>\n",
       "      <td>1.0</td>\n",
       "      <td>N#CCc1cccc2c(Br)c3ccccc3cc12</td>\n",
       "    </tr>\n",
       "    <tr>\n",
       "      <th>...</th>\n",
       "      <td>...</td>\n",
       "      <td>...</td>\n",
       "      <td>...</td>\n",
       "      <td>...</td>\n",
       "      <td>...</td>\n",
       "      <td>...</td>\n",
       "      <td>...</td>\n",
       "      <td>...</td>\n",
       "    </tr>\n",
       "    <tr>\n",
       "      <th>74</th>\n",
       "      <td>12</td>\n",
       "      <td>BrCCc1cccc2c(Br)c3ccccc3cc12</td>\n",
       "      <td>1.0</td>\n",
       "      <td>ClCCl</td>\n",
       "      <td></td>\n",
       "      <td></td>\n",
       "      <td></td>\n",
       "      <td></td>\n",
       "    </tr>\n",
       "    <tr>\n",
       "      <th>75</th>\n",
       "      <td>12</td>\n",
       "      <td>BrCCc1cccc2c(Br)c3ccccc3cc12</td>\n",
       "      <td>1.0</td>\n",
       "      <td>OCCc1cccc2c(Br)c3ccccc3cc12</td>\n",
       "      <td>0.835</td>\n",
       "      <td>O=C1CCC(=O)N1Br</td>\n",
       "      <td></td>\n",
       "      <td></td>\n",
       "    </tr>\n",
       "    <tr>\n",
       "      <th>76</th>\n",
       "      <td>12</td>\n",
       "      <td>BrCCc1cccc2c(Br)c3ccccc3cc12</td>\n",
       "      <td>1.0</td>\n",
       "      <td>OCCc1cccc2c(Br)c3ccccc3cc12</td>\n",
       "      <td>0.835</td>\n",
       "      <td>OCCc1cccc2cc3ccccc3cc12</td>\n",
       "      <td>1.0</td>\n",
       "      <td>B1C2CCCC1CCC2</td>\n",
       "    </tr>\n",
       "    <tr>\n",
       "      <th>77</th>\n",
       "      <td>12</td>\n",
       "      <td>BrCCc1cccc2c(Br)c3ccccc3cc12</td>\n",
       "      <td>1.0</td>\n",
       "      <td>OCCc1cccc2c(Br)c3ccccc3cc12</td>\n",
       "      <td>0.835</td>\n",
       "      <td>OCCc1cccc2cc3ccccc3cc12</td>\n",
       "      <td>1.0</td>\n",
       "      <td>C1CCOC1</td>\n",
       "    </tr>\n",
       "    <tr>\n",
       "      <th>78</th>\n",
       "      <td>12</td>\n",
       "      <td>BrCCc1cccc2c(Br)c3ccccc3cc12</td>\n",
       "      <td>1.0</td>\n",
       "      <td>OCCc1cccc2c(Br)c3ccccc3cc12</td>\n",
       "      <td>0.835</td>\n",
       "      <td>OCCc1cccc2cc3ccccc3cc12</td>\n",
       "      <td>1.0</td>\n",
       "      <td>C=Cc1cccc2cc3ccccc3cc12</td>\n",
       "    </tr>\n",
       "  </tbody>\n",
       "</table>\n",
       "<p>79 rows × 8 columns</p>\n",
       "</div>"
      ],
      "text/plain": [
       "    reaction_path_index                        result  confidence   \n",
       "0                     1  BrCCc1cccc2c(Br)c3ccccc3cc12         1.0  \\\n",
       "1                     1  BrCCc1cccc2c(Br)c3ccccc3cc12         1.0   \n",
       "2                     1  BrCCc1cccc2c(Br)c3ccccc3cc12         1.0   \n",
       "3                     1  BrCCc1cccc2c(Br)c3ccccc3cc12         1.0   \n",
       "4                     1  BrCCc1cccc2c(Br)c3ccccc3cc12         1.0   \n",
       "..                  ...                           ...         ...   \n",
       "74                   12  BrCCc1cccc2c(Br)c3ccccc3cc12         1.0   \n",
       "75                   12  BrCCc1cccc2c(Br)c3ccccc3cc12         1.0   \n",
       "76                   12  BrCCc1cccc2c(Br)c3ccccc3cc12         1.0   \n",
       "77                   12  BrCCc1cccc2c(Br)c3ccccc3cc12         1.0   \n",
       "78                   12  BrCCc1cccc2c(Br)c3ccccc3cc12         1.0   \n",
       "\n",
       "             compound [step -1] confidence [step -1]   \n",
       "0                 BrC(Br)(Br)Br                       \\\n",
       "1                         ClCCl                        \n",
       "2   OCCc1cccc2c(Br)c3ccccc3cc12                  1.0   \n",
       "3   OCCc1cccc2c(Br)c3ccccc3cc12                  1.0   \n",
       "4   OCCc1cccc2c(Br)c3ccccc3cc12                  1.0   \n",
       "..                          ...                  ...   \n",
       "74                        ClCCl                        \n",
       "75  OCCc1cccc2c(Br)c3ccccc3cc12                0.835   \n",
       "76  OCCc1cccc2c(Br)c3ccccc3cc12                0.835   \n",
       "77  OCCc1cccc2c(Br)c3ccccc3cc12                0.835   \n",
       "78  OCCc1cccc2c(Br)c3ccccc3cc12                0.835   \n",
       "\n",
       "                 compound [step -2] confidence [step -2]   \n",
       "0                                                         \\\n",
       "1                                                          \n",
       "2                         B.C1CCOC1                        \n",
       "3   O=C(O)Cc1cccc2c(Br)c3ccccc3cc12                  1.0   \n",
       "4   O=C(O)Cc1cccc2c(Br)c3ccccc3cc12                  1.0   \n",
       "..                              ...                  ...   \n",
       "74                                                         \n",
       "75                  O=C1CCC(=O)N1Br                        \n",
       "76          OCCc1cccc2cc3ccccc3cc12                  1.0   \n",
       "77          OCCc1cccc2cc3ccccc3cc12                  1.0   \n",
       "78          OCCc1cccc2cc3ccccc3cc12                  1.0   \n",
       "\n",
       "              compound [step -3]  \n",
       "0                                 \n",
       "1                                 \n",
       "2                                 \n",
       "3                            CCO  \n",
       "4   N#CCc1cccc2c(Br)c3ccccc3cc12  \n",
       "..                           ...  \n",
       "74                                \n",
       "75                                \n",
       "76                 B1C2CCCC1CCC2  \n",
       "77                       C1CCOC1  \n",
       "78       C=Cc1cccc2cc3ccccc3cc12  \n",
       "\n",
       "[79 rows x 8 columns]"
      ]
     },
     "execution_count": 18,
     "metadata": {},
     "output_type": "execute_result"
    }
   ],
   "source": [
    "# Data API\n",
    "data = %openadd rxn predict retrosynthesis 'BrCCc1cccc2c(Br)c3ccccc3cc12' using (max_steps=3)\n",
    "data"
   ]
  },
  {
   "cell_type": "markdown",
   "id": "fb2a57a6-577a-4bf4-82f7-39c9298396d2",
   "metadata": {},
   "source": [
    "<br>"
   ]
  },
  {
   "cell_type": "markdown",
   "id": "6882856d-cf89-4926-aafd-6cf9a232eec1",
   "metadata": {
    "tags": []
   },
   "source": [
    "### Predict single Reaction"
   ]
  },
  {
   "cell_type": "code",
   "execution_count": null,
   "id": "fcdf80fb-a880-4f32-a20e-a8856a57d641",
   "metadata": {},
   "outputs": [],
   "source": [
    "# Command help\n",
    "%openad rxn predict reaction ?"
   ]
  },
  {
   "cell_type": "code",
   "execution_count": null,
   "id": "b1a0639f-d290-4fbf-aa52-94aa6106e4a4",
   "metadata": {},
   "outputs": [],
   "source": [
    "# Regular\n",
    "%openad rxn predict reaction 'BrBr.c1ccc2cc3ccccc3cc2c1CCO'"
   ]
  },
  {
   "cell_type": "code",
   "execution_count": 8,
   "id": "ab9a086c-c21f-433a-966d-1bd2091a7348",
   "metadata": {},
   "outputs": [
    {
     "data": {
      "text/html": [
       "<div style=\"display:inline-block; border:solid 1px #ccc\"><?xml version='1.0' encoding='iso-8859-1'?>\n",
       "<svg version='1.1' baseProfile='full'\n",
       "              xmlns='http://www.w3.org/2000/svg'\n",
       "                      xmlns:rdkit='http://www.rdkit.org/xml'\n",
       "                      xmlns:xlink='http://www.w3.org/1999/xlink'\n",
       "                  xml:space='preserve'\n",
       "width='800px' height='200px' viewBox='0 0 800 200'>\n",
       "<!-- END OF HEADER -->\n",
       "<rect style='opacity:1.0;fill:#FFFFFF;stroke:none' width='800.0' height='200.0' x='0.0' y='0.0'> </rect>\n",
       "<path class='bond-0 atom-0 atom-1' d='M 112.7,100.0 L 138.3,100.0' style='fill:none;fill-rule:evenodd;stroke:#7F4C19;stroke-width:1.0px;stroke-linecap:butt;stroke-linejoin:miter;stroke-opacity:1' />\n",
       "<path class='atom-0' d='M 104.8 99.8\n",
       "Q 105.7 100.0, 106.1 100.6\n",
       "Q 106.6 101.1, 106.6 101.9\n",
       "Q 106.6 103.2, 105.8 103.9\n",
       "Q 105.0 104.7, 103.4 104.7\n",
       "L 100.3 104.7\n",
       "L 100.3 95.3\n",
       "L 103.0 95.3\n",
       "Q 104.6 95.3, 105.4 96.0\n",
       "Q 106.2 96.6, 106.2 97.8\n",
       "Q 106.2 99.2, 104.8 99.8\n",
       "M 101.5 96.4\n",
       "L 101.5 99.3\n",
       "L 103.0 99.3\n",
       "Q 103.9 99.3, 104.4 98.9\n",
       "Q 104.9 98.6, 104.9 97.8\n",
       "Q 104.9 96.4, 103.0 96.4\n",
       "L 101.5 96.4\n",
       "M 103.4 103.6\n",
       "Q 104.3 103.6, 104.8 103.2\n",
       "Q 105.3 102.7, 105.3 101.9\n",
       "Q 105.3 101.1, 104.7 100.8\n",
       "Q 104.2 100.4, 103.2 100.4\n",
       "L 101.5 100.4\n",
       "L 101.5 103.6\n",
       "L 103.4 103.6\n",
       "' fill='#7F4C19'/>\n",
       "<path class='atom-0' d='M 108.7 97.9\n",
       "L 108.9 98.8\n",
       "Q 109.6 97.8, 110.7 97.8\n",
       "Q 111.1 97.8, 111.6 97.9\n",
       "L 111.4 99.0\n",
       "Q 110.8 98.9, 110.5 98.9\n",
       "Q 110.0 98.9, 109.6 99.1\n",
       "Q 109.2 99.3, 109.0 99.8\n",
       "L 109.0 104.7\n",
       "L 107.7 104.7\n",
       "L 107.7 97.9\n",
       "L 108.7 97.9\n",
       "' fill='#7F4C19'/>\n",
       "<path class='atom-1' d='M 143.9 99.8\n",
       "Q 144.8 100.0, 145.3 100.6\n",
       "Q 145.7 101.1, 145.7 101.9\n",
       "Q 145.7 103.2, 144.9 103.9\n",
       "Q 144.1 104.7, 142.5 104.7\n",
       "L 139.4 104.7\n",
       "L 139.4 95.3\n",
       "L 142.2 95.3\n",
       "Q 143.7 95.3, 144.5 96.0\n",
       "Q 145.3 96.6, 145.3 97.8\n",
       "Q 145.3 99.2, 143.9 99.8\n",
       "M 140.6 96.4\n",
       "L 140.6 99.3\n",
       "L 142.2 99.3\n",
       "Q 143.1 99.3, 143.5 98.9\n",
       "Q 144.0 98.6, 144.0 97.8\n",
       "Q 144.0 96.4, 142.2 96.4\n",
       "L 140.6 96.4\n",
       "M 142.5 103.6\n",
       "Q 143.4 103.6, 143.9 103.2\n",
       "Q 144.4 102.7, 144.4 101.9\n",
       "Q 144.4 101.1, 143.9 100.8\n",
       "Q 143.3 100.4, 142.3 100.4\n",
       "L 140.6 100.4\n",
       "L 140.6 103.6\n",
       "L 142.5 103.6\n",
       "' fill='#7F4C19'/>\n",
       "<path class='atom-1' d='M 147.8 97.9\n",
       "L 148.0 98.8\n",
       "Q 148.7 97.8, 149.9 97.8\n",
       "Q 150.2 97.8, 150.7 97.9\n",
       "L 150.5 99.0\n",
       "Q 150.0 98.9, 149.6 98.9\n",
       "Q 149.1 98.9, 148.7 99.1\n",
       "Q 148.4 99.3, 148.1 99.8\n",
       "L 148.1 104.7\n",
       "L 146.8 104.7\n",
       "L 146.8 97.9\n",
       "L 147.8 97.9\n",
       "' fill='#7F4C19'/>\n",
       "<path d='M 164.0,92.0 L 164.0,108.0' style='fill:none;fill-rule:evenodd;stroke:#000000;stroke-width:1.0px;stroke-linecap:butt;stroke-linejoin:miter;stroke-opacity:1' />\n",
       "<path d='M 156.0,100.0 L 172.0,100.0' style='fill:none;fill-rule:evenodd;stroke:#000000;stroke-width:1.0px;stroke-linecap:butt;stroke-linejoin:miter;stroke-opacity:1' />\n",
       "<path class='bond-1 atom-2 atom-3' d='M 193.1,46.3 L 198.4,58.4' style='fill:none;fill-rule:evenodd;stroke:#FF0000;stroke-width:1.0px;stroke-linecap:butt;stroke-linejoin:miter;stroke-opacity:1' />\n",
       "<path class='bond-1 atom-2 atom-3' d='M 198.4,58.4 L 203.7,70.4' style='fill:none;fill-rule:evenodd;stroke:#000000;stroke-width:1.0px;stroke-linecap:butt;stroke-linejoin:miter;stroke-opacity:1' />\n",
       "<path class='bond-2 atom-3 atom-4' d='M 203.7,70.4 L 236.4,74.0' style='fill:none;fill-rule:evenodd;stroke:#000000;stroke-width:1.0px;stroke-linecap:butt;stroke-linejoin:miter;stroke-opacity:1' />\n",
       "<path class='bond-3 atom-4 atom-5' d='M 236.4,74.0 L 249.7,104.1' style='fill:none;fill-rule:evenodd;stroke:#000000;stroke-width:1.0px;stroke-linecap:butt;stroke-linejoin:miter;stroke-opacity:1' />\n",
       "<path class='bond-4 atom-5 atom-6' d='M 249.7,104.1 L 230.2,130.7' style='fill:none;fill-rule:evenodd;stroke:#000000;stroke-width:1.0px;stroke-linecap:butt;stroke-linejoin:miter;stroke-opacity:1' />\n",
       "<path class='bond-4 atom-5 atom-6' d='M 252.0,109.4 L 235.9,131.3' style='fill:none;fill-rule:evenodd;stroke:#000000;stroke-width:1.0px;stroke-linecap:butt;stroke-linejoin:miter;stroke-opacity:1' />\n",
       "<path class='bond-5 atom-6 atom-7' d='M 230.2,130.7 L 243.5,160.8' style='fill:none;fill-rule:evenodd;stroke:#000000;stroke-width:1.0px;stroke-linecap:butt;stroke-linejoin:miter;stroke-opacity:1' />\n",
       "<path class='bond-6 atom-7 atom-8' d='M 243.5,160.8 L 276.2,164.4' style='fill:none;fill-rule:evenodd;stroke:#000000;stroke-width:1.0px;stroke-linecap:butt;stroke-linejoin:miter;stroke-opacity:1' />\n",
       "<path class='bond-6 atom-7 atom-8' d='M 246.9,156.2 L 273.9,159.2' style='fill:none;fill-rule:evenodd;stroke:#000000;stroke-width:1.0px;stroke-linecap:butt;stroke-linejoin:miter;stroke-opacity:1' />\n",
       "<path class='bond-7 atom-8 atom-9' d='M 276.2,164.4 L 295.7,137.8' style='fill:none;fill-rule:evenodd;stroke:#000000;stroke-width:1.0px;stroke-linecap:butt;stroke-linejoin:miter;stroke-opacity:1' />\n",
       "<path class='bond-8 atom-9 atom-10' d='M 295.7,137.8 L 328.4,141.4' style='fill:none;fill-rule:evenodd;stroke:#000000;stroke-width:1.0px;stroke-linecap:butt;stroke-linejoin:miter;stroke-opacity:1' />\n",
       "<path class='bond-8 atom-9 atom-10' d='M 299.0,133.3 L 326.1,136.2' style='fill:none;fill-rule:evenodd;stroke:#000000;stroke-width:1.0px;stroke-linecap:butt;stroke-linejoin:miter;stroke-opacity:1' />\n",
       "<path class='bond-9 atom-10 atom-11' d='M 328.4,141.4 L 347.8,114.9' style='fill:none;fill-rule:evenodd;stroke:#000000;stroke-width:1.0px;stroke-linecap:butt;stroke-linejoin:miter;stroke-opacity:1' />\n",
       "<path class='bond-10 atom-11 atom-12' d='M 347.8,114.9 L 380.5,118.5' style='fill:none;fill-rule:evenodd;stroke:#000000;stroke-width:1.0px;stroke-linecap:butt;stroke-linejoin:miter;stroke-opacity:1' />\n",
       "<path class='bond-10 atom-11 atom-12' d='M 351.2,110.3 L 378.2,113.3' style='fill:none;fill-rule:evenodd;stroke:#000000;stroke-width:1.0px;stroke-linecap:butt;stroke-linejoin:miter;stroke-opacity:1' />\n",
       "<path class='bond-11 atom-12 atom-13' d='M 380.5,118.5 L 400.0,91.9' style='fill:none;fill-rule:evenodd;stroke:#000000;stroke-width:1.0px;stroke-linecap:butt;stroke-linejoin:miter;stroke-opacity:1' />\n",
       "<path class='bond-12 atom-13 atom-14' d='M 400.0,91.9 L 386.7,61.8' style='fill:none;fill-rule:evenodd;stroke:#000000;stroke-width:1.0px;stroke-linecap:butt;stroke-linejoin:miter;stroke-opacity:1' />\n",
       "<path class='bond-12 atom-13 atom-14' d='M 394.3,91.3 L 383.4,66.4' style='fill:none;fill-rule:evenodd;stroke:#000000;stroke-width:1.0px;stroke-linecap:butt;stroke-linejoin:miter;stroke-opacity:1' />\n",
       "<path class='bond-13 atom-14 atom-15' d='M 386.7,61.8 L 354.0,58.2' style='fill:none;fill-rule:evenodd;stroke:#000000;stroke-width:1.0px;stroke-linecap:butt;stroke-linejoin:miter;stroke-opacity:1' />\n",
       "<path class='bond-14 atom-15 atom-16' d='M 354.0,58.2 L 334.6,84.8' style='fill:none;fill-rule:evenodd;stroke:#000000;stroke-width:1.0px;stroke-linecap:butt;stroke-linejoin:miter;stroke-opacity:1' />\n",
       "<path class='bond-14 atom-15 atom-16' d='M 356.3,63.5 L 340.2,85.4' style='fill:none;fill-rule:evenodd;stroke:#000000;stroke-width:1.0px;stroke-linecap:butt;stroke-linejoin:miter;stroke-opacity:1' />\n",
       "<path class='bond-15 atom-16 atom-17' d='M 334.6,84.8 L 301.9,81.2' style='fill:none;fill-rule:evenodd;stroke:#000000;stroke-width:1.0px;stroke-linecap:butt;stroke-linejoin:miter;stroke-opacity:1' />\n",
       "<path class='bond-16 atom-17 atom-18' d='M 301.9,81.2 L 282.4,107.7' style='fill:none;fill-rule:evenodd;stroke:#000000;stroke-width:1.0px;stroke-linecap:butt;stroke-linejoin:miter;stroke-opacity:1' />\n",
       "<path class='bond-16 atom-17 atom-18' d='M 304.2,86.4 L 288.1,108.3' style='fill:none;fill-rule:evenodd;stroke:#000000;stroke-width:1.0px;stroke-linecap:butt;stroke-linejoin:miter;stroke-opacity:1' />\n",
       "<path class='bond-17 atom-18 atom-5' d='M 282.4,107.7 L 249.7,104.1' style='fill:none;fill-rule:evenodd;stroke:#000000;stroke-width:1.0px;stroke-linecap:butt;stroke-linejoin:miter;stroke-opacity:1' />\n",
       "<path class='bond-18 atom-18 atom-9' d='M 282.4,107.7 L 295.7,137.8' style='fill:none;fill-rule:evenodd;stroke:#000000;stroke-width:1.0px;stroke-linecap:butt;stroke-linejoin:miter;stroke-opacity:1' />\n",
       "<path class='bond-19 atom-16 atom-11' d='M 334.6,84.8 L 347.8,114.9' style='fill:none;fill-rule:evenodd;stroke:#000000;stroke-width:1.0px;stroke-linecap:butt;stroke-linejoin:miter;stroke-opacity:1' />\n",
       "<path d='M 234.8,73.8 L 236.4,74.0 L 237.1,75.5' style='fill:none;stroke:#000000;stroke-width:1.0px;stroke-linecap:butt;stroke-linejoin:miter;stroke-opacity:1;' />\n",
       "<path d='M 249.0,102.6 L 249.7,104.1 L 248.7,105.5' style='fill:none;stroke:#000000;stroke-width:1.0px;stroke-linecap:butt;stroke-linejoin:miter;stroke-opacity:1;' />\n",
       "<path d='M 231.2,129.4 L 230.2,130.7 L 230.9,132.2' style='fill:none;stroke:#000000;stroke-width:1.0px;stroke-linecap:butt;stroke-linejoin:miter;stroke-opacity:1;' />\n",
       "<path d='M 274.6,164.2 L 276.2,164.4 L 277.2,163.1' style='fill:none;stroke:#000000;stroke-width:1.0px;stroke-linecap:butt;stroke-linejoin:miter;stroke-opacity:1;' />\n",
       "<path d='M 326.7,141.3 L 328.4,141.4 L 329.3,140.1' style='fill:none;stroke:#000000;stroke-width:1.0px;stroke-linecap:butt;stroke-linejoin:miter;stroke-opacity:1;' />\n",
       "<path d='M 346.9,116.2 L 347.8,114.9 L 349.5,115.1' style='fill:none;stroke:#000000;stroke-width:1.0px;stroke-linecap:butt;stroke-linejoin:miter;stroke-opacity:1;' />\n",
       "<path d='M 378.9,118.3 L 380.5,118.5 L 381.5,117.1' style='fill:none;stroke:#000000;stroke-width:1.0px;stroke-linecap:butt;stroke-linejoin:miter;stroke-opacity:1;' />\n",
       "<path d='M 399.0,93.3 L 400.0,91.9 L 399.3,90.4' style='fill:none;stroke:#000000;stroke-width:1.0px;stroke-linecap:butt;stroke-linejoin:miter;stroke-opacity:1;' />\n",
       "<path d='M 355.7,58.4 L 354.0,58.2 L 353.1,59.6' style='fill:none;stroke:#000000;stroke-width:1.0px;stroke-linecap:butt;stroke-linejoin:miter;stroke-opacity:1;' />\n",
       "<path class='atom-0' d='M 177.0 35.7\n",
       "L 178.3 35.7\n",
       "L 178.3 39.7\n",
       "L 183.0 39.7\n",
       "L 183.0 35.7\n",
       "L 184.3 35.7\n",
       "L 184.3 45.0\n",
       "L 183.0 45.0\n",
       "L 183.0 40.7\n",
       "L 178.3 40.7\n",
       "L 178.3 45.0\n",
       "L 177.0 45.0\n",
       "L 177.0 35.7\n",
       "' fill='#FF0000'/>\n",
       "<path class='atom-0' d='M 186.2 40.4\n",
       "Q 186.2 38.1, 187.3 36.9\n",
       "Q 188.4 35.6, 190.5 35.6\n",
       "Q 192.6 35.6, 193.7 36.9\n",
       "Q 194.8 38.1, 194.8 40.4\n",
       "Q 194.8 42.6, 193.6 43.9\n",
       "Q 192.5 45.2, 190.5 45.2\n",
       "Q 188.4 45.2, 187.3 43.9\n",
       "Q 186.2 42.6, 186.2 40.4\n",
       "M 190.5 44.1\n",
       "Q 191.9 44.1, 192.7 43.2\n",
       "Q 193.4 42.2, 193.4 40.4\n",
       "Q 193.4 38.5, 192.7 37.6\n",
       "Q 191.9 36.7, 190.5 36.7\n",
       "Q 189.1 36.7, 188.3 37.6\n",
       "Q 187.5 38.5, 187.5 40.4\n",
       "Q 187.5 42.2, 188.3 43.2\n",
       "Q 189.1 44.1, 190.5 44.1\n",
       "' fill='#FF0000'/>\n",
       "<path class='bond-20 atom-19 atom-20' d='M 490.5,45.3 L 496.6,57.0' style='fill:none;fill-rule:evenodd;stroke:#7F4C19;stroke-width:1.0px;stroke-linecap:butt;stroke-linejoin:miter;stroke-opacity:1' />\n",
       "<path class='bond-20 atom-19 atom-20' d='M 496.6,57.0 L 502.7,68.7' style='fill:none;fill-rule:evenodd;stroke:#000000;stroke-width:1.0px;stroke-linecap:butt;stroke-linejoin:miter;stroke-opacity:1' />\n",
       "<path class='bond-21 atom-20 atom-21' d='M 502.7,68.7 L 535.6,70.1' style='fill:none;fill-rule:evenodd;stroke:#000000;stroke-width:1.0px;stroke-linecap:butt;stroke-linejoin:miter;stroke-opacity:1' />\n",
       "<path class='bond-22 atom-21 atom-22' d='M 535.6,70.1 L 550.8,99.3' style='fill:none;fill-rule:evenodd;stroke:#000000;stroke-width:1.0px;stroke-linecap:butt;stroke-linejoin:miter;stroke-opacity:1' />\n",
       "<path class='bond-23 atom-22 atom-23' d='M 550.8,99.3 L 533.1,127.1' style='fill:none;fill-rule:evenodd;stroke:#000000;stroke-width:1.0px;stroke-linecap:butt;stroke-linejoin:miter;stroke-opacity:1' />\n",
       "<path class='bond-23 atom-22 atom-23' d='M 553.4,104.4 L 538.8,127.3' style='fill:none;fill-rule:evenodd;stroke:#000000;stroke-width:1.0px;stroke-linecap:butt;stroke-linejoin:miter;stroke-opacity:1' />\n",
       "<path class='bond-24 atom-23 atom-24' d='M 533.1,127.1 L 548.4,156.2' style='fill:none;fill-rule:evenodd;stroke:#000000;stroke-width:1.0px;stroke-linecap:butt;stroke-linejoin:miter;stroke-opacity:1' />\n",
       "<path class='bond-25 atom-24 atom-25' d='M 548.4,156.2 L 581.2,157.6' style='fill:none;fill-rule:evenodd;stroke:#000000;stroke-width:1.0px;stroke-linecap:butt;stroke-linejoin:miter;stroke-opacity:1' />\n",
       "<path class='bond-25 atom-24 atom-25' d='M 551.4,151.4 L 578.6,152.6' style='fill:none;fill-rule:evenodd;stroke:#000000;stroke-width:1.0px;stroke-linecap:butt;stroke-linejoin:miter;stroke-opacity:1' />\n",
       "<path class='bond-26 atom-25 atom-26' d='M 581.2,157.6 L 598.9,129.9' style='fill:none;fill-rule:evenodd;stroke:#000000;stroke-width:1.0px;stroke-linecap:butt;stroke-linejoin:miter;stroke-opacity:1' />\n",
       "<path class='bond-27 atom-26 atom-27' d='M 598.9,129.9 L 631.8,131.3' style='fill:none;fill-rule:evenodd;stroke:#000000;stroke-width:1.0px;stroke-linecap:butt;stroke-linejoin:miter;stroke-opacity:1' />\n",
       "<path class='bond-27 atom-26 atom-27' d='M 601.9,125.1 L 629.1,126.2' style='fill:none;fill-rule:evenodd;stroke:#000000;stroke-width:1.0px;stroke-linecap:butt;stroke-linejoin:miter;stroke-opacity:1' />\n",
       "<path class='bond-28 atom-27 atom-28' d='M 631.8,131.3 L 637.9,143.0' style='fill:none;fill-rule:evenodd;stroke:#000000;stroke-width:1.0px;stroke-linecap:butt;stroke-linejoin:miter;stroke-opacity:1' />\n",
       "<path class='bond-28 atom-27 atom-28' d='M 637.9,143.0 L 644.0,154.7' style='fill:none;fill-rule:evenodd;stroke:#7F4C19;stroke-width:1.0px;stroke-linecap:butt;stroke-linejoin:miter;stroke-opacity:1' />\n",
       "<path class='bond-29 atom-27 atom-29' d='M 631.8,131.3 L 649.4,103.5' style='fill:none;fill-rule:evenodd;stroke:#000000;stroke-width:1.0px;stroke-linecap:butt;stroke-linejoin:miter;stroke-opacity:1' />\n",
       "<path class='bond-30 atom-29 atom-30' d='M 649.4,103.5 L 682.3,104.9' style='fill:none;fill-rule:evenodd;stroke:#000000;stroke-width:1.0px;stroke-linecap:butt;stroke-linejoin:miter;stroke-opacity:1' />\n",
       "<path class='bond-30 atom-29 atom-30' d='M 652.5,98.7 L 679.6,99.8' style='fill:none;fill-rule:evenodd;stroke:#000000;stroke-width:1.0px;stroke-linecap:butt;stroke-linejoin:miter;stroke-opacity:1' />\n",
       "<path class='bond-31 atom-30 atom-31' d='M 682.3,104.9 L 699.9,77.1' style='fill:none;fill-rule:evenodd;stroke:#000000;stroke-width:1.0px;stroke-linecap:butt;stroke-linejoin:miter;stroke-opacity:1' />\n",
       "<path class='bond-32 atom-31 atom-32' d='M 699.9,77.1 L 684.7,47.9' style='fill:none;fill-rule:evenodd;stroke:#000000;stroke-width:1.0px;stroke-linecap:butt;stroke-linejoin:miter;stroke-opacity:1' />\n",
       "<path class='bond-32 atom-31 atom-32' d='M 694.2,76.9 L 681.7,52.8' style='fill:none;fill-rule:evenodd;stroke:#000000;stroke-width:1.0px;stroke-linecap:butt;stroke-linejoin:miter;stroke-opacity:1' />\n",
       "<path class='bond-33 atom-32 atom-33' d='M 684.7,47.9 L 651.8,46.6' style='fill:none;fill-rule:evenodd;stroke:#000000;stroke-width:1.0px;stroke-linecap:butt;stroke-linejoin:miter;stroke-opacity:1' />\n",
       "<path class='bond-34 atom-33 atom-34' d='M 651.8,46.6 L 634.2,74.3' style='fill:none;fill-rule:evenodd;stroke:#000000;stroke-width:1.0px;stroke-linecap:butt;stroke-linejoin:miter;stroke-opacity:1' />\n",
       "<path class='bond-34 atom-33 atom-34' d='M 654.5,51.6 L 639.9,74.6' style='fill:none;fill-rule:evenodd;stroke:#000000;stroke-width:1.0px;stroke-linecap:butt;stroke-linejoin:miter;stroke-opacity:1' />\n",
       "<path class='bond-35 atom-34 atom-35' d='M 634.2,74.3 L 601.3,72.9' style='fill:none;fill-rule:evenodd;stroke:#000000;stroke-width:1.0px;stroke-linecap:butt;stroke-linejoin:miter;stroke-opacity:1' />\n",
       "<path class='bond-36 atom-35 atom-36' d='M 601.3,72.9 L 583.7,100.7' style='fill:none;fill-rule:evenodd;stroke:#000000;stroke-width:1.0px;stroke-linecap:butt;stroke-linejoin:miter;stroke-opacity:1' />\n",
       "<path class='bond-36 atom-35 atom-36' d='M 603.9,78.0 L 589.4,100.9' style='fill:none;fill-rule:evenodd;stroke:#000000;stroke-width:1.0px;stroke-linecap:butt;stroke-linejoin:miter;stroke-opacity:1' />\n",
       "<path class='bond-37 atom-36 atom-22' d='M 583.7,100.7 L 550.8,99.3' style='fill:none;fill-rule:evenodd;stroke:#000000;stroke-width:1.0px;stroke-linecap:butt;stroke-linejoin:miter;stroke-opacity:1' />\n",
       "<path class='bond-38 atom-36 atom-26' d='M 583.7,100.7 L 598.9,129.9' style='fill:none;fill-rule:evenodd;stroke:#000000;stroke-width:1.0px;stroke-linecap:butt;stroke-linejoin:miter;stroke-opacity:1' />\n",
       "<path class='bond-39 atom-34 atom-29' d='M 634.2,74.3 L 649.4,103.5' style='fill:none;fill-rule:evenodd;stroke:#000000;stroke-width:1.0px;stroke-linecap:butt;stroke-linejoin:miter;stroke-opacity:1' />\n",
       "<path class='atom-0' d='M 482.6 39.3\n",
       "Q 483.5 39.6, 483.9 40.1\n",
       "Q 484.4 40.7, 484.4 41.5\n",
       "Q 484.4 42.8, 483.6 43.5\n",
       "Q 482.8 44.2, 481.2 44.2\n",
       "L 478.1 44.2\n",
       "L 478.1 34.9\n",
       "L 480.8 34.9\n",
       "Q 482.4 34.9, 483.2 35.5\n",
       "Q 484.0 36.2, 484.0 37.4\n",
       "Q 484.0 38.8, 482.6 39.3\n",
       "M 479.3 36.0\n",
       "L 479.3 38.9\n",
       "L 480.8 38.9\n",
       "Q 481.7 38.9, 482.2 38.5\n",
       "Q 482.7 38.1, 482.7 37.4\n",
       "Q 482.7 36.0, 480.8 36.0\n",
       "L 479.3 36.0\n",
       "M 481.2 43.2\n",
       "Q 482.1 43.2, 482.6 42.7\n",
       "Q 483.1 42.3, 483.1 41.5\n",
       "Q 483.1 40.7, 482.5 40.3\n",
       "Q 482.0 39.9, 481.0 39.9\n",
       "L 479.3 39.9\n",
       "L 479.3 43.2\n",
       "L 481.2 43.2\n",
       "' fill='#7F4C19'/>\n",
       "<path class='atom-0' d='M 486.5 37.5\n",
       "L 486.7 38.4\n",
       "Q 487.4 37.3, 488.5 37.3\n",
       "Q 488.9 37.3, 489.4 37.5\n",
       "L 489.2 38.6\n",
       "Q 488.6 38.4, 488.3 38.4\n",
       "Q 487.8 38.4, 487.4 38.7\n",
       "Q 487.0 38.9, 486.7 39.4\n",
       "L 486.7 44.2\n",
       "L 485.5 44.2\n",
       "L 485.5 37.5\n",
       "L 486.5 37.5\n",
       "' fill='#7F4C19'/>\n",
       "<path class='atom-9' d='M 648.4 160.2\n",
       "Q 649.2 160.4, 649.7 161.0\n",
       "Q 650.2 161.5, 650.2 162.3\n",
       "Q 650.2 163.6, 649.3 164.4\n",
       "Q 648.5 165.1, 647.0 165.1\n",
       "L 643.8 165.1\n",
       "L 643.8 155.8\n",
       "L 646.6 155.8\n",
       "Q 648.2 155.8, 649.0 156.4\n",
       "Q 649.8 157.1, 649.8 158.3\n",
       "Q 649.8 159.7, 648.4 160.2\n",
       "M 645.1 156.8\n",
       "L 645.1 159.8\n",
       "L 646.6 159.8\n",
       "Q 647.5 159.8, 648.0 159.4\n",
       "Q 648.5 159.0, 648.5 158.3\n",
       "Q 648.5 156.8, 646.6 156.8\n",
       "L 645.1 156.8\n",
       "M 647.0 164.0\n",
       "Q 647.9 164.0, 648.4 163.6\n",
       "Q 648.8 163.2, 648.8 162.3\n",
       "Q 648.8 161.6, 648.3 161.2\n",
       "Q 647.8 160.8, 646.8 160.8\n",
       "L 645.1 160.8\n",
       "L 645.1 164.0\n",
       "L 647.0 164.0\n",
       "' fill='#7F4C19'/>\n",
       "<path class='atom-9' d='M 652.3 158.3\n",
       "L 652.4 159.3\n",
       "Q 653.1 158.2, 654.3 158.2\n",
       "Q 654.7 158.2, 655.2 158.3\n",
       "L 655.0 159.4\n",
       "Q 654.4 159.3, 654.1 159.3\n",
       "Q 653.5 159.3, 653.2 159.5\n",
       "Q 652.8 159.8, 652.5 160.3\n",
       "L 652.5 165.1\n",
       "L 651.3 165.1\n",
       "L 651.3 158.3\n",
       "L 652.3 158.3\n",
       "' fill='#7F4C19'/>\n",
       "<path d='M 413.0,100.0 L 465.0,100.0' style='fill:none;fill-rule:evenodd;stroke:#000000;stroke-width:1.0px;stroke-linecap:butt;stroke-linejoin:miter;stroke-opacity:1' />\n",
       "<path d='M 465.0,100.0 L 460.0,102.9' style='fill:none;fill-rule:evenodd;stroke:#000000;stroke-width:1.0px;stroke-linecap:butt;stroke-linejoin:miter;stroke-opacity:1' />\n",
       "<path d='M 465.0,100.0 L 460.0,97.1' style='fill:none;fill-rule:evenodd;stroke:#000000;stroke-width:1.0px;stroke-linecap:butt;stroke-linejoin:miter;stroke-opacity:1' />\n",
       "</svg>\n",
       "<div style='padding: 32px'><h3><u>Reaction Result</u> <reverse> CACHED </reverse></h3>\n",
       "<span style=\"color: #ccc\">+</span>  BrBr <br> \n",
       "<span style=\"color: #ccc\">+</span>  c1ccc2cc3ccccc3cc2c1CCO<br>   <span style=\"color: #ccc\">-------------------------</span><br><span style=\"color: #ccc\">=></span> <span style=\"color: #dc0\">BrCCc1cccc2c(Br)c3ccccc3cc12</span><br> <br> \n",
       "\n",
       "<div style='width:300px;height:5px;background:#eee;'><div style='background:#dc0;width:195.0px;height:100%;'></div></div>\n",
       "<span style='color:#dc0'>65.0%</span> <span style='color:#ccc'>confidence</span></div></div>"
      ],
      "text/plain": [
       "<IPython.core.display.HTML object>"
      ]
     },
     "metadata": {},
     "output_type": "display_data"
    }
   ],
   "source": [
    "# Cached\n",
    "%openad rxn predict reaction 'BrBr.c1ccc2cc3ccccc3cc2c1CCO'"
   ]
  },
  {
   "cell_type": "code",
   "execution_count": null,
   "id": "3d8e2068-2f8f-42fb-aad2-75afa7e58855",
   "metadata": {},
   "outputs": [],
   "source": [
    "# No cache\n",
    "%openad rxn predict reaction 'BrBr.c1ccc2cc3ccccc3cc2c1CCO' no cache"
   ]
  },
  {
   "cell_type": "code",
   "execution_count": null,
   "id": "0c263105-2b78-4108-b579-5b47ad62b57e",
   "metadata": {
    "tags": []
   },
   "outputs": [],
   "source": [
    "# Invalid\n",
    "%openad rxn predict reaction 'BrBr.ABD.c1ccc2cc3ccccc3cc2c1CCO'"
   ]
  },
  {
   "cell_type": "code",
   "execution_count": 20,
   "id": "56792ae9-0ef1-401d-810c-b0f5baf64e2b",
   "metadata": {
    "tags": []
   },
   "outputs": [
    {
     "data": {
      "text/html": [
       "<div>\n",
       "<style scoped>\n",
       "    .dataframe tbody tr th:only-of-type {\n",
       "        vertical-align: middle;\n",
       "    }\n",
       "\n",
       "    .dataframe tbody tr th {\n",
       "        vertical-align: top;\n",
       "    }\n",
       "\n",
       "    .dataframe thead th {\n",
       "        text-align: right;\n",
       "    }\n",
       "</style>\n",
       "<table border=\"1\" class=\"dataframe\">\n",
       "  <thead>\n",
       "    <tr style=\"text-align: right;\">\n",
       "      <th></th>\n",
       "      <th>input</th>\n",
       "      <th>input_1</th>\n",
       "      <th>input_2</th>\n",
       "      <th>output</th>\n",
       "      <th>reaction</th>\n",
       "      <th>from_cache</th>\n",
       "      <th>confidence</th>\n",
       "      <th>photochemical</th>\n",
       "      <th>thermal</th>\n",
       "    </tr>\n",
       "  </thead>\n",
       "  <tbody>\n",
       "    <tr>\n",
       "      <th>0</th>\n",
       "      <td>[BrBr, c1ccc2cc3ccccc3cc2c1CCO]</td>\n",
       "      <td>BrBr</td>\n",
       "      <td>c1ccc2cc3ccccc3cc2c1CCO</td>\n",
       "      <td>BrCCc1cccc2c(Br)c3ccccc3cc12</td>\n",
       "      <td>BrBr.OCCc1cccc2cc3ccccc3cc12&gt;&gt;BrCCc1cccc2c(Br)...</td>\n",
       "      <td>True</td>\n",
       "      <td>0.649979</td>\n",
       "      <td>False</td>\n",
       "      <td>False</td>\n",
       "    </tr>\n",
       "  </tbody>\n",
       "</table>\n",
       "</div>"
      ],
      "text/plain": [
       "                             input input_1                  input_2   \n",
       "0  [BrBr, c1ccc2cc3ccccc3cc2c1CCO]    BrBr  c1ccc2cc3ccccc3cc2c1CCO  \\\n",
       "\n",
       "                         output   \n",
       "0  BrCCc1cccc2c(Br)c3ccccc3cc12  \\\n",
       "\n",
       "                                            reaction  from_cache  confidence   \n",
       "0  BrBr.OCCc1cccc2cc3ccccc3cc12>>BrCCc1cccc2c(Br)...        True    0.649979  \\\n",
       "\n",
       "   photochemical  thermal  \n",
       "0          False    False  "
      ]
     },
     "execution_count": 20,
     "metadata": {},
     "output_type": "execute_result"
    }
   ],
   "source": [
    "# Data API\n",
    "data = %openadd rxn predict reaction 'BrBr.c1ccc2cc3ccccc3cc2c1CCO'\n",
    "data"
   ]
  },
  {
   "cell_type": "markdown",
   "id": "174c1574-1f30-4205-8011-8f517e385d41",
   "metadata": {},
   "source": [
    "<br>"
   ]
  },
  {
   "cell_type": "markdown",
   "id": "3fb732c6-941e-49b4-b0f5-5dfebe8efa70",
   "metadata": {
    "tags": []
   },
   "source": [
    "### Predict reactions from list"
   ]
  },
  {
   "cell_type": "code",
   "execution_count": null,
   "id": "5017bb46-4e43-4cac-a254-669c837ccce1",
   "metadata": {},
   "outputs": [],
   "source": [
    "# Regular\n",
    "%openad rxn predict reactions from list ['BrBr.c1ccc2cc3ccccc3cc2c1CCO' , 'BrBr.c1ccc2cc3ccccc3cc2c1', 'BrBr.ABC.c1ccc2cc3ccccc3cc2c1']"
   ]
  },
  {
   "cell_type": "code",
   "execution_count": null,
   "id": "7a3f45ce-d0be-4674-8750-a7d8ff44cc17",
   "metadata": {},
   "outputs": [],
   "source": [
    "# Cached\n",
    "%openad rxn predict reactions from list ['BrBr.c1ccc2cc3ccccc3cc2c1CCO' , 'BrBr.c1ccc2cc3ccccc3cc2c1', 'BrBr.ABC.c1ccc2cc3ccccc3cc2c1']"
   ]
  },
  {
   "cell_type": "code",
   "execution_count": null,
   "id": "3036e379-9dbb-4401-b2a3-1fde95e7196d",
   "metadata": {},
   "outputs": [],
   "source": [
    "# No cache\n",
    "%openad rxn predict reactions from list ['BrBr.c1ccc2cc3ccccc3cc2c1CCO' , 'BrBr.c1ccc2cc3ccccc3cc2c1', 'BrBr.ABC.c1ccc2cc3ccccc3cc2c1'] no cache"
   ]
  },
  {
   "cell_type": "code",
   "execution_count": 1,
   "id": "579e5256-e09a-4a3f-86b5-f07768023416",
   "metadata": {
    "tags": []
   },
   "outputs": [
    {
     "data": {
      "text/html": [
       "<div>\n",
       "<style scoped>\n",
       "    .dataframe tbody tr th:only-of-type {\n",
       "        vertical-align: middle;\n",
       "    }\n",
       "\n",
       "    .dataframe tbody tr th {\n",
       "        vertical-align: top;\n",
       "    }\n",
       "\n",
       "    .dataframe thead th {\n",
       "        text-align: right;\n",
       "    }\n",
       "</style>\n",
       "<table border=\"1\" class=\"dataframe\">\n",
       "  <thead>\n",
       "    <tr style=\"text-align: right;\">\n",
       "      <th></th>\n",
       "      <th>input</th>\n",
       "      <th>input_1</th>\n",
       "      <th>input_2</th>\n",
       "      <th>input_3</th>\n",
       "      <th>output</th>\n",
       "      <th>reaction</th>\n",
       "      <th>from_cache</th>\n",
       "      <th>confidence</th>\n",
       "      <th>photochemical</th>\n",
       "      <th>thermal</th>\n",
       "      <th>error_message</th>\n",
       "      <th>invalid_smiles</th>\n",
       "    </tr>\n",
       "  </thead>\n",
       "  <tbody>\n",
       "    <tr>\n",
       "      <th>0</th>\n",
       "      <td>[BrBr, c1ccc2cc3ccccc3cc2c1CCO]</td>\n",
       "      <td>BrBr</td>\n",
       "      <td>c1ccc2cc3ccccc3cc2c1CCO</td>\n",
       "      <td></td>\n",
       "      <td>BrCCc1cccc2c(Br)c3ccccc3cc12</td>\n",
       "      <td>BrBr.OCCc1cccc2cc3ccccc3cc12&gt;&gt;BrCCc1cccc2c(Br)...</td>\n",
       "      <td>True</td>\n",
       "      <td>0.649979</td>\n",
       "      <td>False</td>\n",
       "      <td>False</td>\n",
       "      <td></td>\n",
       "      <td></td>\n",
       "    </tr>\n",
       "    <tr>\n",
       "      <th>1</th>\n",
       "      <td>[BrBr, c1ccc2cc3ccccc3cc2c1]</td>\n",
       "      <td>BrBr</td>\n",
       "      <td>c1ccc2cc3ccccc3cc2c1</td>\n",
       "      <td></td>\n",
       "      <td>Brc1c2ccccc2cc2ccccc12</td>\n",
       "      <td>BrBr.c1ccc2cc3ccccc3cc2c1&gt;&gt;Brc1c2ccccc2cc2ccccc12</td>\n",
       "      <td>True</td>\n",
       "      <td>0.979795</td>\n",
       "      <td>False</td>\n",
       "      <td>False</td>\n",
       "      <td></td>\n",
       "      <td></td>\n",
       "    </tr>\n",
       "    <tr>\n",
       "      <th>2</th>\n",
       "      <td>[BrBr, ABC, c1ccc2cc3ccccc3cc2c1]</td>\n",
       "      <td>BrBr</td>\n",
       "      <td>ABC</td>\n",
       "      <td>c1ccc2cc3ccccc3cc2c1</td>\n",
       "      <td></td>\n",
       "      <td></td>\n",
       "      <td></td>\n",
       "      <td></td>\n",
       "      <td></td>\n",
       "      <td></td>\n",
       "      <td>Invalid smiles</td>\n",
       "      <td>[ABC]</td>\n",
       "    </tr>\n",
       "  </tbody>\n",
       "</table>\n",
       "</div>"
      ],
      "text/plain": [
       "                               input input_1                  input_2   \n",
       "0    [BrBr, c1ccc2cc3ccccc3cc2c1CCO]    BrBr  c1ccc2cc3ccccc3cc2c1CCO  \\\n",
       "1       [BrBr, c1ccc2cc3ccccc3cc2c1]    BrBr     c1ccc2cc3ccccc3cc2c1   \n",
       "2  [BrBr, ABC, c1ccc2cc3ccccc3cc2c1]    BrBr                      ABC   \n",
       "\n",
       "                input_3                        output   \n",
       "0                        BrCCc1cccc2c(Br)c3ccccc3cc12  \\\n",
       "1                              Brc1c2ccccc2cc2ccccc12   \n",
       "2  c1ccc2cc3ccccc3cc2c1                                 \n",
       "\n",
       "                                            reaction from_cache confidence   \n",
       "0  BrBr.OCCc1cccc2cc3ccccc3cc12>>BrCCc1cccc2c(Br)...       True   0.649979  \\\n",
       "1  BrBr.c1ccc2cc3ccccc3cc2c1>>Brc1c2ccccc2cc2ccccc12       True   0.979795   \n",
       "2                                                                            \n",
       "\n",
       "  photochemical thermal   error_message invalid_smiles  \n",
       "0         False   False                                 \n",
       "1         False   False                                 \n",
       "2                        Invalid smiles          [ABC]  "
      ]
     },
     "execution_count": 1,
     "metadata": {},
     "output_type": "execute_result"
    }
   ],
   "source": [
    "# Data API\n",
    "data = %openadd rxn predict reactions from list ['BrBr.c1ccc2cc3ccccc3cc2c1CCO' , 'BrBr.c1ccc2cc3ccccc3cc2c1', 'BrBr.ABC.c1ccc2cc3ccccc3cc2c1']\n",
    "data"
   ]
  },
  {
   "cell_type": "markdown",
   "id": "3fdee083-56e5-4109-8337-25f0c5e25a2d",
   "metadata": {},
   "source": [
    "<br>"
   ]
  },
  {
   "cell_type": "markdown",
   "id": "fd6a2ac8-a2b0-42fd-bc74-c7ba7daa7430",
   "metadata": {
    "tags": []
   },
   "source": [
    "### Predict reactions from file"
   ]
  },
  {
   "cell_type": "code",
   "execution_count": null,
   "id": "fc70234f-123c-47cd-8684-06923f7fcca1",
   "metadata": {},
   "outputs": [],
   "source": [
    "# Regular\n",
    "%openad rxn predict reactions from file 'my_reactions.csv'"
   ]
  },
  {
   "cell_type": "code",
   "execution_count": null,
   "id": "2ace0594-baa9-4aba-b074-e0fc7b78b174",
   "metadata": {},
   "outputs": [],
   "source": [
    "# Cached\n",
    "%openad rxn predict reactions from file 'my_reactions.csv'"
   ]
  },
  {
   "cell_type": "code",
   "execution_count": null,
   "id": "072e5396-5650-4d63-9834-d4a89d0791f8",
   "metadata": {},
   "outputs": [],
   "source": [
    "# No cache\n",
    "%openad rxn predict reactions from file 'my_reactions.csv' no cache"
   ]
  },
  {
   "cell_type": "code",
   "execution_count": 2,
   "id": "e8e4bf75-93ab-4aff-89c3-64a458aebded",
   "metadata": {
    "tags": []
   },
   "outputs": [
    {
     "data": {
      "text/html": [
       "<div>\n",
       "<style scoped>\n",
       "    .dataframe tbody tr th:only-of-type {\n",
       "        vertical-align: middle;\n",
       "    }\n",
       "\n",
       "    .dataframe tbody tr th {\n",
       "        vertical-align: top;\n",
       "    }\n",
       "\n",
       "    .dataframe thead th {\n",
       "        text-align: right;\n",
       "    }\n",
       "</style>\n",
       "<table border=\"1\" class=\"dataframe\">\n",
       "  <thead>\n",
       "    <tr style=\"text-align: right;\">\n",
       "      <th></th>\n",
       "      <th>input</th>\n",
       "      <th>input_1</th>\n",
       "      <th>input_2</th>\n",
       "      <th>input_3</th>\n",
       "      <th>output</th>\n",
       "      <th>reaction</th>\n",
       "      <th>from_cache</th>\n",
       "      <th>confidence</th>\n",
       "      <th>photochemical</th>\n",
       "      <th>thermal</th>\n",
       "      <th>error_message</th>\n",
       "      <th>invalid_smiles</th>\n",
       "    </tr>\n",
       "  </thead>\n",
       "  <tbody>\n",
       "    <tr>\n",
       "      <th>0</th>\n",
       "      <td>[BrBr, c1ccc2cc3ccccc3cc2c1]</td>\n",
       "      <td>BrBr</td>\n",
       "      <td>c1ccc2cc3ccccc3cc2c1</td>\n",
       "      <td></td>\n",
       "      <td>Brc1c2ccccc2cc2ccccc12</td>\n",
       "      <td>BrBr.c1ccc2cc3ccccc3cc2c1&gt;&gt;Brc1c2ccccc2cc2ccccc12</td>\n",
       "      <td>True</td>\n",
       "      <td>0.979795</td>\n",
       "      <td>False</td>\n",
       "      <td>False</td>\n",
       "      <td></td>\n",
       "      <td></td>\n",
       "    </tr>\n",
       "    <tr>\n",
       "      <th>1</th>\n",
       "      <td>[BrBr, c1ccc2cc3ccccc3cc2c1CCO]</td>\n",
       "      <td>BrBr</td>\n",
       "      <td>c1ccc2cc3ccccc3cc2c1CCO</td>\n",
       "      <td></td>\n",
       "      <td>BrCCc1cccc2c(Br)c3ccccc3cc12</td>\n",
       "      <td>BrBr.OCCc1cccc2cc3ccccc3cc12&gt;&gt;BrCCc1cccc2c(Br)...</td>\n",
       "      <td>True</td>\n",
       "      <td>0.649979</td>\n",
       "      <td>False</td>\n",
       "      <td>False</td>\n",
       "      <td></td>\n",
       "      <td></td>\n",
       "    </tr>\n",
       "    <tr>\n",
       "      <th>2</th>\n",
       "      <td>[BrBr, ABC, c1ccc2cc3ccccc3cc2c1CCO]</td>\n",
       "      <td>BrBr</td>\n",
       "      <td>ABC</td>\n",
       "      <td>c1ccc2cc3ccccc3cc2c1CCO</td>\n",
       "      <td></td>\n",
       "      <td></td>\n",
       "      <td></td>\n",
       "      <td></td>\n",
       "      <td></td>\n",
       "      <td></td>\n",
       "      <td>Invalid smiles</td>\n",
       "      <td>[ABC]</td>\n",
       "    </tr>\n",
       "  </tbody>\n",
       "</table>\n",
       "</div>"
      ],
      "text/plain": [
       "                                  input input_1                  input_2   \n",
       "0          [BrBr, c1ccc2cc3ccccc3cc2c1]    BrBr     c1ccc2cc3ccccc3cc2c1  \\\n",
       "1       [BrBr, c1ccc2cc3ccccc3cc2c1CCO]    BrBr  c1ccc2cc3ccccc3cc2c1CCO   \n",
       "2  [BrBr, ABC, c1ccc2cc3ccccc3cc2c1CCO]    BrBr                      ABC   \n",
       "\n",
       "                   input_3                        output   \n",
       "0                                 Brc1c2ccccc2cc2ccccc12  \\\n",
       "1                           BrCCc1cccc2c(Br)c3ccccc3cc12   \n",
       "2  c1ccc2cc3ccccc3cc2c1CCO                                 \n",
       "\n",
       "                                            reaction from_cache confidence   \n",
       "0  BrBr.c1ccc2cc3ccccc3cc2c1>>Brc1c2ccccc2cc2ccccc12       True   0.979795  \\\n",
       "1  BrBr.OCCc1cccc2cc3ccccc3cc12>>BrCCc1cccc2c(Br)...       True   0.649979   \n",
       "2                                                                            \n",
       "\n",
       "  photochemical thermal   error_message invalid_smiles  \n",
       "0         False   False                                 \n",
       "1         False   False                                 \n",
       "2                        Invalid smiles          [ABC]  "
      ]
     },
     "execution_count": 2,
     "metadata": {},
     "output_type": "execute_result"
    }
   ],
   "source": [
    "# Data API\n",
    "data = %openadd rxn predict reactions from file 'my_reactions.csv'\n",
    "data"
   ]
  },
  {
   "cell_type": "markdown",
   "id": "17be2170-ce0b-4259-8605-8e61e6eeb5aa",
   "metadata": {},
   "source": [
    "<br>"
   ]
  },
  {
   "cell_type": "markdown",
   "id": "96abc4dc-a57a-4d27-b108-7a51d3857e22",
   "metadata": {
    "tags": []
   },
   "source": [
    "### Predict reactions from dataframe"
   ]
  },
  {
   "cell_type": "code",
   "execution_count": 6,
   "id": "80b2cb47-1991-4b7b-9dfb-fbe3a1561a8d",
   "metadata": {
    "tags": []
   },
   "outputs": [],
   "source": [
    "import pandas as pd\n",
    "my_reactions_df = pd.read_csv(reactions_csv_path)"
   ]
  },
  {
   "cell_type": "code",
   "execution_count": null,
   "id": "36ceab54-5918-462c-8f99-a543640efdd7",
   "metadata": {
    "tags": []
   },
   "outputs": [],
   "source": [
    "# Regular\n",
    "%openad rxn predict reactions from dataframe my_reactions_df"
   ]
  },
  {
   "cell_type": "code",
   "execution_count": null,
   "id": "d8427091-c875-450f-a967-a5a5c6aebf65",
   "metadata": {
    "tags": []
   },
   "outputs": [],
   "source": [
    "# Cached\n",
    "%openad rxn predict reactions from dataframe my_reactions_df"
   ]
  },
  {
   "cell_type": "code",
   "execution_count": null,
   "id": "cf371f59-3fc2-428a-900d-f5f46265bb15",
   "metadata": {
    "tags": []
   },
   "outputs": [],
   "source": [
    "# No cache\n",
    "%openad rxn predict reactions from dataframe my_reactions_df no cache"
   ]
  },
  {
   "cell_type": "code",
   "execution_count": 7,
   "id": "9e1d0ccb-3827-4bb4-a967-78b035902bb6",
   "metadata": {
    "tags": []
   },
   "outputs": [
    {
     "data": {
      "text/html": [
       "<div>\n",
       "<style scoped>\n",
       "    .dataframe tbody tr th:only-of-type {\n",
       "        vertical-align: middle;\n",
       "    }\n",
       "\n",
       "    .dataframe tbody tr th {\n",
       "        vertical-align: top;\n",
       "    }\n",
       "\n",
       "    .dataframe thead th {\n",
       "        text-align: right;\n",
       "    }\n",
       "</style>\n",
       "<table border=\"1\" class=\"dataframe\">\n",
       "  <thead>\n",
       "    <tr style=\"text-align: right;\">\n",
       "      <th></th>\n",
       "      <th>input</th>\n",
       "      <th>input_1</th>\n",
       "      <th>input_2</th>\n",
       "      <th>input_3</th>\n",
       "      <th>output</th>\n",
       "      <th>reaction</th>\n",
       "      <th>from_cache</th>\n",
       "      <th>confidence</th>\n",
       "      <th>photochemical</th>\n",
       "      <th>thermal</th>\n",
       "      <th>error_message</th>\n",
       "      <th>invalid_smiles</th>\n",
       "    </tr>\n",
       "  </thead>\n",
       "  <tbody>\n",
       "    <tr>\n",
       "      <th>0</th>\n",
       "      <td>[BrBr, c1ccc2cc3ccccc3cc2c1]</td>\n",
       "      <td>BrBr</td>\n",
       "      <td>c1ccc2cc3ccccc3cc2c1</td>\n",
       "      <td></td>\n",
       "      <td>Brc1c2ccccc2cc2ccccc12</td>\n",
       "      <td>BrBr.c1ccc2cc3ccccc3cc2c1&gt;&gt;Brc1c2ccccc2cc2ccccc12</td>\n",
       "      <td>True</td>\n",
       "      <td>0.979795</td>\n",
       "      <td>False</td>\n",
       "      <td>False</td>\n",
       "      <td></td>\n",
       "      <td></td>\n",
       "    </tr>\n",
       "    <tr>\n",
       "      <th>1</th>\n",
       "      <td>[BrBr, c1ccc2cc3ccccc3cc2c1CCO]</td>\n",
       "      <td>BrBr</td>\n",
       "      <td>c1ccc2cc3ccccc3cc2c1CCO</td>\n",
       "      <td></td>\n",
       "      <td>BrCCc1cccc2c(Br)c3ccccc3cc12</td>\n",
       "      <td>BrBr.OCCc1cccc2cc3ccccc3cc12&gt;&gt;BrCCc1cccc2c(Br)...</td>\n",
       "      <td>True</td>\n",
       "      <td>0.649979</td>\n",
       "      <td>False</td>\n",
       "      <td>False</td>\n",
       "      <td></td>\n",
       "      <td></td>\n",
       "    </tr>\n",
       "    <tr>\n",
       "      <th>2</th>\n",
       "      <td>[BrBr, ABC, c1ccc2cc3ccccc3cc2c1CCO]</td>\n",
       "      <td>BrBr</td>\n",
       "      <td>ABC</td>\n",
       "      <td>c1ccc2cc3ccccc3cc2c1CCO</td>\n",
       "      <td></td>\n",
       "      <td></td>\n",
       "      <td></td>\n",
       "      <td></td>\n",
       "      <td></td>\n",
       "      <td></td>\n",
       "      <td>Invalid smiles</td>\n",
       "      <td>[ABC]</td>\n",
       "    </tr>\n",
       "  </tbody>\n",
       "</table>\n",
       "</div>"
      ],
      "text/plain": [
       "                                  input input_1                  input_2   \n",
       "0          [BrBr, c1ccc2cc3ccccc3cc2c1]    BrBr     c1ccc2cc3ccccc3cc2c1  \\\n",
       "1       [BrBr, c1ccc2cc3ccccc3cc2c1CCO]    BrBr  c1ccc2cc3ccccc3cc2c1CCO   \n",
       "2  [BrBr, ABC, c1ccc2cc3ccccc3cc2c1CCO]    BrBr                      ABC   \n",
       "\n",
       "                   input_3                        output   \n",
       "0                                 Brc1c2ccccc2cc2ccccc12  \\\n",
       "1                           BrCCc1cccc2c(Br)c3ccccc3cc12   \n",
       "2  c1ccc2cc3ccccc3cc2c1CCO                                 \n",
       "\n",
       "                                            reaction from_cache confidence   \n",
       "0  BrBr.c1ccc2cc3ccccc3cc2c1>>Brc1c2ccccc2cc2ccccc12       True   0.979795  \\\n",
       "1  BrBr.OCCc1cccc2cc3ccccc3cc12>>BrCCc1cccc2c(Br)...       True   0.649979   \n",
       "2                                                                            \n",
       "\n",
       "  photochemical thermal   error_message invalid_smiles  \n",
       "0         False   False                                 \n",
       "1         False   False                                 \n",
       "2                        Invalid smiles          [ABC]  "
      ]
     },
     "execution_count": 7,
     "metadata": {},
     "output_type": "execute_result"
    }
   ],
   "source": [
    "# Data API\n",
    "data = %openadd rxn predict reactions from dataframe my_reactions_df\n",
    "data"
   ]
  }
 ],
 "metadata": {
  "kernelspec": {
   "display_name": "venv",
   "language": "python",
   "name": "venv"
  },
  "language_info": {
   "codemirror_mode": {
    "name": "ipython",
    "version": 3
   },
   "file_extension": ".py",
   "mimetype": "text/x-python",
   "name": "python",
   "nbconvert_exporter": "python",
   "pygments_lexer": "ipython3",
   "version": "3.10.14"
  }
 },
 "nbformat": 4,
 "nbformat_minor": 5
}
