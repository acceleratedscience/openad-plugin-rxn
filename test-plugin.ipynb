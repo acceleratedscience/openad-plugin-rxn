{
 "cells": [
  {
   "cell_type": "markdown",
   "id": "64dc2c17-4844-4a62-939c-a27c237e75eb",
   "metadata": {},
   "source": [
    "# Test RXN Plugin\n",
    "\n",
    "Just press `►►` and check for errors."
   ]
  },
  {
   "cell_type": "code",
   "execution_count": null,
   "id": "2fbcf733",
   "metadata": {
    "vscode": {
     "languageId": "plaintext"
    }
   },
   "outputs": [],
   "source": [
    "# tbc"
   ]
  }
 ],
 "metadata": {
  "kernelspec": {
   "display_name": "venv",
   "language": "python",
   "name": "venv"
  },
  "language_info": {
   "codemirror_mode": {
    "name": "ipython",
    "version": 3
   },
   "file_extension": ".py",
   "mimetype": "text/x-python",
   "name": "python",
   "nbconvert_exporter": "python",
   "pygments_lexer": "ipython3",
   "version": "3.10.14"
  }
 },
 "nbformat": 4,
 "nbformat_minor": 5
}
