{
 "cells": [
  {
   "cell_type": "code",
   "execution_count": null,
   "id": "45ea1423-ffef-4dac-97c7-2ace330fbf3b",
   "metadata": {
    "tags": []
   },
   "outputs": [],
   "source": [
    "%reload_ext openad.notebooks.styles"
   ]
  },
  {
   "cell_type": "markdown",
   "id": "64dc2c17-4844-4a62-939c-a27c237e75eb",
   "metadata": {
    "tags": []
   },
   "source": [
    "# Test RXN Plugin\n",
    "\n",
    "Just press `►►` and check for errors."
   ]
  },
  {
   "cell_type": "markdown",
   "id": "780ca710-ea32-4297-8ebd-acb6ff54e90e",
   "metadata": {},
   "source": [
    "<br>"
   ]
  },
  {
   "cell_type": "markdown",
   "id": "7bafdc38-ac19-4db2-819a-9854e3988fb3",
   "metadata": {
    "tags": []
   },
   "source": [
    "### Prep"
   ]
  },
  {
   "cell_type": "code",
   "execution_count": null,
   "id": "0ce89ab2-8736-460f-916a-c010d09aed5d",
   "metadata": {
    "tags": []
   },
   "outputs": [],
   "source": [
    "# Move test files into your workspace\n",
    "\n",
    "import os\n",
    "import pandas as pd\n",
    "\n",
    "# Recipe txt file\n",
    "recipe_path = os.path.join(os.getcwd(), 'files', 'my_recipe.txt')\n",
    "%openad import from '{recipe_path}' to 'my_recipe.txt'\n",
    "\n",
    "\n",
    "# Reactions csv file\n",
    "reactions_csv_path = os.path.join(os.getcwd(), 'files', 'my_reactions.csv')\n",
    "%openad import from '{reactions_csv_path}' to 'my_reactions.csv'\n",
    "\n",
    "# Reactions dataframe\n",
    "my_reactions_df = pd.read_csv(reactions_csv_path)"
   ]
  },
  {
   "cell_type": "markdown",
   "id": "cff25ff0-3aa1-4c18-857e-e62d6130ce5b",
   "metadata": {},
   "source": [
    "<br>"
   ]
  },
  {
   "cell_type": "markdown",
   "id": "d8c96588-446f-4504-ad7c-a4f51c40acda",
   "metadata": {
    "jp-MarkdownHeadingCollapsed": true,
    "tags": []
   },
   "source": [
    "## Plugin Help"
   ]
  },
  {
   "cell_type": "code",
   "execution_count": null,
   "id": "2fbcf733",
   "metadata": {
    "tags": [],
    "vscode": {
     "languageId": "plaintext"
    }
   },
   "outputs": [],
   "source": [
    "%openad rxn"
   ]
  },
  {
   "cell_type": "code",
   "execution_count": null,
   "id": "a8670447-8c8b-462c-b335-98ae6b5ee286",
   "metadata": {
    "tags": []
   },
   "outputs": [],
   "source": [
    "%openad rxn ?"
   ]
  },
  {
   "cell_type": "code",
   "execution_count": null,
   "id": "ada01cca-8887-449a-a110-044e4f62126b",
   "metadata": {
    "tags": []
   },
   "outputs": [],
   "source": [
    "%openad ? rxn"
   ]
  },
  {
   "cell_type": "markdown",
   "id": "99e26473-49f0-446b-b3e9-506d52a93d3c",
   "metadata": {
    "jp-MarkdownHeadingCollapsed": true,
    "tags": []
   },
   "source": [
    "## General"
   ]
  },
  {
   "cell_type": "markdown",
   "id": "0abefa8b-6278-40d6-af0b-58166e31f906",
   "metadata": {},
   "source": [
    "### Reset login"
   ]
  },
  {
   "cell_type": "code",
   "execution_count": null,
   "id": "444b70df-75cc-42f9-8297-1908dfee5e71",
   "metadata": {
    "tags": []
   },
   "outputs": [],
   "source": [
    "# Command help\n",
    "%openad rxn reset login ?"
   ]
  },
  {
   "cell_type": "code",
   "execution_count": null,
   "id": "23b0be1e-158a-4702-9b89-06aba3d749b0",
   "metadata": {
    "tags": []
   },
   "outputs": [],
   "source": [
    "from openad_tools.helpers import confirm_prompt\n",
    "if not confirm_prompt(\"Please confirm before deleting your RXN credentials\"):\n",
    "    raise Exception('Notebook execution aborted')"
   ]
  },
  {
   "cell_type": "code",
   "execution_count": null,
   "id": "873ec0c1-d682-4164-880a-c7aea9884648",
   "metadata": {},
   "outputs": [],
   "source": [
    "# Existing credentials\n",
    "%openad rxn reset login"
   ]
  },
  {
   "cell_type": "code",
   "execution_count": null,
   "id": "878857e8-eebc-4d9a-a930-081e906c2bc5",
   "metadata": {},
   "outputs": [],
   "source": [
    "# Non-existing credentials\n",
    "%openad rxn reset login"
   ]
  },
  {
   "cell_type": "markdown",
   "id": "5c277d72-55ba-4a79-8415-fbace08c4c17",
   "metadata": {
    "tags": []
   },
   "source": [
    "### List models"
   ]
  },
  {
   "cell_type": "code",
   "execution_count": null,
   "id": "e3c3ba29-3623-4f25-9a6b-fb17e94a2363",
   "metadata": {
    "tags": []
   },
   "outputs": [],
   "source": [
    "# Command help\n",
    "%openad rxn list models ?"
   ]
  },
  {
   "cell_type": "code",
   "execution_count": null,
   "id": "2e295203-dd59-4c49-99dd-d0254487a9af",
   "metadata": {
    "tags": []
   },
   "outputs": [],
   "source": [
    "# Regular\n",
    "%openad rxn list models"
   ]
  },
  {
   "cell_type": "code",
   "execution_count": null,
   "id": "8159d6c2-37d1-4dad-a506-cd5803a1178e",
   "metadata": {
    "tags": []
   },
   "outputs": [],
   "source": [
    "# Data API\n",
    "data = %openadd rxn list models\n",
    "data"
   ]
  },
  {
   "cell_type": "markdown",
   "id": "b6d295e4-2a9a-4b32-ab62-0c351ca12704",
   "metadata": {},
   "source": [
    "<br>"
   ]
  },
  {
   "cell_type": "markdown",
   "id": "8b992552-d2d8-417c-aa45-8dfcfb2175f7",
   "metadata": {
    "tags": []
   },
   "source": [
    "### Interpret recipe"
   ]
  },
  {
   "cell_type": "code",
   "execution_count": null,
   "id": "a71eb538-ed17-4a8a-b373-59cf06610445",
   "metadata": {
    "tags": []
   },
   "outputs": [],
   "source": [
    "# Command help\n",
    "%openad rxn interpret recipe ?"
   ]
  },
  {
   "cell_type": "code",
   "execution_count": null,
   "id": "341d643c-ec74-4c36-8290-87789702ad09",
   "metadata": {
    "tags": []
   },
   "outputs": [],
   "source": [
    "# From file\n",
    "%openad rxn interpret recipe 'my_recipe.txt'"
   ]
  },
  {
   "cell_type": "code",
   "execution_count": null,
   "id": "34ee1605-8b0a-4efa-b808-6c4f9eae7fa1",
   "metadata": {},
   "outputs": [],
   "source": [
    "# From string\n",
    "%openad rxn interpret recipe 'A solution of ((1S,2S)-1-{[(methoxymethyl-biphenyl-4-yl)-(2-pyridin-2-yl-cyclopropanecarbonyl)-amino]-methyl}-2-methyl-butyl)-carbamic acid tert-butyl ester (25 mg, 0.045 mmol) and dichloromethane (4 mL) was treated with a solution of HCl in dioxane (4 N, 0.5 mL) and the resulting reaction mixture was maintained at room temperature for 12 h. The reaction was then concentrated to dryness to afford (1R,2R)-2-pyridin-2-yl-cyclopropanecarboxylic acid ((2S,3S)-2-amino-3-methylpentyl)-(methoxymethyl-biphenyl-4-yl)-amide (18 mg, 95% yield) as a white solid.'"
   ]
  },
  {
   "cell_type": "code",
   "execution_count": null,
   "id": "7d8c6449-bec1-490a-b8b1-21c405b82aca",
   "metadata": {
    "tags": []
   },
   "outputs": [],
   "source": [
    "# Data API - from file\n",
    "data = %openadd rxn interpret recipe 'my_recipe.txt'\n",
    "data"
   ]
  },
  {
   "cell_type": "code",
   "execution_count": null,
   "id": "7071ff06-523f-483b-99a9-dae5a4713eca",
   "metadata": {
    "tags": []
   },
   "outputs": [],
   "source": [
    "# Data API - from string\n",
    "data = %openadd rxn interpret recipe 'A solution of ((1S,2S)-1-{[(methoxymethyl-biphenyl-4-yl)-(2-pyridin-2-yl-cyclopropanecarbonyl)-amino]-methyl}-2-methyl-butyl)-carbamic acid tert-butyl ester (25 mg, 0.045 mmol) and dichloromethane (4 mL) was treated with a solution of HCl in dioxane (4 N, 0.5 mL) and the resulting reaction mixture was maintained at room temperature for 12 h. The reaction was then concentrated to dryness to afford (1R,2R)-2-pyridin-2-yl-cyclopropanecarboxylic acid ((2S,3S)-2-amino-3-methylpentyl)-(methoxymethyl-biphenyl-4-yl)-amide (18 mg, 95% yield) as a white solid.'\n",
    "data"
   ]
  },
  {
   "cell_type": "markdown",
   "id": "d997d937-064f-48e0-ab1e-d8005673303d",
   "metadata": {
    "tags": []
   },
   "source": [
    "## Prediction"
   ]
  },
  {
   "cell_type": "markdown",
   "id": "64e1a900-ff83-4e4d-83d9-d4ca70d0a91c",
   "metadata": {
    "jp-MarkdownHeadingCollapsed": true,
    "tags": []
   },
   "source": [
    "### Predict retrosynythesis"
   ]
  },
  {
   "cell_type": "code",
   "execution_count": null,
   "id": "fdd88cbe-6280-4a82-99f9-d0f9318e9210",
   "metadata": {},
   "outputs": [],
   "source": [
    "# Command help\n",
    "%openad rxn predict retrosynthesis ?"
   ]
  },
  {
   "cell_type": "code",
   "execution_count": null,
   "id": "031d6689-7cfc-4337-b0fe-ff1e3eb5927e",
   "metadata": {
    "tags": []
   },
   "outputs": [],
   "source": [
    "# Regular\n",
    "%openad rxn predict retrosynthesis 'BrCCc1cccc2c(Br)c3ccccc3cc12' using (max_steps=3)"
   ]
  },
  {
   "cell_type": "code",
   "execution_count": 3,
   "id": "35c9928a-5341-4de4-99aa-c1b760151eb1",
   "metadata": {
    "tags": []
   },
   "outputs": [
    {
     "data": {
      "text/html": [
       "<div style=\"width:300px; height: 300px; margin: 30px 0; border: solid 1px #ddd; display: inline-block; padding: 32px; position: relative\"><div style=\"position: absolute; top: 8px; left: 8px; font-size: 12px; line-height: 12px; color: #999;\">INPUT MOLECULE</div><?xml version='1.0' encoding='iso-8859-1'?>\n",
       "<svg version='1.1' baseProfile='full'\n",
       "              xmlns='http://www.w3.org/2000/svg'\n",
       "                      xmlns:rdkit='http://www.rdkit.org/xml'\n",
       "                      xmlns:xlink='http://www.w3.org/1999/xlink'\n",
       "                  xml:space='preserve'\n",
       "width='300px' height='300px' viewBox='0 0 300 300'>\n",
       "<!-- END OF HEADER -->\n",
       "<rect style='opacity:1.0;fill:#FFFFFF;stroke:none' width='300.0' height='300.0' x='0.0' y='0.0'> </rect>\n",
       "<path class='bond-0 atom-0 atom-1' d='M 30.1,83.4 L 37.5,97.7' style='fill:none;fill-rule:evenodd;stroke:#7F4C19;stroke-width:2.0px;stroke-linecap:butt;stroke-linejoin:miter;stroke-opacity:1' />\n",
       "<path class='bond-0 atom-0 atom-1' d='M 37.5,97.7 L 45.0,112.0' style='fill:none;fill-rule:evenodd;stroke:#000000;stroke-width:2.0px;stroke-linecap:butt;stroke-linejoin:miter;stroke-opacity:1' />\n",
       "<path class='bond-1 atom-1 atom-2' d='M 45.0,112.0 L 85.0,113.7' style='fill:none;fill-rule:evenodd;stroke:#000000;stroke-width:2.0px;stroke-linecap:butt;stroke-linejoin:miter;stroke-opacity:1' />\n",
       "<path class='bond-2 atom-2 atom-3' d='M 85.0,113.7 L 103.5,149.1' style='fill:none;fill-rule:evenodd;stroke:#000000;stroke-width:2.0px;stroke-linecap:butt;stroke-linejoin:miter;stroke-opacity:1' />\n",
       "<path class='bond-3 atom-3 atom-4' d='M 103.5,149.1 L 82.0,182.9' style='fill:none;fill-rule:evenodd;stroke:#000000;stroke-width:2.0px;stroke-linecap:butt;stroke-linejoin:miter;stroke-opacity:1' />\n",
       "<path class='bond-3 atom-3 atom-4' d='M 106.7,155.3 L 88.9,183.2' style='fill:none;fill-rule:evenodd;stroke:#000000;stroke-width:2.0px;stroke-linecap:butt;stroke-linejoin:miter;stroke-opacity:1' />\n",
       "<path class='bond-4 atom-4 atom-5' d='M 82.0,182.9 L 100.5,218.4' style='fill:none;fill-rule:evenodd;stroke:#000000;stroke-width:2.0px;stroke-linecap:butt;stroke-linejoin:miter;stroke-opacity:1' />\n",
       "<path class='bond-5 atom-5 atom-6' d='M 100.5,218.4 L 140.6,220.1' style='fill:none;fill-rule:evenodd;stroke:#000000;stroke-width:2.0px;stroke-linecap:butt;stroke-linejoin:miter;stroke-opacity:1' />\n",
       "<path class='bond-5 atom-5 atom-6' d='M 104.3,212.6 L 137.3,214.0' style='fill:none;fill-rule:evenodd;stroke:#000000;stroke-width:2.0px;stroke-linecap:butt;stroke-linejoin:miter;stroke-opacity:1' />\n",
       "<path class='bond-6 atom-6 atom-7' d='M 140.6,220.1 L 162.0,186.3' style='fill:none;fill-rule:evenodd;stroke:#000000;stroke-width:2.0px;stroke-linecap:butt;stroke-linejoin:miter;stroke-opacity:1' />\n",
       "<path class='bond-7 atom-7 atom-8' d='M 162.0,186.3 L 202.0,188.0' style='fill:none;fill-rule:evenodd;stroke:#000000;stroke-width:2.0px;stroke-linecap:butt;stroke-linejoin:miter;stroke-opacity:1' />\n",
       "<path class='bond-7 atom-7 atom-8' d='M 165.8,180.5 L 198.8,181.9' style='fill:none;fill-rule:evenodd;stroke:#000000;stroke-width:2.0px;stroke-linecap:butt;stroke-linejoin:miter;stroke-opacity:1' />\n",
       "<path class='bond-8 atom-8 atom-9' d='M 202.0,188.0 L 209.5,202.3' style='fill:none;fill-rule:evenodd;stroke:#000000;stroke-width:2.0px;stroke-linecap:butt;stroke-linejoin:miter;stroke-opacity:1' />\n",
       "<path class='bond-8 atom-8 atom-9' d='M 209.5,202.3 L 216.9,216.6' style='fill:none;fill-rule:evenodd;stroke:#7F4C19;stroke-width:2.0px;stroke-linecap:butt;stroke-linejoin:miter;stroke-opacity:1' />\n",
       "<path class='bond-9 atom-8 atom-10' d='M 202.0,188.0 L 223.5,154.3' style='fill:none;fill-rule:evenodd;stroke:#000000;stroke-width:2.0px;stroke-linecap:butt;stroke-linejoin:miter;stroke-opacity:1' />\n",
       "<path class='bond-10 atom-10 atom-11' d='M 223.5,154.3 L 263.5,156.0' style='fill:none;fill-rule:evenodd;stroke:#000000;stroke-width:2.0px;stroke-linecap:butt;stroke-linejoin:miter;stroke-opacity:1' />\n",
       "<path class='bond-10 atom-10 atom-11' d='M 227.2,148.4 L 260.3,149.8' style='fill:none;fill-rule:evenodd;stroke:#000000;stroke-width:2.0px;stroke-linecap:butt;stroke-linejoin:miter;stroke-opacity:1' />\n",
       "<path class='bond-11 atom-11 atom-12' d='M 263.5,156.0 L 285.0,122.2' style='fill:none;fill-rule:evenodd;stroke:#000000;stroke-width:2.0px;stroke-linecap:butt;stroke-linejoin:miter;stroke-opacity:1' />\n",
       "<path class='bond-12 atom-12 atom-13' d='M 285.0,122.2 L 266.5,86.7' style='fill:none;fill-rule:evenodd;stroke:#000000;stroke-width:2.0px;stroke-linecap:butt;stroke-linejoin:miter;stroke-opacity:1' />\n",
       "<path class='bond-12 atom-12 atom-13' d='M 278.1,121.9 L 262.7,92.5' style='fill:none;fill-rule:evenodd;stroke:#000000;stroke-width:2.0px;stroke-linecap:butt;stroke-linejoin:miter;stroke-opacity:1' />\n",
       "<path class='bond-13 atom-13 atom-14' d='M 266.5,86.7 L 226.5,85.0' style='fill:none;fill-rule:evenodd;stroke:#000000;stroke-width:2.0px;stroke-linecap:butt;stroke-linejoin:miter;stroke-opacity:1' />\n",
       "<path class='bond-14 atom-14 atom-15' d='M 226.5,85.0 L 205.0,118.8' style='fill:none;fill-rule:evenodd;stroke:#000000;stroke-width:2.0px;stroke-linecap:butt;stroke-linejoin:miter;stroke-opacity:1' />\n",
       "<path class='bond-14 atom-14 atom-15' d='M 229.7,91.1 L 211.9,119.0' style='fill:none;fill-rule:evenodd;stroke:#000000;stroke-width:2.0px;stroke-linecap:butt;stroke-linejoin:miter;stroke-opacity:1' />\n",
       "<path class='bond-15 atom-15 atom-16' d='M 205.0,118.8 L 165.0,117.1' style='fill:none;fill-rule:evenodd;stroke:#000000;stroke-width:2.0px;stroke-linecap:butt;stroke-linejoin:miter;stroke-opacity:1' />\n",
       "<path class='bond-16 atom-16 atom-17' d='M 165.0,117.1 L 143.5,150.9' style='fill:none;fill-rule:evenodd;stroke:#000000;stroke-width:2.0px;stroke-linecap:butt;stroke-linejoin:miter;stroke-opacity:1' />\n",
       "<path class='bond-16 atom-16 atom-17' d='M 168.2,123.2 L 150.4,151.1' style='fill:none;fill-rule:evenodd;stroke:#000000;stroke-width:2.0px;stroke-linecap:butt;stroke-linejoin:miter;stroke-opacity:1' />\n",
       "<path class='bond-17 atom-17 atom-3' d='M 143.5,150.9 L 103.5,149.1' style='fill:none;fill-rule:evenodd;stroke:#000000;stroke-width:2.0px;stroke-linecap:butt;stroke-linejoin:miter;stroke-opacity:1' />\n",
       "<path class='bond-18 atom-17 atom-7' d='M 143.5,150.9 L 162.0,186.3' style='fill:none;fill-rule:evenodd;stroke:#000000;stroke-width:2.0px;stroke-linecap:butt;stroke-linejoin:miter;stroke-opacity:1' />\n",
       "<path class='bond-19 atom-15 atom-10' d='M 205.0,118.8 L 223.5,154.3' style='fill:none;fill-rule:evenodd;stroke:#000000;stroke-width:2.0px;stroke-linecap:butt;stroke-linejoin:miter;stroke-opacity:1' />\n",
       "<path d='M 44.6,111.2 L 45.0,112.0 L 47.0,112.0' style='fill:none;stroke:#000000;stroke-width:2.0px;stroke-linecap:butt;stroke-linejoin:miter;stroke-opacity:1;' />\n",
       "<path d='M 83.0,113.6 L 85.0,113.7 L 85.9,115.4' style='fill:none;stroke:#000000;stroke-width:2.0px;stroke-linecap:butt;stroke-linejoin:miter;stroke-opacity:1;' />\n",
       "<path d='M 83.1,181.3 L 82.0,182.9 L 82.9,184.7' style='fill:none;stroke:#000000;stroke-width:2.0px;stroke-linecap:butt;stroke-linejoin:miter;stroke-opacity:1;' />\n",
       "<path d='M 99.6,216.7 L 100.5,218.4 L 102.5,218.5' style='fill:none;stroke:#000000;stroke-width:2.0px;stroke-linecap:butt;stroke-linejoin:miter;stroke-opacity:1;' />\n",
       "<path d='M 138.6,220.1 L 140.6,220.1 L 141.6,218.5' style='fill:none;stroke:#000000;stroke-width:2.0px;stroke-linecap:butt;stroke-linejoin:miter;stroke-opacity:1;' />\n",
       "<path d='M 261.5,155.9 L 263.5,156.0 L 264.6,154.3' style='fill:none;stroke:#000000;stroke-width:2.0px;stroke-linecap:butt;stroke-linejoin:miter;stroke-opacity:1;' />\n",
       "<path d='M 283.9,123.8 L 285.0,122.2 L 284.1,120.4' style='fill:none;stroke:#000000;stroke-width:2.0px;stroke-linecap:butt;stroke-linejoin:miter;stroke-opacity:1;' />\n",
       "<path d='M 267.4,88.4 L 266.5,86.7 L 264.5,86.6' style='fill:none;stroke:#000000;stroke-width:2.0px;stroke-linecap:butt;stroke-linejoin:miter;stroke-opacity:1;' />\n",
       "<path d='M 228.5,85.0 L 226.5,85.0 L 225.4,86.6' style='fill:none;stroke:#000000;stroke-width:2.0px;stroke-linecap:butt;stroke-linejoin:miter;stroke-opacity:1;' />\n",
       "<path d='M 167.0,117.1 L 165.0,117.1 L 163.9,118.7' style='fill:none;stroke:#000000;stroke-width:2.0px;stroke-linecap:butt;stroke-linejoin:miter;stroke-opacity:1;' />\n",
       "<path class='atom-0' d='M 20.5 76.2\n",
       "Q 21.6 76.5, 22.1 77.1\n",
       "Q 22.7 77.8, 22.7 78.8\n",
       "Q 22.7 80.3, 21.7 81.2\n",
       "Q 20.7 82.1, 18.8 82.1\n",
       "L 15.0 82.1\n",
       "L 15.0 70.8\n",
       "L 18.3 70.8\n",
       "Q 20.3 70.8, 21.3 71.6\n",
       "Q 22.2 72.4, 22.2 73.8\n",
       "Q 22.2 75.5, 20.5 76.2\n",
       "M 16.5 72.1\n",
       "L 16.5 75.6\n",
       "L 18.3 75.6\n",
       "Q 19.5 75.6, 20.0 75.2\n",
       "Q 20.6 74.7, 20.6 73.8\n",
       "Q 20.6 72.1, 18.3 72.1\n",
       "L 16.5 72.1\n",
       "M 18.8 80.8\n",
       "Q 19.9 80.8, 20.5 80.3\n",
       "Q 21.1 79.8, 21.1 78.8\n",
       "Q 21.1 77.8, 20.4 77.4\n",
       "Q 19.8 76.9, 18.6 76.9\n",
       "L 16.5 76.9\n",
       "L 16.5 80.8\n",
       "L 18.8 80.8\n",
       "' fill='#7F4C19'/>\n",
       "<path class='atom-0' d='M 25.3 73.9\n",
       "L 25.5 75.0\n",
       "Q 26.3 73.7, 27.7 73.7\n",
       "Q 28.2 73.7, 28.8 73.9\n",
       "L 28.5 75.3\n",
       "Q 27.9 75.1, 27.5 75.1\n",
       "Q 26.8 75.1, 26.4 75.4\n",
       "Q 25.9 75.6, 25.6 76.2\n",
       "L 25.6 82.1\n",
       "L 24.1 82.1\n",
       "L 24.1 73.9\n",
       "L 25.3 73.9\n",
       "' fill='#7F4C19'/>\n",
       "<path class='atom-9' d='M 222.2 223.3\n",
       "Q 223.3 223.6, 223.9 224.2\n",
       "Q 224.4 224.9, 224.4 225.9\n",
       "Q 224.4 227.4, 223.4 228.3\n",
       "Q 222.4 229.2, 220.5 229.2\n",
       "L 216.7 229.2\n",
       "L 216.7 217.9\n",
       "L 220.1 217.9\n",
       "Q 222.0 217.9, 223.0 218.7\n",
       "Q 224.0 219.4, 224.0 220.9\n",
       "Q 224.0 222.6, 222.2 223.3\n",
       "M 218.2 219.2\n",
       "L 218.2 222.7\n",
       "L 220.1 222.7\n",
       "Q 221.2 222.7, 221.8 222.3\n",
       "Q 222.4 221.8, 222.4 220.9\n",
       "Q 222.4 219.2, 220.1 219.2\n",
       "L 218.2 219.2\n",
       "M 220.5 227.9\n",
       "Q 221.6 227.9, 222.2 227.4\n",
       "Q 222.8 226.9, 222.8 225.9\n",
       "Q 222.8 224.9, 222.2 224.5\n",
       "Q 221.5 224.0, 220.3 224.0\n",
       "L 218.2 224.0\n",
       "L 218.2 227.9\n",
       "L 220.5 227.9\n",
       "' fill='#7F4C19'/>\n",
       "<path class='atom-9' d='M 227.0 221.0\n",
       "L 227.2 222.1\n",
       "Q 228.0 220.8, 229.4 220.8\n",
       "Q 229.9 220.8, 230.5 221.0\n",
       "L 230.3 222.3\n",
       "Q 229.6 222.2, 229.2 222.2\n",
       "Q 228.5 222.2, 228.1 222.5\n",
       "Q 227.6 222.7, 227.3 223.3\n",
       "L 227.3 229.2\n",
       "L 225.8 229.2\n",
       "L 225.8 221.0\n",
       "L 227.0 221.0\n",
       "' fill='#7F4C19'/>\n",
       "</svg>\n",
       "</div>"
      ],
      "text/plain": [
       "<IPython.core.display.HTML object>"
      ]
     },
     "metadata": {},
     "output_type": "display_data"
    },
    {
     "data": {
      "text/html": [
       "\n",
       "<h1>Reaction Path #1 <reverse> CACHED </reverse></h1>\n",
       "<soft>Conf. 100.0%:</soft> <reset>BrC(Br)(Br)Br</reset><soft> + </soft><reset>ClCCl</reset><soft> + </soft><reset><yellow>OCCc1cccc2c(Br)c3ccccc3cc12</yellow></reset> ----> <green>BrCCc1cccc2c(Br)c3ccccc3cc12</green>\n",
       "<soft>Conf. 100.0%:</soft> <reset>B.C1CCOC1</reset><soft> + </soft><reset><yellow>O=C(O)Cc1cccc2c(Br)c3ccccc3cc12</yellow></reset> ----> <green>OCCc1cccc2c(Br)c3ccccc3cc12</green>\n",
       "<soft>Conf. 100.0%:</soft> <reset>CCO</reset><soft> + </soft><reset>N#CCc1cccc2c(Br)c3ccccc3cc12</reset><soft> + </soft><reset>O</reset><soft> + </soft><reset>O[K]</reset> ----> <green>O=C(O)Cc1cccc2c(Br)c3ccccc3cc12</green>\n",
       "\n",
       "\n",
       "<h1>Reaction Path #2 <reverse> CACHED </reverse></h1>\n",
       "<soft>Conf. 100.0%:</soft> <reset>BrC(Br)(Br)Br</reset><soft> + </soft><reset>ClCCl</reset><soft> + </soft><reset><yellow>OCCc1cccc2c(Br)c3ccccc3cc12</yellow></reset> ----> <green>BrCCc1cccc2c(Br)c3ccccc3cc12</green>\n",
       "<soft>Conf. 100.0%:</soft> <reset>B.C1CCOC1</reset><soft> + </soft><reset><yellow>O=C(O)Cc1cccc2c(Br)c3ccccc3cc12</yellow></reset> ----> <green>OCCc1cccc2c(Br)c3ccccc3cc12</green>\n",
       "<soft>Conf. 100.0%:</soft> <reset>C1CCOC1</reset><soft> + </soft><reset>COC(=O)Cc1cccc2c(Br)c3ccccc3cc12</reset><soft> + </soft><reset>O</reset><soft> + </soft><reset>O.[Li]O</reset> ----> <green>O=C(O)Cc1cccc2c(Br)c3ccccc3cc12</green>\n",
       "\n",
       "\n",
       "<h1>Reaction Path #3 <reverse> CACHED </reverse></h1>\n",
       "<soft>Conf. 100.0%:</soft> <reset>BrC(Br)(Br)Br</reset><soft> + </soft><reset>ClCCl</reset><soft> + </soft><reset><yellow>OCCc1cccc2c(Br)c3ccccc3cc12</yellow></reset> ----> <green>BrCCc1cccc2c(Br)c3ccccc3cc12</green>\n",
       "<soft>Conf. 100.0%:</soft> <reset>B.C1CCOC1</reset><soft> + </soft><reset><yellow>O=C(O)Cc1cccc2c(Br)c3ccccc3cc12</yellow></reset> ----> <green>OCCc1cccc2c(Br)c3ccccc3cc12</green>\n",
       "<soft>Conf. 99.9%:</soft> <reset>CCO</reset><soft> + </soft><reset>CCOC(=O)Cc1cccc2c(Br)c3ccccc3cc12</reset><soft> + </soft><reset>O[Na]</reset> ----> <green>O=C(O)Cc1cccc2c(Br)c3ccccc3cc12</green>\n",
       "\n",
       "\n",
       "<h1>Reaction Path #4 <reverse> CACHED </reverse></h1>\n",
       "<soft>Conf. 100.0%:</soft> <reset>BrC(Br)(Br)Br</reset><soft> + </soft><reset>ClCCl</reset><soft> + </soft><reset><yellow>OCCc1cccc2c(Br)c3ccccc3cc12</yellow></reset> ----> <green>BrCCc1cccc2c(Br)c3ccccc3cc12</green>\n",
       "<soft>Conf. 99.8%:</soft> <reset>B1C2CCCC1CCC2</reset><soft> + </soft><reset>C1CCOC1</reset><soft> + </soft><reset><yellow>C=Cc1cccc2c(Br)c3ccccc3cc12</yellow></reset> ----> <green>OCCc1cccc2c(Br)c3ccccc3cc12</green>\n",
       "<soft>Conf. 100.0%:</soft> <reset>C1CCOC1</reset><soft> + </soft><reset>CC(C)(C)[O-].[K+]</reset><soft> + </soft><reset>C[P+](c1ccccc1)(c1ccccc1)c1ccccc1.[Br-]</reset><soft> + </soft><reset>O=Cc1cccc2c(Br)c3ccccc3cc12</reset> ----> <green>C=Cc1cccc2c(Br)c3ccccc3cc12</green>\n",
       "\n",
       "\n",
       "<h1>Reaction Path #5 <reverse> CACHED </reverse></h1>\n",
       "<soft>Conf. 100.0%:</soft> <reset>BrC(Br)(Br)Br</reset><soft> + </soft><reset>ClCCl</reset><soft> + </soft><reset><yellow>OCCc1cccc2c(Br)c3ccccc3cc12</yellow></reset> ----> <green>BrCCc1cccc2c(Br)c3ccccc3cc12</green>\n",
       "<soft>Conf. 99.8%:</soft> <reset>B1C2CCCC1CCC2</reset><soft> + </soft><reset>C1CCOC1</reset><soft> + </soft><reset><yellow>C=Cc1cccc2c(Br)c3ccccc3cc12</yellow></reset> ----> <green>OCCc1cccc2c(Br)c3ccccc3cc12</green>\n",
       "<soft>Conf. 99.8%:</soft> <reset>CC(O)c1cccc2c(Br)c3ccccc3cc12</reset><soft> + </soft><reset>Cc1ccc(S(=O)(=O)O)cc1</reset><soft> + </soft><reset>Cc1ccccc1</reset> ----> <green>C=Cc1cccc2c(Br)c3ccccc3cc12</green>\n",
       "\n",
       "\n",
       "<h1>Reaction Path #6 <reverse> CACHED </reverse></h1>\n",
       "<soft>Conf. 100.0%:</soft> <reset>BrC(Br)(Br)Br</reset><soft> + </soft><reset>ClCCl</reset><soft> + </soft><reset><yellow>OCCc1cccc2c(Br)c3ccccc3cc12</yellow></reset> ----> <green>BrCCc1cccc2c(Br)c3ccccc3cc12</green>\n",
       "<soft>Conf. 99.5%:</soft> <reset>C1CCOC1</reset><soft> + </soft><reset><yellow>COC(=O)Cc1cccc2c(Br)c3ccccc3cc12</yellow></reset><soft> + </soft><reset>[AlH4-].[Li+]</reset> ----> <green>OCCc1cccc2c(Br)c3ccccc3cc12</green>\n",
       "<soft>Conf. 100.0%:</soft> <reset>CO</reset><soft> + </soft><reset>O=C(O)Cc1cccc2c(Br)c3ccccc3cc12</reset><soft> + </soft><reset>O=S(=O)(O)O</reset> ----> <green>COC(=O)Cc1cccc2c(Br)c3ccccc3cc12</green>\n",
       "\n",
       "\n",
       "<h1>Reaction Path #7 <reverse> CACHED </reverse></h1>\n",
       "<soft>Conf. 100.0%:</soft> <reset>BrC(Br)(Br)Br</reset><soft> + </soft><reset>ClCCl</reset><soft> + </soft><reset><yellow>OCCc1cccc2c(Br)c3ccccc3cc12</yellow></reset> ----> <green>BrCCc1cccc2c(Br)c3ccccc3cc12</green>\n",
       "<soft>Conf. 99.5%:</soft> <reset>C1CCOC1</reset><soft> + </soft><reset><yellow>COC(=O)Cc1cccc2c(Br)c3ccccc3cc12</yellow></reset><soft> + </soft><reset>[AlH4-].[Li+]</reset> ----> <green>OCCc1cccc2c(Br)c3ccccc3cc12</green>\n",
       "<soft>Conf. 94.1%:</soft> <reset>BrBr</reset><soft> + </soft><reset>COC(=O)Cc1cccc2cc3ccccc3cc12</reset><soft> + </soft><reset>ClCCl</reset> ----> <green>COC(=O)Cc1cccc2c(Br)c3ccccc3cc12</green>\n",
       "\n",
       "\n",
       "<h1>Reaction Path #8 <reverse> CACHED </reverse></h1>\n",
       "<soft>Conf. 100.0%:</soft> <reset>BrC(Br)(Br)Br</reset><soft> + </soft><reset>ClCCl</reset><soft> + </soft><reset><yellow>OCCc1cccc2c(Br)c3ccccc3cc12</yellow></reset> ----> <green>BrCCc1cccc2c(Br)c3ccccc3cc12</green>\n",
       "<soft>Conf. 100.0%:</soft> <reset>B.C1CCOC1</reset><soft> + </soft><reset><yellow>O=C(O)Cc1cccc2c(Br)c3ccccc3cc12</yellow></reset> ----> <green>OCCc1cccc2c(Br)c3ccccc3cc12</green>\n",
       "<soft>Conf. 90.6%:</soft> <reset>BrBr</reset><soft> + </soft><reset>ClC(Cl)(Cl)Cl</reset><soft> + </soft><reset>O=C(O)Cc1cccc2cc3ccccc3cc12</reset> ----> <green>O=C(O)Cc1cccc2c(Br)c3ccccc3cc12</green>\n",
       "\n",
       "\n",
       "<h1>Reaction Path #9 <reverse> CACHED </reverse></h1>\n",
       "<soft>Conf. 100.0%:</soft> <reset>BrC(Br)(Br)Br</reset><soft> + </soft><reset>ClCCl</reset><soft> + </soft><reset><yellow>OCCc1cccc2c(Br)c3ccccc3cc12</yellow></reset> ----> <green>BrCCc1cccc2c(Br)c3ccccc3cc12</green>\n",
       "<soft>Conf. 83.5%:</soft> <reset>O=C1CCC(=O)N1Br</reset><soft> + </soft><reset><yellow>OCCc1cccc2cc3ccccc3cc12</yellow></reset> ----> <green>OCCc1cccc2c(Br)c3ccccc3cc12</green>\n",
       "<soft>Conf. 100.0%:</soft> <reset>C1CCOC1</reset><soft> + </soft><reset>COC(=O)Cc1cccc2cc3ccccc3cc12</reset><soft> + </soft><reset>[AlH4-].[Li+]</reset> ----> <green>OCCc1cccc2cc3ccccc3cc12</green>\n",
       "\n",
       "\n",
       "<h1>Reaction Path #10 <reverse> CACHED </reverse></h1>\n",
       "<soft>Conf. 100.0%:</soft> <reset>BrC(Br)(Br)Br</reset><soft> + </soft><reset>ClCCl</reset><soft> + </soft><reset><yellow>OCCc1cccc2c(Br)c3ccccc3cc12</yellow></reset> ----> <green>BrCCc1cccc2c(Br)c3ccccc3cc12</green>\n",
       "<soft>Conf. 83.5%:</soft> <reset>O=C1CCC(=O)N1Br</reset><soft> + </soft><reset><yellow>OCCc1cccc2cc3ccccc3cc12</yellow></reset> ----> <green>OCCc1cccc2c(Br)c3ccccc3cc12</green>\n",
       "<soft>Conf. 100.0%:</soft> <reset>C1CCOC1</reset><soft> + </soft><reset>CCOC(=O)Cc1cccc2cc3ccccc3cc12</reset><soft> + </soft><reset>[Li][AlH4]</reset> ----> <green>OCCc1cccc2cc3ccccc3cc12</green>\n",
       "\n",
       "\n",
       "<h1>Reaction Path #11 <reverse> CACHED </reverse></h1>\n",
       "<soft>Conf. 100.0%:</soft> <reset>BrC(Br)(Br)Br</reset><soft> + </soft><reset>ClCCl</reset><soft> + </soft><reset><yellow>OCCc1cccc2c(Br)c3ccccc3cc12</yellow></reset> ----> <green>BrCCc1cccc2c(Br)c3ccccc3cc12</green>\n",
       "<soft>Conf. 83.5%:</soft> <reset>O=C1CCC(=O)N1Br</reset><soft> + </soft><reset><yellow>OCCc1cccc2cc3ccccc3cc12</yellow></reset> ----> <green>OCCc1cccc2c(Br)c3ccccc3cc12</green>\n",
       "<soft>Conf. 100.0%:</soft> <reset>B</reset><soft> + </soft><reset>C1CCOC1</reset><soft> + </soft><reset>O=C(O)Cc1cccc2cc3ccccc3cc12</reset> ----> <green>OCCc1cccc2cc3ccccc3cc12</green>\n",
       "\n",
       "\n",
       "<h1>Reaction Path #12 <reverse> CACHED </reverse></h1>\n",
       "<soft>Conf. 100.0%:</soft> <reset>BrC(Br)(Br)Br</reset><soft> + </soft><reset>ClCCl</reset><soft> + </soft><reset><yellow>OCCc1cccc2c(Br)c3ccccc3cc12</yellow></reset> ----> <green>BrCCc1cccc2c(Br)c3ccccc3cc12</green>\n",
       "<soft>Conf. 83.5%:</soft> <reset>O=C1CCC(=O)N1Br</reset><soft> + </soft><reset><yellow>OCCc1cccc2cc3ccccc3cc12</yellow></reset> ----> <green>OCCc1cccc2c(Br)c3ccccc3cc12</green>\n",
       "<soft>Conf. 100.0%:</soft> <reset>B1C2CCCC1CCC2</reset><soft> + </soft><reset>C1CCOC1</reset><soft> + </soft><reset>C=Cc1cccc2cc3ccccc3cc12</reset> ----> <green>OCCc1cccc2cc3ccccc3cc12</green>\n"
      ],
      "text/plain": [
       "<IPython.core.display.HTML object>"
      ]
     },
     "metadata": {},
     "output_type": "display_data"
    }
   ],
   "source": [
    "# Cached\n",
    "%openad rxn predict retrosynthesis 'BrCCc1cccc2c(Br)c3ccccc3cc12' using (max_steps=3) use cache"
   ]
  },
  {
   "cell_type": "code",
   "execution_count": null,
   "id": "a7ae0a7a-3ea2-44a7-85bd-ffd44cac6e02",
   "metadata": {},
   "outputs": [],
   "source": [
    "# Rich output\n",
    "%openad rxn predict retrosynthesis 'BrCCc1cccc2c(Br)c3ccccc3cc12' using (max_steps=3) rich use cache"
   ]
  },
  {
   "cell_type": "code",
   "execution_count": null,
   "id": "f1cde1ac-4388-4cd1-b0a5-4942750ef638",
   "metadata": {
    "tags": []
   },
   "outputs": [],
   "source": [
    "# Invalid\n",
    "%openad rxn predict retrosynthesis 'ABCDEF' using (max_steps=3)"
   ]
  },
  {
   "cell_type": "code",
   "execution_count": null,
   "id": "6bd8165d-dab4-41db-b01c-da778022cc7a",
   "metadata": {},
   "outputs": [],
   "source": [
    "# Invalid cached\n",
    "%openad rxn predict retrosynthesis 'ABCDEF' using (max_steps=3) use cache"
   ]
  },
  {
   "cell_type": "code",
   "execution_count": null,
   "id": "32edb423-eb61-496c-9214-a3395f004a58",
   "metadata": {},
   "outputs": [],
   "source": [
    "# Invalid rich output\n",
    "%openad rxn predict retrosynthesis 'ABCDEF' using (max_steps=3) rich use cache"
   ]
  },
  {
   "cell_type": "code",
   "execution_count": 1,
   "id": "38131509-7a26-4743-9697-65543bea756a",
   "metadata": {
    "tags": []
   },
   "outputs": [
    {
     "data": {
      "text/html": [
       "<div class='alert alert-warning'>⚠️ Returning JSON data. If you wish to get a dataframe instead, use the <cmd>return_df</cmd> clause</div>"
      ],
      "text/plain": [
       "<IPython.core.display.HTML object>"
      ]
     },
     "metadata": {},
     "output_type": "display_data"
    },
    {
     "data": {
      "text/plain": [
       "[{'value': 'BrCCc1cccc2c(Br)c3ccccc3cc12',\n",
       "  '_confidence': 1.0,\n",
       "  'children': ['BrC(Br)(Br)Br',\n",
       "   'ClCCl',\n",
       "   {'value': 'OCCc1cccc2c(Br)c3ccccc3cc12',\n",
       "    '_confidence': 1.0,\n",
       "    'children': ['B.C1CCOC1',\n",
       "     {'value': 'O=C(O)Cc1cccc2c(Br)c3ccccc3cc12',\n",
       "      '_confidence': 1.0,\n",
       "      'children': ['CCO', 'N#CCc1cccc2c(Br)c3ccccc3cc12', 'O', 'O[K]']}]}]},\n",
       " {'value': 'BrCCc1cccc2c(Br)c3ccccc3cc12',\n",
       "  '_confidence': 1.0,\n",
       "  'children': ['BrC(Br)(Br)Br',\n",
       "   'ClCCl',\n",
       "   {'value': 'OCCc1cccc2c(Br)c3ccccc3cc12',\n",
       "    '_confidence': 1.0,\n",
       "    'children': ['B.C1CCOC1',\n",
       "     {'value': 'O=C(O)Cc1cccc2c(Br)c3ccccc3cc12',\n",
       "      '_confidence': 1.0,\n",
       "      'children': ['C1CCOC1',\n",
       "       'COC(=O)Cc1cccc2c(Br)c3ccccc3cc12',\n",
       "       'O',\n",
       "       'O.[Li]O']}]}]},\n",
       " {'value': 'BrCCc1cccc2c(Br)c3ccccc3cc12',\n",
       "  '_confidence': 1.0,\n",
       "  'children': ['BrC(Br)(Br)Br',\n",
       "   'ClCCl',\n",
       "   {'value': 'OCCc1cccc2c(Br)c3ccccc3cc12',\n",
       "    '_confidence': 1.0,\n",
       "    'children': ['B.C1CCOC1',\n",
       "     {'value': 'O=C(O)Cc1cccc2c(Br)c3ccccc3cc12',\n",
       "      '_confidence': 0.999,\n",
       "      'children': ['CCO', 'CCOC(=O)Cc1cccc2c(Br)c3ccccc3cc12', 'O[Na]']}]}]},\n",
       " {'value': 'BrCCc1cccc2c(Br)c3ccccc3cc12',\n",
       "  '_confidence': 1.0,\n",
       "  'children': ['BrC(Br)(Br)Br',\n",
       "   'ClCCl',\n",
       "   {'value': 'OCCc1cccc2c(Br)c3ccccc3cc12',\n",
       "    '_confidence': 0.998,\n",
       "    'children': ['B1C2CCCC1CCC2',\n",
       "     'C1CCOC1',\n",
       "     {'value': 'C=Cc1cccc2c(Br)c3ccccc3cc12',\n",
       "      '_confidence': 1.0,\n",
       "      'children': ['C1CCOC1',\n",
       "       'CC(C)(C)[O-].[K+]',\n",
       "       'C[P+](c1ccccc1)(c1ccccc1)c1ccccc1.[Br-]',\n",
       "       'O=Cc1cccc2c(Br)c3ccccc3cc12']}]}]},\n",
       " {'value': 'BrCCc1cccc2c(Br)c3ccccc3cc12',\n",
       "  '_confidence': 1.0,\n",
       "  'children': ['BrC(Br)(Br)Br',\n",
       "   'ClCCl',\n",
       "   {'value': 'OCCc1cccc2c(Br)c3ccccc3cc12',\n",
       "    '_confidence': 0.998,\n",
       "    'children': ['B1C2CCCC1CCC2',\n",
       "     'C1CCOC1',\n",
       "     {'value': 'C=Cc1cccc2c(Br)c3ccccc3cc12',\n",
       "      '_confidence': 0.998,\n",
       "      'children': ['CC(O)c1cccc2c(Br)c3ccccc3cc12',\n",
       "       'Cc1ccc(S(=O)(=O)O)cc1',\n",
       "       'Cc1ccccc1']}]}]},\n",
       " {'value': 'BrCCc1cccc2c(Br)c3ccccc3cc12',\n",
       "  '_confidence': 1.0,\n",
       "  'children': ['BrC(Br)(Br)Br',\n",
       "   'ClCCl',\n",
       "   {'value': 'OCCc1cccc2c(Br)c3ccccc3cc12',\n",
       "    '_confidence': 0.995,\n",
       "    'children': ['C1CCOC1',\n",
       "     {'value': 'COC(=O)Cc1cccc2c(Br)c3ccccc3cc12',\n",
       "      '_confidence': 1.0,\n",
       "      'children': ['CO', 'O=C(O)Cc1cccc2c(Br)c3ccccc3cc12', 'O=S(=O)(O)O']},\n",
       "     '[AlH4-].[Li+]']}]},\n",
       " {'value': 'BrCCc1cccc2c(Br)c3ccccc3cc12',\n",
       "  '_confidence': 1.0,\n",
       "  'children': ['BrC(Br)(Br)Br',\n",
       "   'ClCCl',\n",
       "   {'value': 'OCCc1cccc2c(Br)c3ccccc3cc12',\n",
       "    '_confidence': 0.995,\n",
       "    'children': ['C1CCOC1',\n",
       "     {'value': 'COC(=O)Cc1cccc2c(Br)c3ccccc3cc12',\n",
       "      '_confidence': 0.941,\n",
       "      'children': ['BrBr', 'COC(=O)Cc1cccc2cc3ccccc3cc12', 'ClCCl']},\n",
       "     '[AlH4-].[Li+]']}]},\n",
       " {'value': 'BrCCc1cccc2c(Br)c3ccccc3cc12',\n",
       "  '_confidence': 1.0,\n",
       "  'children': ['BrC(Br)(Br)Br',\n",
       "   'ClCCl',\n",
       "   {'value': 'OCCc1cccc2c(Br)c3ccccc3cc12',\n",
       "    '_confidence': 1.0,\n",
       "    'children': ['B.C1CCOC1',\n",
       "     {'value': 'O=C(O)Cc1cccc2c(Br)c3ccccc3cc12',\n",
       "      '_confidence': 0.906,\n",
       "      'children': ['BrBr',\n",
       "       'ClC(Cl)(Cl)Cl',\n",
       "       'O=C(O)Cc1cccc2cc3ccccc3cc12']}]}]},\n",
       " {'value': 'BrCCc1cccc2c(Br)c3ccccc3cc12',\n",
       "  '_confidence': 1.0,\n",
       "  'children': ['BrC(Br)(Br)Br',\n",
       "   'ClCCl',\n",
       "   {'value': 'OCCc1cccc2c(Br)c3ccccc3cc12',\n",
       "    '_confidence': 0.835,\n",
       "    'children': ['O=C1CCC(=O)N1Br',\n",
       "     {'value': 'OCCc1cccc2cc3ccccc3cc12',\n",
       "      '_confidence': 1.0,\n",
       "      'children': ['C1CCOC1',\n",
       "       'COC(=O)Cc1cccc2cc3ccccc3cc12',\n",
       "       '[AlH4-].[Li+]']}]}]},\n",
       " {'value': 'BrCCc1cccc2c(Br)c3ccccc3cc12',\n",
       "  '_confidence': 1.0,\n",
       "  'children': ['BrC(Br)(Br)Br',\n",
       "   'ClCCl',\n",
       "   {'value': 'OCCc1cccc2c(Br)c3ccccc3cc12',\n",
       "    '_confidence': 0.835,\n",
       "    'children': ['O=C1CCC(=O)N1Br',\n",
       "     {'value': 'OCCc1cccc2cc3ccccc3cc12',\n",
       "      '_confidence': 1.0,\n",
       "      'children': ['C1CCOC1',\n",
       "       'CCOC(=O)Cc1cccc2cc3ccccc3cc12',\n",
       "       '[Li][AlH4]']}]}]},\n",
       " {'value': 'BrCCc1cccc2c(Br)c3ccccc3cc12',\n",
       "  '_confidence': 1.0,\n",
       "  'children': ['BrC(Br)(Br)Br',\n",
       "   'ClCCl',\n",
       "   {'value': 'OCCc1cccc2c(Br)c3ccccc3cc12',\n",
       "    '_confidence': 0.835,\n",
       "    'children': ['O=C1CCC(=O)N1Br',\n",
       "     {'value': 'OCCc1cccc2cc3ccccc3cc12',\n",
       "      '_confidence': 1.0,\n",
       "      'children': ['B', 'C1CCOC1', 'O=C(O)Cc1cccc2cc3ccccc3cc12']}]}]},\n",
       " {'value': 'BrCCc1cccc2c(Br)c3ccccc3cc12',\n",
       "  '_confidence': 1.0,\n",
       "  'children': ['BrC(Br)(Br)Br',\n",
       "   'ClCCl',\n",
       "   {'value': 'OCCc1cccc2c(Br)c3ccccc3cc12',\n",
       "    '_confidence': 0.835,\n",
       "    'children': ['O=C1CCC(=O)N1Br',\n",
       "     {'value': 'OCCc1cccc2cc3ccccc3cc12',\n",
       "      '_confidence': 1.0,\n",
       "      'children': ['B1C2CCCC1CCC2', 'C1CCOC1', 'C=Cc1cccc2cc3ccccc3cc12']}]}]}]"
      ]
     },
     "execution_count": 1,
     "metadata": {},
     "output_type": "execute_result"
    }
   ],
   "source": [
    "# Data API as JSON\n",
    "data = %openadd rxn predict retrosynthesis 'BrCCc1cccc2c(Br)c3ccccc3cc12' using (max_steps=3) use cache\n",
    "data"
   ]
  },
  {
   "cell_type": "code",
   "execution_count": 2,
   "id": "6e4bb200-c3f0-4cec-9ef8-198e8530c50c",
   "metadata": {
    "tags": []
   },
   "outputs": [
    {
     "data": {
      "text/html": [
       "<div>\n",
       "<style scoped>\n",
       "    .dataframe tbody tr th:only-of-type {\n",
       "        vertical-align: middle;\n",
       "    }\n",
       "\n",
       "    .dataframe tbody tr th {\n",
       "        vertical-align: top;\n",
       "    }\n",
       "\n",
       "    .dataframe thead th {\n",
       "        text-align: right;\n",
       "    }\n",
       "</style>\n",
       "<table border=\"1\" class=\"dataframe\">\n",
       "  <thead>\n",
       "    <tr style=\"text-align: right;\">\n",
       "      <th></th>\n",
       "      <th>reaction_path_index</th>\n",
       "      <th>result</th>\n",
       "      <th>confidence</th>\n",
       "      <th>compound [step -1]</th>\n",
       "      <th>confidence [step -1]</th>\n",
       "      <th>compound [step -2]</th>\n",
       "      <th>confidence [step -2]</th>\n",
       "      <th>compound [step -3]</th>\n",
       "    </tr>\n",
       "  </thead>\n",
       "  <tbody>\n",
       "    <tr>\n",
       "      <th>0</th>\n",
       "      <td>1</td>\n",
       "      <td>BrCCc1cccc2c(Br)c3ccccc3cc12</td>\n",
       "      <td>1.0</td>\n",
       "      <td>BrC(Br)(Br)Br</td>\n",
       "      <td>NaN</td>\n",
       "      <td>NaN</td>\n",
       "      <td>NaN</td>\n",
       "      <td>NaN</td>\n",
       "    </tr>\n",
       "    <tr>\n",
       "      <th>1</th>\n",
       "      <td>1</td>\n",
       "      <td>BrCCc1cccc2c(Br)c3ccccc3cc12</td>\n",
       "      <td>1.0</td>\n",
       "      <td>ClCCl</td>\n",
       "      <td>NaN</td>\n",
       "      <td>NaN</td>\n",
       "      <td>NaN</td>\n",
       "      <td>NaN</td>\n",
       "    </tr>\n",
       "    <tr>\n",
       "      <th>2</th>\n",
       "      <td>1</td>\n",
       "      <td>BrCCc1cccc2c(Br)c3ccccc3cc12</td>\n",
       "      <td>1.0</td>\n",
       "      <td>OCCc1cccc2c(Br)c3ccccc3cc12</td>\n",
       "      <td>1.000</td>\n",
       "      <td>B.C1CCOC1</td>\n",
       "      <td>NaN</td>\n",
       "      <td>NaN</td>\n",
       "    </tr>\n",
       "    <tr>\n",
       "      <th>3</th>\n",
       "      <td>1</td>\n",
       "      <td>BrCCc1cccc2c(Br)c3ccccc3cc12</td>\n",
       "      <td>1.0</td>\n",
       "      <td>OCCc1cccc2c(Br)c3ccccc3cc12</td>\n",
       "      <td>1.000</td>\n",
       "      <td>O=C(O)Cc1cccc2c(Br)c3ccccc3cc12</td>\n",
       "      <td>1.0</td>\n",
       "      <td>CCO</td>\n",
       "    </tr>\n",
       "    <tr>\n",
       "      <th>4</th>\n",
       "      <td>1</td>\n",
       "      <td>BrCCc1cccc2c(Br)c3ccccc3cc12</td>\n",
       "      <td>1.0</td>\n",
       "      <td>OCCc1cccc2c(Br)c3ccccc3cc12</td>\n",
       "      <td>1.000</td>\n",
       "      <td>O=C(O)Cc1cccc2c(Br)c3ccccc3cc12</td>\n",
       "      <td>1.0</td>\n",
       "      <td>N#CCc1cccc2c(Br)c3ccccc3cc12</td>\n",
       "    </tr>\n",
       "    <tr>\n",
       "      <th>...</th>\n",
       "      <td>...</td>\n",
       "      <td>...</td>\n",
       "      <td>...</td>\n",
       "      <td>...</td>\n",
       "      <td>...</td>\n",
       "      <td>...</td>\n",
       "      <td>...</td>\n",
       "      <td>...</td>\n",
       "    </tr>\n",
       "    <tr>\n",
       "      <th>74</th>\n",
       "      <td>12</td>\n",
       "      <td>BrCCc1cccc2c(Br)c3ccccc3cc12</td>\n",
       "      <td>1.0</td>\n",
       "      <td>ClCCl</td>\n",
       "      <td>NaN</td>\n",
       "      <td>NaN</td>\n",
       "      <td>NaN</td>\n",
       "      <td>NaN</td>\n",
       "    </tr>\n",
       "    <tr>\n",
       "      <th>75</th>\n",
       "      <td>12</td>\n",
       "      <td>BrCCc1cccc2c(Br)c3ccccc3cc12</td>\n",
       "      <td>1.0</td>\n",
       "      <td>OCCc1cccc2c(Br)c3ccccc3cc12</td>\n",
       "      <td>0.835</td>\n",
       "      <td>O=C1CCC(=O)N1Br</td>\n",
       "      <td>NaN</td>\n",
       "      <td>NaN</td>\n",
       "    </tr>\n",
       "    <tr>\n",
       "      <th>76</th>\n",
       "      <td>12</td>\n",
       "      <td>BrCCc1cccc2c(Br)c3ccccc3cc12</td>\n",
       "      <td>1.0</td>\n",
       "      <td>OCCc1cccc2c(Br)c3ccccc3cc12</td>\n",
       "      <td>0.835</td>\n",
       "      <td>OCCc1cccc2cc3ccccc3cc12</td>\n",
       "      <td>1.0</td>\n",
       "      <td>B1C2CCCC1CCC2</td>\n",
       "    </tr>\n",
       "    <tr>\n",
       "      <th>77</th>\n",
       "      <td>12</td>\n",
       "      <td>BrCCc1cccc2c(Br)c3ccccc3cc12</td>\n",
       "      <td>1.0</td>\n",
       "      <td>OCCc1cccc2c(Br)c3ccccc3cc12</td>\n",
       "      <td>0.835</td>\n",
       "      <td>OCCc1cccc2cc3ccccc3cc12</td>\n",
       "      <td>1.0</td>\n",
       "      <td>C1CCOC1</td>\n",
       "    </tr>\n",
       "    <tr>\n",
       "      <th>78</th>\n",
       "      <td>12</td>\n",
       "      <td>BrCCc1cccc2c(Br)c3ccccc3cc12</td>\n",
       "      <td>1.0</td>\n",
       "      <td>OCCc1cccc2c(Br)c3ccccc3cc12</td>\n",
       "      <td>0.835</td>\n",
       "      <td>OCCc1cccc2cc3ccccc3cc12</td>\n",
       "      <td>1.0</td>\n",
       "      <td>C=Cc1cccc2cc3ccccc3cc12</td>\n",
       "    </tr>\n",
       "  </tbody>\n",
       "</table>\n",
       "<p>79 rows × 8 columns</p>\n",
       "</div>"
      ],
      "text/plain": [
       "    reaction_path_index                        result  confidence  \\\n",
       "0                     1  BrCCc1cccc2c(Br)c3ccccc3cc12         1.0   \n",
       "1                     1  BrCCc1cccc2c(Br)c3ccccc3cc12         1.0   \n",
       "2                     1  BrCCc1cccc2c(Br)c3ccccc3cc12         1.0   \n",
       "3                     1  BrCCc1cccc2c(Br)c3ccccc3cc12         1.0   \n",
       "4                     1  BrCCc1cccc2c(Br)c3ccccc3cc12         1.0   \n",
       "..                  ...                           ...         ...   \n",
       "74                   12  BrCCc1cccc2c(Br)c3ccccc3cc12         1.0   \n",
       "75                   12  BrCCc1cccc2c(Br)c3ccccc3cc12         1.0   \n",
       "76                   12  BrCCc1cccc2c(Br)c3ccccc3cc12         1.0   \n",
       "77                   12  BrCCc1cccc2c(Br)c3ccccc3cc12         1.0   \n",
       "78                   12  BrCCc1cccc2c(Br)c3ccccc3cc12         1.0   \n",
       "\n",
       "             compound [step -1]  confidence [step -1]  \\\n",
       "0                 BrC(Br)(Br)Br                   NaN   \n",
       "1                         ClCCl                   NaN   \n",
       "2   OCCc1cccc2c(Br)c3ccccc3cc12                 1.000   \n",
       "3   OCCc1cccc2c(Br)c3ccccc3cc12                 1.000   \n",
       "4   OCCc1cccc2c(Br)c3ccccc3cc12                 1.000   \n",
       "..                          ...                   ...   \n",
       "74                        ClCCl                   NaN   \n",
       "75  OCCc1cccc2c(Br)c3ccccc3cc12                 0.835   \n",
       "76  OCCc1cccc2c(Br)c3ccccc3cc12                 0.835   \n",
       "77  OCCc1cccc2c(Br)c3ccccc3cc12                 0.835   \n",
       "78  OCCc1cccc2c(Br)c3ccccc3cc12                 0.835   \n",
       "\n",
       "                 compound [step -2]  confidence [step -2]  \\\n",
       "0                               NaN                   NaN   \n",
       "1                               NaN                   NaN   \n",
       "2                         B.C1CCOC1                   NaN   \n",
       "3   O=C(O)Cc1cccc2c(Br)c3ccccc3cc12                   1.0   \n",
       "4   O=C(O)Cc1cccc2c(Br)c3ccccc3cc12                   1.0   \n",
       "..                              ...                   ...   \n",
       "74                              NaN                   NaN   \n",
       "75                  O=C1CCC(=O)N1Br                   NaN   \n",
       "76          OCCc1cccc2cc3ccccc3cc12                   1.0   \n",
       "77          OCCc1cccc2cc3ccccc3cc12                   1.0   \n",
       "78          OCCc1cccc2cc3ccccc3cc12                   1.0   \n",
       "\n",
       "              compound [step -3]  \n",
       "0                            NaN  \n",
       "1                            NaN  \n",
       "2                            NaN  \n",
       "3                            CCO  \n",
       "4   N#CCc1cccc2c(Br)c3ccccc3cc12  \n",
       "..                           ...  \n",
       "74                           NaN  \n",
       "75                           NaN  \n",
       "76                 B1C2CCCC1CCC2  \n",
       "77                       C1CCOC1  \n",
       "78       C=Cc1cccc2cc3ccccc3cc12  \n",
       "\n",
       "[79 rows x 8 columns]"
      ]
     },
     "execution_count": 2,
     "metadata": {},
     "output_type": "execute_result"
    }
   ],
   "source": [
    "# Data API as df\n",
    "data = %openadd rxn predict retrosynthesis 'BrCCc1cccc2c(Br)c3ccccc3cc12' using (max_steps=3) use cache return df\n",
    "data"
   ]
  },
  {
   "cell_type": "markdown",
   "id": "fb2a57a6-577a-4bf4-82f7-39c9298396d2",
   "metadata": {},
   "source": [
    "<br>"
   ]
  },
  {
   "cell_type": "markdown",
   "id": "6882856d-cf89-4926-aafd-6cf9a232eec1",
   "metadata": {
    "tags": []
   },
   "source": [
    "### Predict single Reaction"
   ]
  },
  {
   "cell_type": "code",
   "execution_count": null,
   "id": "fcdf80fb-a880-4f32-a20e-a8856a57d641",
   "metadata": {
    "tags": []
   },
   "outputs": [],
   "source": [
    "# Command help\n",
    "%openad rxn predict reaction ?"
   ]
  },
  {
   "cell_type": "code",
   "execution_count": null,
   "id": "b1a0639f-d290-4fbf-aa52-94aa6106e4a4",
   "metadata": {
    "tags": []
   },
   "outputs": [],
   "source": [
    "# Regular\n",
    "%openad rxn predict reaction 'BrBr.c1ccc2cc3ccccc3cc2c1CCO'"
   ]
  },
  {
   "cell_type": "code",
   "execution_count": 1,
   "id": "3d8e2068-2f8f-42fb-aad2-75afa7e58855",
   "metadata": {
    "tags": []
   },
   "outputs": [
    {
     "data": {
      "text/html": [
       "<div style=\"display:inline-block; border:solid 1px #ccc\"><?xml version='1.0' encoding='iso-8859-1'?>\n",
       "<svg version='1.1' baseProfile='full'\n",
       "              xmlns='http://www.w3.org/2000/svg'\n",
       "                      xmlns:rdkit='http://www.rdkit.org/xml'\n",
       "                      xmlns:xlink='http://www.w3.org/1999/xlink'\n",
       "                  xml:space='preserve'\n",
       "width='800px' height='200px' viewBox='0 0 800 200'>\n",
       "<!-- END OF HEADER -->\n",
       "<rect style='opacity:1.0;fill:#FFFFFF;stroke:none' width='800.0' height='200.0' x='0.0' y='0.0'> </rect>\n",
       "<path class='bond-0 atom-0 atom-1' d='M 112.7,100.0 L 138.3,100.0' style='fill:none;fill-rule:evenodd;stroke:#7F4C19;stroke-width:1.0px;stroke-linecap:butt;stroke-linejoin:miter;stroke-opacity:1' />\n",
       "<path class='atom-0' d='M 104.8 99.8\n",
       "Q 105.7 100.0, 106.1 100.6\n",
       "Q 106.6 101.1, 106.6 101.9\n",
       "Q 106.6 103.2, 105.8 103.9\n",
       "Q 105.0 104.7, 103.4 104.7\n",
       "L 100.3 104.7\n",
       "L 100.3 95.3\n",
       "L 103.0 95.3\n",
       "Q 104.6 95.3, 105.4 96.0\n",
       "Q 106.2 96.6, 106.2 97.8\n",
       "Q 106.2 99.2, 104.8 99.8\n",
       "M 101.5 96.4\n",
       "L 101.5 99.3\n",
       "L 103.0 99.3\n",
       "Q 103.9 99.3, 104.4 98.9\n",
       "Q 104.9 98.6, 104.9 97.8\n",
       "Q 104.9 96.4, 103.0 96.4\n",
       "L 101.5 96.4\n",
       "M 103.4 103.6\n",
       "Q 104.3 103.6, 104.8 103.2\n",
       "Q 105.3 102.7, 105.3 101.9\n",
       "Q 105.3 101.1, 104.7 100.8\n",
       "Q 104.2 100.4, 103.2 100.4\n",
       "L 101.5 100.4\n",
       "L 101.5 103.6\n",
       "L 103.4 103.6\n",
       "' fill='#7F4C19'/>\n",
       "<path class='atom-0' d='M 108.7 97.9\n",
       "L 108.9 98.8\n",
       "Q 109.6 97.8, 110.7 97.8\n",
       "Q 111.1 97.8, 111.6 97.9\n",
       "L 111.4 99.0\n",
       "Q 110.8 98.9, 110.5 98.9\n",
       "Q 110.0 98.9, 109.6 99.1\n",
       "Q 109.2 99.3, 109.0 99.8\n",
       "L 109.0 104.7\n",
       "L 107.7 104.7\n",
       "L 107.7 97.9\n",
       "L 108.7 97.9\n",
       "' fill='#7F4C19'/>\n",
       "<path class='atom-1' d='M 143.9 99.8\n",
       "Q 144.8 100.0, 145.3 100.6\n",
       "Q 145.7 101.1, 145.7 101.9\n",
       "Q 145.7 103.2, 144.9 103.9\n",
       "Q 144.1 104.7, 142.5 104.7\n",
       "L 139.4 104.7\n",
       "L 139.4 95.3\n",
       "L 142.2 95.3\n",
       "Q 143.7 95.3, 144.5 96.0\n",
       "Q 145.3 96.6, 145.3 97.8\n",
       "Q 145.3 99.2, 143.9 99.8\n",
       "M 140.6 96.4\n",
       "L 140.6 99.3\n",
       "L 142.2 99.3\n",
       "Q 143.1 99.3, 143.5 98.9\n",
       "Q 144.0 98.6, 144.0 97.8\n",
       "Q 144.0 96.4, 142.2 96.4\n",
       "L 140.6 96.4\n",
       "M 142.5 103.6\n",
       "Q 143.4 103.6, 143.9 103.2\n",
       "Q 144.4 102.7, 144.4 101.9\n",
       "Q 144.4 101.1, 143.9 100.8\n",
       "Q 143.3 100.4, 142.3 100.4\n",
       "L 140.6 100.4\n",
       "L 140.6 103.6\n",
       "L 142.5 103.6\n",
       "' fill='#7F4C19'/>\n",
       "<path class='atom-1' d='M 147.8 97.9\n",
       "L 148.0 98.8\n",
       "Q 148.7 97.8, 149.9 97.8\n",
       "Q 150.2 97.8, 150.7 97.9\n",
       "L 150.5 99.0\n",
       "Q 150.0 98.9, 149.6 98.9\n",
       "Q 149.1 98.9, 148.7 99.1\n",
       "Q 148.4 99.3, 148.1 99.8\n",
       "L 148.1 104.7\n",
       "L 146.8 104.7\n",
       "L 146.8 97.9\n",
       "L 147.8 97.9\n",
       "' fill='#7F4C19'/>\n",
       "<path d='M 164.0,92.0 L 164.0,108.0' style='fill:none;fill-rule:evenodd;stroke:#000000;stroke-width:1.0px;stroke-linecap:butt;stroke-linejoin:miter;stroke-opacity:1' />\n",
       "<path d='M 156.0,100.0 L 172.0,100.0' style='fill:none;fill-rule:evenodd;stroke:#000000;stroke-width:1.0px;stroke-linecap:butt;stroke-linejoin:miter;stroke-opacity:1' />\n",
       "<path class='bond-1 atom-2 atom-3' d='M 193.1,46.3 L 198.4,58.4' style='fill:none;fill-rule:evenodd;stroke:#FF0000;stroke-width:1.0px;stroke-linecap:butt;stroke-linejoin:miter;stroke-opacity:1' />\n",
       "<path class='bond-1 atom-2 atom-3' d='M 198.4,58.4 L 203.7,70.4' style='fill:none;fill-rule:evenodd;stroke:#000000;stroke-width:1.0px;stroke-linecap:butt;stroke-linejoin:miter;stroke-opacity:1' />\n",
       "<path class='bond-2 atom-3 atom-4' d='M 203.7,70.4 L 236.4,74.0' style='fill:none;fill-rule:evenodd;stroke:#000000;stroke-width:1.0px;stroke-linecap:butt;stroke-linejoin:miter;stroke-opacity:1' />\n",
       "<path class='bond-3 atom-4 atom-5' d='M 236.4,74.0 L 249.7,104.1' style='fill:none;fill-rule:evenodd;stroke:#000000;stroke-width:1.0px;stroke-linecap:butt;stroke-linejoin:miter;stroke-opacity:1' />\n",
       "<path class='bond-4 atom-5 atom-6' d='M 249.7,104.1 L 230.2,130.7' style='fill:none;fill-rule:evenodd;stroke:#000000;stroke-width:1.0px;stroke-linecap:butt;stroke-linejoin:miter;stroke-opacity:1' />\n",
       "<path class='bond-4 atom-5 atom-6' d='M 252.0,109.4 L 235.9,131.3' style='fill:none;fill-rule:evenodd;stroke:#000000;stroke-width:1.0px;stroke-linecap:butt;stroke-linejoin:miter;stroke-opacity:1' />\n",
       "<path class='bond-5 atom-6 atom-7' d='M 230.2,130.7 L 243.5,160.8' style='fill:none;fill-rule:evenodd;stroke:#000000;stroke-width:1.0px;stroke-linecap:butt;stroke-linejoin:miter;stroke-opacity:1' />\n",
       "<path class='bond-6 atom-7 atom-8' d='M 243.5,160.8 L 276.2,164.4' style='fill:none;fill-rule:evenodd;stroke:#000000;stroke-width:1.0px;stroke-linecap:butt;stroke-linejoin:miter;stroke-opacity:1' />\n",
       "<path class='bond-6 atom-7 atom-8' d='M 246.9,156.2 L 273.9,159.2' style='fill:none;fill-rule:evenodd;stroke:#000000;stroke-width:1.0px;stroke-linecap:butt;stroke-linejoin:miter;stroke-opacity:1' />\n",
       "<path class='bond-7 atom-8 atom-9' d='M 276.2,164.4 L 295.7,137.8' style='fill:none;fill-rule:evenodd;stroke:#000000;stroke-width:1.0px;stroke-linecap:butt;stroke-linejoin:miter;stroke-opacity:1' />\n",
       "<path class='bond-8 atom-9 atom-10' d='M 295.7,137.8 L 328.4,141.4' style='fill:none;fill-rule:evenodd;stroke:#000000;stroke-width:1.0px;stroke-linecap:butt;stroke-linejoin:miter;stroke-opacity:1' />\n",
       "<path class='bond-8 atom-9 atom-10' d='M 299.0,133.3 L 326.1,136.2' style='fill:none;fill-rule:evenodd;stroke:#000000;stroke-width:1.0px;stroke-linecap:butt;stroke-linejoin:miter;stroke-opacity:1' />\n",
       "<path class='bond-9 atom-10 atom-11' d='M 328.4,141.4 L 347.8,114.9' style='fill:none;fill-rule:evenodd;stroke:#000000;stroke-width:1.0px;stroke-linecap:butt;stroke-linejoin:miter;stroke-opacity:1' />\n",
       "<path class='bond-10 atom-11 atom-12' d='M 347.8,114.9 L 380.5,118.5' style='fill:none;fill-rule:evenodd;stroke:#000000;stroke-width:1.0px;stroke-linecap:butt;stroke-linejoin:miter;stroke-opacity:1' />\n",
       "<path class='bond-10 atom-11 atom-12' d='M 351.2,110.3 L 378.2,113.3' style='fill:none;fill-rule:evenodd;stroke:#000000;stroke-width:1.0px;stroke-linecap:butt;stroke-linejoin:miter;stroke-opacity:1' />\n",
       "<path class='bond-11 atom-12 atom-13' d='M 380.5,118.5 L 400.0,91.9' style='fill:none;fill-rule:evenodd;stroke:#000000;stroke-width:1.0px;stroke-linecap:butt;stroke-linejoin:miter;stroke-opacity:1' />\n",
       "<path class='bond-12 atom-13 atom-14' d='M 400.0,91.9 L 386.7,61.8' style='fill:none;fill-rule:evenodd;stroke:#000000;stroke-width:1.0px;stroke-linecap:butt;stroke-linejoin:miter;stroke-opacity:1' />\n",
       "<path class='bond-12 atom-13 atom-14' d='M 394.3,91.3 L 383.4,66.4' style='fill:none;fill-rule:evenodd;stroke:#000000;stroke-width:1.0px;stroke-linecap:butt;stroke-linejoin:miter;stroke-opacity:1' />\n",
       "<path class='bond-13 atom-14 atom-15' d='M 386.7,61.8 L 354.0,58.2' style='fill:none;fill-rule:evenodd;stroke:#000000;stroke-width:1.0px;stroke-linecap:butt;stroke-linejoin:miter;stroke-opacity:1' />\n",
       "<path class='bond-14 atom-15 atom-16' d='M 354.0,58.2 L 334.6,84.8' style='fill:none;fill-rule:evenodd;stroke:#000000;stroke-width:1.0px;stroke-linecap:butt;stroke-linejoin:miter;stroke-opacity:1' />\n",
       "<path class='bond-14 atom-15 atom-16' d='M 356.3,63.5 L 340.2,85.4' style='fill:none;fill-rule:evenodd;stroke:#000000;stroke-width:1.0px;stroke-linecap:butt;stroke-linejoin:miter;stroke-opacity:1' />\n",
       "<path class='bond-15 atom-16 atom-17' d='M 334.6,84.8 L 301.9,81.2' style='fill:none;fill-rule:evenodd;stroke:#000000;stroke-width:1.0px;stroke-linecap:butt;stroke-linejoin:miter;stroke-opacity:1' />\n",
       "<path class='bond-16 atom-17 atom-18' d='M 301.9,81.2 L 282.4,107.7' style='fill:none;fill-rule:evenodd;stroke:#000000;stroke-width:1.0px;stroke-linecap:butt;stroke-linejoin:miter;stroke-opacity:1' />\n",
       "<path class='bond-16 atom-17 atom-18' d='M 304.2,86.4 L 288.1,108.3' style='fill:none;fill-rule:evenodd;stroke:#000000;stroke-width:1.0px;stroke-linecap:butt;stroke-linejoin:miter;stroke-opacity:1' />\n",
       "<path class='bond-17 atom-18 atom-5' d='M 282.4,107.7 L 249.7,104.1' style='fill:none;fill-rule:evenodd;stroke:#000000;stroke-width:1.0px;stroke-linecap:butt;stroke-linejoin:miter;stroke-opacity:1' />\n",
       "<path class='bond-18 atom-18 atom-9' d='M 282.4,107.7 L 295.7,137.8' style='fill:none;fill-rule:evenodd;stroke:#000000;stroke-width:1.0px;stroke-linecap:butt;stroke-linejoin:miter;stroke-opacity:1' />\n",
       "<path class='bond-19 atom-16 atom-11' d='M 334.6,84.8 L 347.8,114.9' style='fill:none;fill-rule:evenodd;stroke:#000000;stroke-width:1.0px;stroke-linecap:butt;stroke-linejoin:miter;stroke-opacity:1' />\n",
       "<path d='M 234.8,73.8 L 236.4,74.0 L 237.1,75.5' style='fill:none;stroke:#000000;stroke-width:1.0px;stroke-linecap:butt;stroke-linejoin:miter;stroke-opacity:1;' />\n",
       "<path d='M 249.0,102.6 L 249.7,104.1 L 248.7,105.5' style='fill:none;stroke:#000000;stroke-width:1.0px;stroke-linecap:butt;stroke-linejoin:miter;stroke-opacity:1;' />\n",
       "<path d='M 231.2,129.4 L 230.2,130.7 L 230.9,132.2' style='fill:none;stroke:#000000;stroke-width:1.0px;stroke-linecap:butt;stroke-linejoin:miter;stroke-opacity:1;' />\n",
       "<path d='M 274.6,164.2 L 276.2,164.4 L 277.2,163.1' style='fill:none;stroke:#000000;stroke-width:1.0px;stroke-linecap:butt;stroke-linejoin:miter;stroke-opacity:1;' />\n",
       "<path d='M 326.7,141.3 L 328.4,141.4 L 329.3,140.1' style='fill:none;stroke:#000000;stroke-width:1.0px;stroke-linecap:butt;stroke-linejoin:miter;stroke-opacity:1;' />\n",
       "<path d='M 346.9,116.2 L 347.8,114.9 L 349.5,115.1' style='fill:none;stroke:#000000;stroke-width:1.0px;stroke-linecap:butt;stroke-linejoin:miter;stroke-opacity:1;' />\n",
       "<path d='M 378.9,118.3 L 380.5,118.5 L 381.5,117.1' style='fill:none;stroke:#000000;stroke-width:1.0px;stroke-linecap:butt;stroke-linejoin:miter;stroke-opacity:1;' />\n",
       "<path d='M 399.0,93.3 L 400.0,91.9 L 399.3,90.4' style='fill:none;stroke:#000000;stroke-width:1.0px;stroke-linecap:butt;stroke-linejoin:miter;stroke-opacity:1;' />\n",
       "<path d='M 355.7,58.4 L 354.0,58.2 L 353.1,59.6' style='fill:none;stroke:#000000;stroke-width:1.0px;stroke-linecap:butt;stroke-linejoin:miter;stroke-opacity:1;' />\n",
       "<path class='atom-0' d='M 177.0 35.7\n",
       "L 178.3 35.7\n",
       "L 178.3 39.7\n",
       "L 183.0 39.7\n",
       "L 183.0 35.7\n",
       "L 184.3 35.7\n",
       "L 184.3 45.0\n",
       "L 183.0 45.0\n",
       "L 183.0 40.7\n",
       "L 178.3 40.7\n",
       "L 178.3 45.0\n",
       "L 177.0 45.0\n",
       "L 177.0 35.7\n",
       "' fill='#FF0000'/>\n",
       "<path class='atom-0' d='M 186.2 40.4\n",
       "Q 186.2 38.1, 187.3 36.9\n",
       "Q 188.4 35.6, 190.5 35.6\n",
       "Q 192.6 35.6, 193.7 36.9\n",
       "Q 194.8 38.1, 194.8 40.4\n",
       "Q 194.8 42.6, 193.6 43.9\n",
       "Q 192.5 45.2, 190.5 45.2\n",
       "Q 188.4 45.2, 187.3 43.9\n",
       "Q 186.2 42.6, 186.2 40.4\n",
       "M 190.5 44.1\n",
       "Q 191.9 44.1, 192.7 43.2\n",
       "Q 193.4 42.2, 193.4 40.4\n",
       "Q 193.4 38.5, 192.7 37.6\n",
       "Q 191.9 36.7, 190.5 36.7\n",
       "Q 189.1 36.7, 188.3 37.6\n",
       "Q 187.5 38.5, 187.5 40.4\n",
       "Q 187.5 42.2, 188.3 43.2\n",
       "Q 189.1 44.1, 190.5 44.1\n",
       "' fill='#FF0000'/>\n",
       "<path class='bond-20 atom-19 atom-20' d='M 490.5,45.3 L 496.6,57.0' style='fill:none;fill-rule:evenodd;stroke:#7F4C19;stroke-width:1.0px;stroke-linecap:butt;stroke-linejoin:miter;stroke-opacity:1' />\n",
       "<path class='bond-20 atom-19 atom-20' d='M 496.6,57.0 L 502.7,68.7' style='fill:none;fill-rule:evenodd;stroke:#000000;stroke-width:1.0px;stroke-linecap:butt;stroke-linejoin:miter;stroke-opacity:1' />\n",
       "<path class='bond-21 atom-20 atom-21' d='M 502.7,68.7 L 535.6,70.1' style='fill:none;fill-rule:evenodd;stroke:#000000;stroke-width:1.0px;stroke-linecap:butt;stroke-linejoin:miter;stroke-opacity:1' />\n",
       "<path class='bond-22 atom-21 atom-22' d='M 535.6,70.1 L 550.8,99.3' style='fill:none;fill-rule:evenodd;stroke:#000000;stroke-width:1.0px;stroke-linecap:butt;stroke-linejoin:miter;stroke-opacity:1' />\n",
       "<path class='bond-23 atom-22 atom-23' d='M 550.8,99.3 L 533.1,127.1' style='fill:none;fill-rule:evenodd;stroke:#000000;stroke-width:1.0px;stroke-linecap:butt;stroke-linejoin:miter;stroke-opacity:1' />\n",
       "<path class='bond-23 atom-22 atom-23' d='M 553.4,104.4 L 538.8,127.3' style='fill:none;fill-rule:evenodd;stroke:#000000;stroke-width:1.0px;stroke-linecap:butt;stroke-linejoin:miter;stroke-opacity:1' />\n",
       "<path class='bond-24 atom-23 atom-24' d='M 533.1,127.1 L 548.4,156.2' style='fill:none;fill-rule:evenodd;stroke:#000000;stroke-width:1.0px;stroke-linecap:butt;stroke-linejoin:miter;stroke-opacity:1' />\n",
       "<path class='bond-25 atom-24 atom-25' d='M 548.4,156.2 L 581.2,157.6' style='fill:none;fill-rule:evenodd;stroke:#000000;stroke-width:1.0px;stroke-linecap:butt;stroke-linejoin:miter;stroke-opacity:1' />\n",
       "<path class='bond-25 atom-24 atom-25' d='M 551.4,151.4 L 578.6,152.6' style='fill:none;fill-rule:evenodd;stroke:#000000;stroke-width:1.0px;stroke-linecap:butt;stroke-linejoin:miter;stroke-opacity:1' />\n",
       "<path class='bond-26 atom-25 atom-26' d='M 581.2,157.6 L 598.9,129.9' style='fill:none;fill-rule:evenodd;stroke:#000000;stroke-width:1.0px;stroke-linecap:butt;stroke-linejoin:miter;stroke-opacity:1' />\n",
       "<path class='bond-27 atom-26 atom-27' d='M 598.9,129.9 L 631.8,131.3' style='fill:none;fill-rule:evenodd;stroke:#000000;stroke-width:1.0px;stroke-linecap:butt;stroke-linejoin:miter;stroke-opacity:1' />\n",
       "<path class='bond-27 atom-26 atom-27' d='M 601.9,125.1 L 629.1,126.2' style='fill:none;fill-rule:evenodd;stroke:#000000;stroke-width:1.0px;stroke-linecap:butt;stroke-linejoin:miter;stroke-opacity:1' />\n",
       "<path class='bond-28 atom-27 atom-28' d='M 631.8,131.3 L 637.9,143.0' style='fill:none;fill-rule:evenodd;stroke:#000000;stroke-width:1.0px;stroke-linecap:butt;stroke-linejoin:miter;stroke-opacity:1' />\n",
       "<path class='bond-28 atom-27 atom-28' d='M 637.9,143.0 L 644.0,154.7' style='fill:none;fill-rule:evenodd;stroke:#7F4C19;stroke-width:1.0px;stroke-linecap:butt;stroke-linejoin:miter;stroke-opacity:1' />\n",
       "<path class='bond-29 atom-27 atom-29' d='M 631.8,131.3 L 649.4,103.5' style='fill:none;fill-rule:evenodd;stroke:#000000;stroke-width:1.0px;stroke-linecap:butt;stroke-linejoin:miter;stroke-opacity:1' />\n",
       "<path class='bond-30 atom-29 atom-30' d='M 649.4,103.5 L 682.3,104.9' style='fill:none;fill-rule:evenodd;stroke:#000000;stroke-width:1.0px;stroke-linecap:butt;stroke-linejoin:miter;stroke-opacity:1' />\n",
       "<path class='bond-30 atom-29 atom-30' d='M 652.5,98.7 L 679.6,99.8' style='fill:none;fill-rule:evenodd;stroke:#000000;stroke-width:1.0px;stroke-linecap:butt;stroke-linejoin:miter;stroke-opacity:1' />\n",
       "<path class='bond-31 atom-30 atom-31' d='M 682.3,104.9 L 699.9,77.1' style='fill:none;fill-rule:evenodd;stroke:#000000;stroke-width:1.0px;stroke-linecap:butt;stroke-linejoin:miter;stroke-opacity:1' />\n",
       "<path class='bond-32 atom-31 atom-32' d='M 699.9,77.1 L 684.7,47.9' style='fill:none;fill-rule:evenodd;stroke:#000000;stroke-width:1.0px;stroke-linecap:butt;stroke-linejoin:miter;stroke-opacity:1' />\n",
       "<path class='bond-32 atom-31 atom-32' d='M 694.2,76.9 L 681.7,52.8' style='fill:none;fill-rule:evenodd;stroke:#000000;stroke-width:1.0px;stroke-linecap:butt;stroke-linejoin:miter;stroke-opacity:1' />\n",
       "<path class='bond-33 atom-32 atom-33' d='M 684.7,47.9 L 651.8,46.6' style='fill:none;fill-rule:evenodd;stroke:#000000;stroke-width:1.0px;stroke-linecap:butt;stroke-linejoin:miter;stroke-opacity:1' />\n",
       "<path class='bond-34 atom-33 atom-34' d='M 651.8,46.6 L 634.2,74.3' style='fill:none;fill-rule:evenodd;stroke:#000000;stroke-width:1.0px;stroke-linecap:butt;stroke-linejoin:miter;stroke-opacity:1' />\n",
       "<path class='bond-34 atom-33 atom-34' d='M 654.5,51.6 L 639.9,74.6' style='fill:none;fill-rule:evenodd;stroke:#000000;stroke-width:1.0px;stroke-linecap:butt;stroke-linejoin:miter;stroke-opacity:1' />\n",
       "<path class='bond-35 atom-34 atom-35' d='M 634.2,74.3 L 601.3,72.9' style='fill:none;fill-rule:evenodd;stroke:#000000;stroke-width:1.0px;stroke-linecap:butt;stroke-linejoin:miter;stroke-opacity:1' />\n",
       "<path class='bond-36 atom-35 atom-36' d='M 601.3,72.9 L 583.7,100.7' style='fill:none;fill-rule:evenodd;stroke:#000000;stroke-width:1.0px;stroke-linecap:butt;stroke-linejoin:miter;stroke-opacity:1' />\n",
       "<path class='bond-36 atom-35 atom-36' d='M 603.9,78.0 L 589.4,100.9' style='fill:none;fill-rule:evenodd;stroke:#000000;stroke-width:1.0px;stroke-linecap:butt;stroke-linejoin:miter;stroke-opacity:1' />\n",
       "<path class='bond-37 atom-36 atom-22' d='M 583.7,100.7 L 550.8,99.3' style='fill:none;fill-rule:evenodd;stroke:#000000;stroke-width:1.0px;stroke-linecap:butt;stroke-linejoin:miter;stroke-opacity:1' />\n",
       "<path class='bond-38 atom-36 atom-26' d='M 583.7,100.7 L 598.9,129.9' style='fill:none;fill-rule:evenodd;stroke:#000000;stroke-width:1.0px;stroke-linecap:butt;stroke-linejoin:miter;stroke-opacity:1' />\n",
       "<path class='bond-39 atom-34 atom-29' d='M 634.2,74.3 L 649.4,103.5' style='fill:none;fill-rule:evenodd;stroke:#000000;stroke-width:1.0px;stroke-linecap:butt;stroke-linejoin:miter;stroke-opacity:1' />\n",
       "<path class='atom-0' d='M 482.6 39.3\n",
       "Q 483.5 39.6, 483.9 40.1\n",
       "Q 484.4 40.7, 484.4 41.5\n",
       "Q 484.4 42.8, 483.6 43.5\n",
       "Q 482.8 44.2, 481.2 44.2\n",
       "L 478.1 44.2\n",
       "L 478.1 34.9\n",
       "L 480.8 34.9\n",
       "Q 482.4 34.9, 483.2 35.5\n",
       "Q 484.0 36.2, 484.0 37.4\n",
       "Q 484.0 38.8, 482.6 39.3\n",
       "M 479.3 36.0\n",
       "L 479.3 38.9\n",
       "L 480.8 38.9\n",
       "Q 481.7 38.9, 482.2 38.5\n",
       "Q 482.7 38.1, 482.7 37.4\n",
       "Q 482.7 36.0, 480.8 36.0\n",
       "L 479.3 36.0\n",
       "M 481.2 43.2\n",
       "Q 482.1 43.2, 482.6 42.7\n",
       "Q 483.1 42.3, 483.1 41.5\n",
       "Q 483.1 40.7, 482.5 40.3\n",
       "Q 482.0 39.9, 481.0 39.9\n",
       "L 479.3 39.9\n",
       "L 479.3 43.2\n",
       "L 481.2 43.2\n",
       "' fill='#7F4C19'/>\n",
       "<path class='atom-0' d='M 486.5 37.5\n",
       "L 486.7 38.4\n",
       "Q 487.4 37.3, 488.5 37.3\n",
       "Q 488.9 37.3, 489.4 37.5\n",
       "L 489.2 38.6\n",
       "Q 488.6 38.4, 488.3 38.4\n",
       "Q 487.8 38.4, 487.4 38.7\n",
       "Q 487.0 38.9, 486.7 39.4\n",
       "L 486.7 44.2\n",
       "L 485.5 44.2\n",
       "L 485.5 37.5\n",
       "L 486.5 37.5\n",
       "' fill='#7F4C19'/>\n",
       "<path class='atom-9' d='M 648.4 160.2\n",
       "Q 649.2 160.4, 649.7 161.0\n",
       "Q 650.2 161.5, 650.2 162.3\n",
       "Q 650.2 163.6, 649.3 164.4\n",
       "Q 648.5 165.1, 647.0 165.1\n",
       "L 643.8 165.1\n",
       "L 643.8 155.8\n",
       "L 646.6 155.8\n",
       "Q 648.2 155.8, 649.0 156.4\n",
       "Q 649.8 157.1, 649.8 158.3\n",
       "Q 649.8 159.7, 648.4 160.2\n",
       "M 645.1 156.8\n",
       "L 645.1 159.8\n",
       "L 646.6 159.8\n",
       "Q 647.5 159.8, 648.0 159.4\n",
       "Q 648.5 159.0, 648.5 158.3\n",
       "Q 648.5 156.8, 646.6 156.8\n",
       "L 645.1 156.8\n",
       "M 647.0 164.0\n",
       "Q 647.9 164.0, 648.4 163.6\n",
       "Q 648.8 163.2, 648.8 162.3\n",
       "Q 648.8 161.6, 648.3 161.2\n",
       "Q 647.8 160.8, 646.8 160.8\n",
       "L 645.1 160.8\n",
       "L 645.1 164.0\n",
       "L 647.0 164.0\n",
       "' fill='#7F4C19'/>\n",
       "<path class='atom-9' d='M 652.3 158.3\n",
       "L 652.4 159.3\n",
       "Q 653.1 158.2, 654.3 158.2\n",
       "Q 654.7 158.2, 655.2 158.3\n",
       "L 655.0 159.4\n",
       "Q 654.4 159.3, 654.1 159.3\n",
       "Q 653.5 159.3, 653.2 159.5\n",
       "Q 652.8 159.8, 652.5 160.3\n",
       "L 652.5 165.1\n",
       "L 651.3 165.1\n",
       "L 651.3 158.3\n",
       "L 652.3 158.3\n",
       "' fill='#7F4C19'/>\n",
       "<path d='M 413.0,100.0 L 465.0,100.0' style='fill:none;fill-rule:evenodd;stroke:#000000;stroke-width:1.0px;stroke-linecap:butt;stroke-linejoin:miter;stroke-opacity:1' />\n",
       "<path d='M 465.0,100.0 L 460.0,102.9' style='fill:none;fill-rule:evenodd;stroke:#000000;stroke-width:1.0px;stroke-linecap:butt;stroke-linejoin:miter;stroke-opacity:1' />\n",
       "<path d='M 465.0,100.0 L 460.0,97.1' style='fill:none;fill-rule:evenodd;stroke:#000000;stroke-width:1.0px;stroke-linecap:butt;stroke-linejoin:miter;stroke-opacity:1' />\n",
       "</svg>\n",
       "<div style='padding: 32px'><h3><u>Reaction Result</u> <reverse> CACHED </reverse></h3>\n",
       "<span style=\"color: #dc0\">Smiles:    </span> BrBr.OCCc1cccc2cc3ccccc3cc12>>BrCCc1cccc2c(Br)c3ccccc3cc12<br><span style=\"color: #dc0\">Reaction:  </span> BrBr <span style=\"color: #ccc\">+</span> c1ccc2cc3ccccc3cc2c1CCO <span style=\"color: #ccc\">----></span> BrCCc1cccc2c(Br)c3ccccc3cc12<br><span style=\"color: #dc0\">Confidence:</span> <span style=\"color: #ccc\">65.0%</span><br> <br> \n",
       "</div></div>"
      ],
      "text/plain": [
       "<IPython.core.display.HTML object>"
      ]
     },
     "metadata": {},
     "output_type": "display_data"
    }
   ],
   "source": [
    "# Cached\n",
    "%openad rxn predict reaction 'BrBr.c1ccc2cc3ccccc3cc2c1CCO' use cache"
   ]
  },
  {
   "cell_type": "code",
   "execution_count": null,
   "id": "3bd1c20a-f253-4309-96d3-96dde5756b8c",
   "metadata": {
    "tags": []
   },
   "outputs": [],
   "source": [
    "# Rich output\n",
    "%openad rxn predict reaction 'BrBr.c1ccc2cc3ccccc3cc2c1CCO' rich use cache"
   ]
  },
  {
   "cell_type": "code",
   "execution_count": null,
   "id": "e5fcebf1-f97a-4a9e-928f-52b0a18e9d56",
   "metadata": {
    "tags": []
   },
   "outputs": [],
   "source": [
    "# Using topn\n",
    "%openad rxn predict reaction 'BrBr.c1ccc2cc3ccccc3cc2c1CCO' using (topn=3)"
   ]
  },
  {
   "cell_type": "code",
   "execution_count": null,
   "id": "f57f1af9-cd8e-4422-aa34-c1ae67e35b70",
   "metadata": {
    "tags": []
   },
   "outputs": [],
   "source": [
    "# Using topn rich output\n",
    "%openad rxn predict reaction 'BrBr.c1ccc2cc3ccccc3cc2c1CCO' using (topn=3) rich use cache"
   ]
  },
  {
   "cell_type": "code",
   "execution_count": null,
   "id": "0c263105-2b78-4108-b579-5b47ad62b57e",
   "metadata": {
    "tags": []
   },
   "outputs": [],
   "source": [
    "# Invalid\n",
    "%openad rxn predict reaction 'BrBr.ABD.c1ccc2cc3ccccc3cc2c1CCO'"
   ]
  },
  {
   "cell_type": "code",
   "execution_count": null,
   "id": "baa7eb5c-db38-4115-82cc-e18076cb5bcf",
   "metadata": {
    "tags": []
   },
   "outputs": [],
   "source": [
    "# Invalid cached\n",
    "%openad rxn predict reaction 'BrBr.ABD.c1ccc2cc3ccccc3cc2c1CCO' use cache"
   ]
  },
  {
   "cell_type": "code",
   "execution_count": null,
   "id": "d4576c1b-3884-405b-af09-7c560589253d",
   "metadata": {
    "tags": []
   },
   "outputs": [],
   "source": [
    "# Invalid rich output\n",
    "%openad rxn predict reaction 'BrBr.ABD.c1ccc2cc3ccccc3cc2c1CCO' rich use cache"
   ]
  },
  {
   "cell_type": "code",
   "execution_count": null,
   "id": "56792ae9-0ef1-401d-810c-b0f5baf64e2b",
   "metadata": {
    "tags": []
   },
   "outputs": [],
   "source": [
    "# Data API\n",
    "data = %openadd rxn predict reaction 'BrBr.c1ccc2cc3ccccc3cc2c1CCO' use cache\n",
    "data"
   ]
  },
  {
   "cell_type": "markdown",
   "id": "174c1574-1f30-4205-8011-8f517e385d41",
   "metadata": {},
   "source": [
    "<br>"
   ]
  },
  {
   "cell_type": "markdown",
   "id": "3fb732c6-941e-49b4-b0f5-5dfebe8efa70",
   "metadata": {
    "tags": []
   },
   "source": [
    "### Predict reactions from list"
   ]
  },
  {
   "cell_type": "code",
   "execution_count": null,
   "id": "5017bb46-4e43-4cac-a254-669c837ccce1",
   "metadata": {
    "tags": []
   },
   "outputs": [],
   "source": [
    "# Regular\n",
    "%openad rxn predict reactions from list ['BrBr.c1ccc2cc3ccccc3cc2c1CCO' , 'BrBr.c1ccc2cc3ccccc3cc2c1', 'BrBr.ABC.c1ccc2cc3ccccc3cc2c1']"
   ]
  },
  {
   "cell_type": "code",
   "execution_count": null,
   "id": "3036e379-9dbb-4401-b2a3-1fde95e7196d",
   "metadata": {
    "tags": []
   },
   "outputs": [],
   "source": [
    "# Cached\n",
    "%openad rxn predict reactions from list ['BrBr.c1ccc2cc3ccccc3cc2c1CCO' , 'BrBr.c1ccc2cc3ccccc3cc2c1', 'BrBr.ABC.c1ccc2cc3ccccc3cc2c1'] use cache"
   ]
  },
  {
   "cell_type": "code",
   "execution_count": null,
   "id": "1d905151-1b45-4cc1-8fc6-5505c9364d34",
   "metadata": {
    "tags": []
   },
   "outputs": [],
   "source": [
    "# Rich output\n",
    "%openad rxn predict reactions from list ['BrBr.c1ccc2cc3ccccc3cc2c1CCO' , 'BrBr.c1ccc2cc3ccccc3cc2c1', 'BrBr.ABC.c1ccc2cc3ccccc3cc2c1'] rich use cache"
   ]
  },
  {
   "cell_type": "code",
   "execution_count": null,
   "id": "21ad83ae-1c7d-4abc-ab35-6be2fb9485ff",
   "metadata": {
    "tags": []
   },
   "outputs": [],
   "source": [
    "# Using ai_model\n",
    "%openad rxn predict reactions from list ['BrBr.c1ccc2cc3ccccc3cc2c1CCO' , 'BrBr.c1ccc2cc3ccccc3cc2c1', 'BrBr.ABC.c1ccc2cc3ccccc3cc2c1'] using (ai_model='2018-08-31')"
   ]
  },
  {
   "cell_type": "code",
   "execution_count": null,
   "id": "83910875-474c-4b08-bcbc-7d0845623b2a",
   "metadata": {
    "tags": []
   },
   "outputs": [],
   "source": [
    "# Using topn\n",
    "%openad rxn predict reactions from list ['BrBr.c1ccc2cc3ccccc3cc2c1CCO' , 'BrBr.c1ccc2cc3ccccc3cc2c1', 'BrBr.ABC.c1ccc2cc3ccccc3cc2c1'] using (topn=3)"
   ]
  },
  {
   "cell_type": "code",
   "execution_count": null,
   "id": "5fbfe57c-2a18-4a24-92b6-6ecb5932b59c",
   "metadata": {
    "tags": []
   },
   "outputs": [],
   "source": [
    "# Using topn rich output\n",
    "%openad rxn predict reactions from list ['BrBr.c1ccc2cc3ccccc3cc2c1CCO' , 'BrBr.c1ccc2cc3ccccc3cc2c1', 'BrBr.ABC.c1ccc2cc3ccccc3cc2c1'] using (topn=3) rich use cache"
   ]
  },
  {
   "cell_type": "code",
   "execution_count": null,
   "id": "579e5256-e09a-4a3f-86b5-f07768023416",
   "metadata": {
    "tags": []
   },
   "outputs": [],
   "source": [
    "# Data API\n",
    "data = %openadd rxn predict reactions from list ['BrBr.c1ccc2cc3ccccc3cc2c1CCO' , 'BrBr.c1ccc2cc3ccccc3cc2c1', 'BrBr.ABC.c1ccc2cc3ccccc3cc2c1']\n",
    "data"
   ]
  },
  {
   "cell_type": "code",
   "execution_count": null,
   "id": "c022eacb-a583-4240-bfad-d872a57f4973",
   "metadata": {
    "tags": []
   },
   "outputs": [],
   "source": [
    "# Data API with topn\n",
    "data = %openadd rxn predict reactions from list ['BrBr.c1ccc2cc3ccccc3cc2c1CCO' , 'BrBr.c1ccc2cc3ccccc3cc2c1', 'BrBr.ABC.c1ccc2cc3ccccc3cc2c1'] using (topn=3) use cache\n",
    "data"
   ]
  },
  {
   "cell_type": "markdown",
   "id": "3fdee083-56e5-4109-8337-25f0c5e25a2d",
   "metadata": {},
   "source": [
    "<br>"
   ]
  },
  {
   "cell_type": "markdown",
   "id": "fd6a2ac8-a2b0-42fd-bc74-c7ba7daa7430",
   "metadata": {
    "tags": []
   },
   "source": [
    "### Predict reactions from file"
   ]
  },
  {
   "cell_type": "code",
   "execution_count": null,
   "id": "fc70234f-123c-47cd-8684-06923f7fcca1",
   "metadata": {},
   "outputs": [],
   "source": [
    "# Regular\n",
    "%openad rxn predict reactions from file 'my_reactions.csv'"
   ]
  },
  {
   "cell_type": "code",
   "execution_count": null,
   "id": "072e5396-5650-4d63-9834-d4a89d0791f8",
   "metadata": {},
   "outputs": [],
   "source": [
    "# Cached\n",
    "%openad rxn predict reactions from file 'my_reactions.csv' use cache"
   ]
  },
  {
   "cell_type": "code",
   "execution_count": null,
   "id": "e8e4bf75-93ab-4aff-89c3-64a458aebded",
   "metadata": {
    "tags": []
   },
   "outputs": [],
   "source": [
    "# Data API\n",
    "data = %openadd rxn predict reactions from file 'my_reactions.csv' use cache\n",
    "data"
   ]
  },
  {
   "cell_type": "markdown",
   "id": "17be2170-ce0b-4259-8605-8e61e6eeb5aa",
   "metadata": {},
   "source": [
    "<br>"
   ]
  },
  {
   "cell_type": "markdown",
   "id": "96abc4dc-a57a-4d27-b108-7a51d3857e22",
   "metadata": {
    "tags": []
   },
   "source": [
    "### Predict reactions from dataframe"
   ]
  },
  {
   "cell_type": "code",
   "execution_count": null,
   "id": "36ceab54-5918-462c-8f99-a543640efdd7",
   "metadata": {
    "tags": []
   },
   "outputs": [],
   "source": [
    "# Regular\n",
    "%openad rxn predict reactions from dataframe my_reactions_df"
   ]
  },
  {
   "cell_type": "code",
   "execution_count": null,
   "id": "cf371f59-3fc2-428a-900d-f5f46265bb15",
   "metadata": {
    "tags": []
   },
   "outputs": [],
   "source": [
    "# Cached\n",
    "%openad rxn predict reactions from dataframe my_reactions_df use cache"
   ]
  },
  {
   "cell_type": "code",
   "execution_count": null,
   "id": "9e1d0ccb-3827-4bb4-a967-78b035902bb6",
   "metadata": {
    "tags": []
   },
   "outputs": [],
   "source": [
    "# Data API\n",
    "data = %openadd rxn predict reactions from dataframe my_reactions_df use cache\n",
    "data"
   ]
  },
  {
   "cell_type": "markdown",
   "id": "c8f28ad6-4c7a-458c-8da4-240885aa8478",
   "metadata": {},
   "source": [
    "<br>"
   ]
  },
  {
   "cell_type": "markdown",
   "id": "35b5a87a-bcb8-40d2-bc7b-efc5d2744cfe",
   "metadata": {},
   "source": [
    "### Enrich molecule working set with RXN analysis"
   ]
  },
  {
   "cell_type": "code",
   "execution_count": null,
   "id": "582ee5da-251c-4a02-9315-a977341a1d77",
   "metadata": {},
   "outputs": [],
   "source": [
    "# Predict retrosynthesis\n",
    "%openad clear analysis cache\n",
    "%openad clear mols\n",
    "\n",
    "sm = 'CC(=O)N1CCC2(CC1)C3=C(C=CC(=C3)C#CC4C(C(C(C(O4)CO)O)O)O)C5=C2C=C(C=C5)C#CC6C(C(C(C(O6)CO)O)O)O'\n",
    "x = %openadd rxn predict retrosynthesis '{sm}' using (max_steps=3) use cache\n",
    "\n",
    "%openad add molecule '{sm}' force\n",
    "%openad enrich molecules with analysis\n",
    "\n",
    "# %openad display mol '{sm}'\n",
    "%openad show mol '{sm}'"
   ]
  },
  {
   "cell_type": "code",
   "execution_count": null,
   "id": "b989fd9e-8e51-4760-bda4-b73d0e0a1943",
   "metadata": {
    "tags": []
   },
   "outputs": [],
   "source": [
    "# Predict reaction\n",
    "%openad clear analysis cache\n",
    "%openad clear mols\n",
    "\n",
    "sm1 = 'BrBr'\n",
    "sm2 = 'c1ccc2cc3ccccc3cc2c1CCO'\n",
    "sm3 = 'c1ccc2cc3ccccc3cc2c1'\n",
    "x = %openadd rxn predict reaction '{sm1}.{sm2}' using (max_steps=3)\n",
    "x = %openadd rxn predict reaction '{sm1}.{sm3}' using (max_steps=3)\n",
    "\n",
    "%openad add molecule '{sm1}' force\n",
    "%openad add molecule '{sm2}' force\n",
    "%openad add molecule '{sm3}' force\n",
    "%openad enrich molecules with analysis\n",
    "\n",
    "# %openad display mol '{sm1}'\n",
    "%openad show mol '{sm1}'\n",
    "%openad show mol '{sm2}'\n",
    "%openad show mol '{sm3}'"
   ]
  },
  {
   "cell_type": "code",
   "execution_count": null,
   "id": "5fa20799-5103-41a3-a6e5-11070df262b6",
   "metadata": {},
   "outputs": [],
   "source": []
  }
 ],
 "metadata": {
  "kernelspec": {
   "display_name": "ad-venv",
   "language": "python",
   "name": "ad-venv"
  },
  "language_info": {
   "codemirror_mode": {
    "name": "ipython",
    "version": 3
   },
   "file_extension": ".py",
   "mimetype": "text/x-python",
   "name": "python",
   "nbconvert_exporter": "python",
   "pygments_lexer": "ipython3",
   "version": "3.10.14"
  }
 },
 "nbformat": 4,
 "nbformat_minor": 5
}
