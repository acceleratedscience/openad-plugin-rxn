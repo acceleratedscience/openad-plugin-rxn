{
 "cells": [
  {
   "cell_type": "markdown",
   "id": "64dc2c17-4844-4a62-939c-a27c237e75eb",
   "metadata": {},
   "source": [
    "# Test RXN Plugin\n",
    "\n",
    "Just press `►►` and check for errors."
   ]
  },
  {
   "cell_type": "code",
   "execution_count": 2,
   "id": "2fbcf733",
   "metadata": {
    "tags": [],
    "vscode": {
     "languageId": "plaintext"
    }
   },
   "outputs": [
    {
     "data": {
      "text/markdown": [
       "<span style=\"color: #dc0\"> PLUGIN </span> RXN  <br> \n",
       "\n",
       "<span style=\"color: #ccc\">To learn more about this plugin, run `rxn ?`</span> <br> \n",
       "\n",
       "<span style=\"color: #ccc\">|</span>    General <br> \n",
       "<span style=\"color: #ccc\">|</span>    `rxn list models [ save as '<filename.csv>' ]` <br> \n",
       "<span style=\"color: #ccc\">|</span>    `rxn interpret recipe '<recipe>' | '<recipe.txt>' ` <br> \n",
       "<span style=\"color: #ccc\">|</span>     <br> \n",
       "<span style=\"color: #ccc\">|</span>    Prediction <br> \n",
       "<span style=\"color: #ccc\">|</span>    `rxn predict retrosynthesis|retro '<smiles>' [ USING (<parameter>=<value> <parameter>=<value>) ] [ no cache ]` <br> \n",
       "<span style=\"color: #ccc\">|</span>    `rxn predict reaction '<smiles>.<smiles>' [ USING (ai_model='<ai_model>') ] [ no cache ]` <br> \n",
       "<span style=\"color: #ccc\">|</span>    `rxn predict reactions from list ['<smiles>.<smiles>',...] [ USING (ai_model='<ai_model>' <topn>=<integer>) ] [ no cache ]` <br> \n",
       "<span style=\"color: #ccc\">|</span>    `rxn predict reactions from file '<filename.csv>' [ USING (ai_model='<ai_model>' <topn>=<integer>) ] [ no cache ]` <br> \n",
       "<span style=\"color: #ccc\">|</span>    `rxn predict reactions from dataframe <dataframe_name> [ USING (ai_model='<ai_model>' <topn>=<integer>) ] [ no cache ]` <br> \n"
      ],
      "text/plain": [
       "<IPython.core.display.Markdown object>"
      ]
     },
     "execution_count": 2,
     "metadata": {},
     "output_type": "execute_result"
    }
   ],
   "source": [
    "%openad rxn ?"
   ]
  },
  {
   "cell_type": "markdown",
   "id": "99e26473-49f0-446b-b3e9-506d52a93d3c",
   "metadata": {},
   "source": [
    "<br><br>\n",
    "<hr>\n",
    "\n",
    "## General"
   ]
  },
  {
   "cell_type": "code",
   "execution_count": 1,
   "id": "e3c3ba29-3623-4f25-9a6b-fb17e94a2363",
   "metadata": {
    "tags": []
   },
   "outputs": [
    {
     "data": {
      "text/markdown": [
       "`rxn list models [ save as '<filename.csv>' ]` <br> \n",
       "<span style=\"color: #ccc\">--------------------------------------------</span> <br> \n",
       "Lists all available RXN models. <br> \n",
       "\n",
       "Use the `save as` clause to save the results as a csv file in your current workspace. <br> \n",
       "\n",
       "\n",
       "<span style=\"color: #ccc\"> i  To see all available RXN commands, run `rxn ?`</span> <br> \n"
      ],
      "text/plain": [
       "<IPython.core.display.Markdown object>"
      ]
     },
     "execution_count": 1,
     "metadata": {},
     "output_type": "execute_result"
    }
   ],
   "source": [
    "%openad rxn list models ?"
   ]
  },
  {
   "cell_type": "code",
   "execution_count": 1,
   "id": "2e295203-dd59-4c49-99dd-d0254487a9af",
   "metadata": {
    "tags": []
   },
   "outputs": [
    {
     "data": {
      "text/markdown": [
       "<span style=\"color: #d00\">Unknown error</span> <br> \n",
       "<span style=\"color: #ccc\">Expected end of text, found 'list'  (at char 4), (line:1, col:5)</span> <br> \n"
      ],
      "text/plain": [
       "<IPython.core.display.Markdown object>"
      ]
     },
     "metadata": {},
     "output_type": "display_data"
    }
   ],
   "source": [
    "%openad rxn list models"
   ]
  },
  {
   "cell_type": "markdown",
   "id": "8e7dd493-fe0a-4d73-a093-1e57484d3769",
   "metadata": {},
   "source": [
    "<br><br>\n",
    "<hr>\n",
    "\n",
    "## Prediction"
   ]
  }
 ],
 "metadata": {
  "kernelspec": {
   "display_name": "venv",
   "language": "python",
   "name": "venv"
  },
  "language_info": {
   "codemirror_mode": {
    "name": "ipython",
    "version": 3
   },
   "file_extension": ".py",
   "mimetype": "text/x-python",
   "name": "python",
   "nbconvert_exporter": "python",
   "pygments_lexer": "ipython3",
   "version": "3.10.14"
  }
 },
 "nbformat": 4,
 "nbformat_minor": 5
}
