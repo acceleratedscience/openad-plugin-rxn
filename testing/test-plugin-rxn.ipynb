{
 "cells": [
  {
   "cell_type": "markdown",
   "id": "64dc2c17-4844-4a62-939c-a27c237e75eb",
   "metadata": {
    "tags": []
   },
   "source": [
    "# Test RXN Plugin\n",
    "\n",
    "Just press `►►` and check for errors."
   ]
  },
  {
   "cell_type": "markdown",
   "id": "780ca710-ea32-4297-8ebd-acb6ff54e90e",
   "metadata": {},
   "source": [
    "<br>"
   ]
  },
  {
   "cell_type": "markdown",
   "id": "7bafdc38-ac19-4db2-819a-9854e3988fb3",
   "metadata": {
    "tags": []
   },
   "source": [
    "### Prep"
   ]
  },
  {
   "cell_type": "code",
   "execution_count": null,
   "id": "0ce89ab2-8736-460f-916a-c010d09aed5d",
   "metadata": {
    "tags": []
   },
   "outputs": [],
   "source": [
    "# Move test file into your workspace\n",
    "import os\n",
    "\n",
    "# Recipe txt file\n",
    "recipe_path = os.path.join(os.getcwd(), 'my_recipe.txt')\n",
    "%openad import from '{recipe_path}' to 'my_recipe.txt'\n",
    "\n",
    "\n",
    "# Reactions csv file\n",
    "reactions_csv_path = os.path.join(os.getcwd(), 'my_reactions.csv')\n",
    "%openad import from '{reactions_csv_path}' to 'my_reactions.csv'"
   ]
  },
  {
   "cell_type": "markdown",
   "id": "cff25ff0-3aa1-4c18-857e-e62d6130ce5b",
   "metadata": {},
   "source": [
    "<br>"
   ]
  },
  {
   "cell_type": "markdown",
   "id": "d8c96588-446f-4504-ad7c-a4f51c40acda",
   "metadata": {},
   "source": [
    "## Plugin Help"
   ]
  },
  {
   "cell_type": "code",
   "execution_count": null,
   "id": "2fbcf733",
   "metadata": {
    "tags": [],
    "vscode": {
     "languageId": "plaintext"
    }
   },
   "outputs": [],
   "source": [
    "%openad rxn"
   ]
  },
  {
   "cell_type": "code",
   "execution_count": null,
   "id": "a8670447-8c8b-462c-b335-98ae6b5ee286",
   "metadata": {
    "tags": []
   },
   "outputs": [],
   "source": [
    "%openad rxn ?"
   ]
  },
  {
   "cell_type": "code",
   "execution_count": null,
   "id": "ada01cca-8887-449a-a110-044e4f62126b",
   "metadata": {
    "tags": []
   },
   "outputs": [],
   "source": [
    "%openad ? rxn"
   ]
  },
  {
   "cell_type": "markdown",
   "id": "99e26473-49f0-446b-b3e9-506d52a93d3c",
   "metadata": {
    "tags": []
   },
   "source": [
    "<br>\n",
    "<h2><u><b>General</b></u></h2>"
   ]
  },
  {
   "cell_type": "markdown",
   "id": "0abefa8b-6278-40d6-af0b-58166e31f906",
   "metadata": {},
   "source": [
    "### Reset login"
   ]
  },
  {
   "cell_type": "code",
   "execution_count": null,
   "id": "444b70df-75cc-42f9-8297-1908dfee5e71",
   "metadata": {
    "tags": []
   },
   "outputs": [],
   "source": [
    "# Command help\n",
    "%openad rxn reset login ?"
   ]
  },
  {
   "cell_type": "code",
   "execution_count": null,
   "id": "23b0be1e-158a-4702-9b89-06aba3d749b0",
   "metadata": {
    "tags": []
   },
   "outputs": [],
   "source": [
    "from openad.helpers.general import confirm_prompt\n",
    "if not confirm_prompt(\"Please confirm before deleting your RXN credentials\"):\n",
    "    raise Exception('Notebook execution aborted')"
   ]
  },
  {
   "cell_type": "code",
   "execution_count": null,
   "id": "873ec0c1-d682-4164-880a-c7aea9884648",
   "metadata": {},
   "outputs": [],
   "source": [
    "# Existing credentials\n",
    "%openad reset login"
   ]
  },
  {
   "cell_type": "code",
   "execution_count": null,
   "id": "878857e8-eebc-4d9a-a930-081e906c2bc5",
   "metadata": {},
   "outputs": [],
   "source": [
    "# Non-existing credentials\n",
    "%openad reset login"
   ]
  },
  {
   "cell_type": "markdown",
   "id": "5c277d72-55ba-4a79-8415-fbace08c4c17",
   "metadata": {
    "tags": []
   },
   "source": [
    "### List models"
   ]
  },
  {
   "cell_type": "code",
   "execution_count": null,
   "id": "e3c3ba29-3623-4f25-9a6b-fb17e94a2363",
   "metadata": {
    "tags": []
   },
   "outputs": [],
   "source": [
    "# Command help\n",
    "%openad rxn list models ?"
   ]
  },
  {
   "cell_type": "code",
   "execution_count": null,
   "id": "2e295203-dd59-4c49-99dd-d0254487a9af",
   "metadata": {
    "tags": []
   },
   "outputs": [],
   "source": [
    "%openad rxn list models"
   ]
  },
  {
   "cell_type": "markdown",
   "id": "b6d295e4-2a9a-4b32-ab62-0c351ca12704",
   "metadata": {},
   "source": [
    "<br>"
   ]
  },
  {
   "cell_type": "markdown",
   "id": "8b992552-d2d8-417c-aa45-8dfcfb2175f7",
   "metadata": {
    "tags": []
   },
   "source": [
    "### Interpret recipe"
   ]
  },
  {
   "cell_type": "code",
   "execution_count": null,
   "id": "a71eb538-ed17-4a8a-b373-59cf06610445",
   "metadata": {
    "tags": []
   },
   "outputs": [],
   "source": [
    "# Command help\n",
    "%openad rxn interpret recipe ?"
   ]
  },
  {
   "cell_type": "code",
   "execution_count": null,
   "id": "341d643c-ec74-4c36-8290-87789702ad09",
   "metadata": {
    "tags": []
   },
   "outputs": [],
   "source": [
    "# From file\n",
    "%openad rxn interpret recipe 'my_recipe.txt'"
   ]
  },
  {
   "cell_type": "code",
   "execution_count": null,
   "id": "34ee1605-8b0a-4efa-b808-6c4f9eae7fa1",
   "metadata": {},
   "outputs": [],
   "source": [
    "# From string\n",
    "%openad rxn interpret recipe 'A solution of ((1S,2S)-1-{[(methoxymethyl-biphenyl-4-yl)-(2-pyridin-2-yl-cyclopropanecarbonyl)-amino]-methyl}-2-methyl-butyl)-carbamic acid tert-butyl ester (25 mg, 0.045 mmol) and dichloromethane (4 mL) was treated with a solution of HCl in dioxane (4 N, 0.5 mL) and the resulting reaction mixture was maintained at room temperature for 12 h. The reaction was then concentrated to dryness to afford (1R,2R)-2-pyridin-2-yl-cyclopropanecarboxylic acid ((2S,3S)-2-amino-3-methylpentyl)-(methoxymethyl-biphenyl-4-yl)-amide (18 mg, 95% yield) as a white solid.'"
   ]
  },
  {
   "cell_type": "markdown",
   "id": "d997d937-064f-48e0-ab1e-d8005673303d",
   "metadata": {
    "tags": []
   },
   "source": [
    "<br>\n",
    "<h2><u><b>Prediction</b></u></h2>"
   ]
  },
  {
   "cell_type": "markdown",
   "id": "64e1a900-ff83-4e4d-83d9-d4ca70d0a91c",
   "metadata": {
    "tags": []
   },
   "source": [
    "### Predict retrosynythesis"
   ]
  },
  {
   "cell_type": "code",
   "execution_count": null,
   "id": "fdd88cbe-6280-4a82-99f9-d0f9318e9210",
   "metadata": {},
   "outputs": [],
   "source": [
    "# Command help\n",
    "%openad rxn predict retrosynthesis ?"
   ]
  },
  {
   "cell_type": "code",
   "execution_count": null,
   "id": "031d6689-7cfc-4337-b0fe-ff1e3eb5927e",
   "metadata": {
    "tags": []
   },
   "outputs": [],
   "source": [
    "# Regular\n",
    "%openad rxn predict retrosynthesis 'BrCCc1cccc2c(Br)c3ccccc3cc12' using (max_steps=3)"
   ]
  },
  {
   "cell_type": "code",
   "execution_count": null,
   "id": "0a1259d7-84c1-4fb2-86c5-bc6807b81c89",
   "metadata": {
    "tags": []
   },
   "outputs": [],
   "source": [
    "# Cached\n",
    "%openad rxn predict retrosynthesis 'BrCCc1cccc2c(Br)c3ccccc3cc12' using (max_steps=3)"
   ]
  },
  {
   "cell_type": "code",
   "execution_count": null,
   "id": "35c9928a-5341-4de4-99aa-c1b760151eb1",
   "metadata": {},
   "outputs": [],
   "source": [
    "# No cache\n",
    "%openad rxn predict retrosynthesis 'BrCCc1cccc2c(Br)c3ccccc3cc12' using (max_steps=3) no cache"
   ]
  },
  {
   "cell_type": "code",
   "execution_count": null,
   "id": "f1cde1ac-4388-4cd1-b0a5-4942750ef638",
   "metadata": {
    "tags": []
   },
   "outputs": [],
   "source": [
    "# Invalid\n",
    "%openad rxn predict retrosynthesis 'ABCDEF' using (max_steps=3)"
   ]
  },
  {
   "cell_type": "markdown",
   "id": "fb2a57a6-577a-4bf4-82f7-39c9298396d2",
   "metadata": {},
   "source": [
    "<br>"
   ]
  },
  {
   "cell_type": "markdown",
   "id": "6882856d-cf89-4926-aafd-6cf9a232eec1",
   "metadata": {
    "tags": []
   },
   "source": [
    "### Predict single Reaction"
   ]
  },
  {
   "cell_type": "code",
   "execution_count": null,
   "id": "fcdf80fb-a880-4f32-a20e-a8856a57d641",
   "metadata": {},
   "outputs": [],
   "source": [
    "# Command help\n",
    "%openad rxn predict reaction ?"
   ]
  },
  {
   "cell_type": "code",
   "execution_count": null,
   "id": "b1a0639f-d290-4fbf-aa52-94aa6106e4a4",
   "metadata": {},
   "outputs": [],
   "source": [
    "# Regular\n",
    "%openad rxn predict reaction 'BrBr.c1ccc2cc3ccccc3cc2c1CCO'"
   ]
  },
  {
   "cell_type": "code",
   "execution_count": null,
   "id": "ab9a086c-c21f-433a-966d-1bd2091a7348",
   "metadata": {},
   "outputs": [],
   "source": [
    "# Cached\n",
    "%openad rxn predict reaction 'BrBr.c1ccc2cc3ccccc3cc2c1CCO'"
   ]
  },
  {
   "cell_type": "code",
   "execution_count": null,
   "id": "3d8e2068-2f8f-42fb-aad2-75afa7e58855",
   "metadata": {},
   "outputs": [],
   "source": [
    "# No cache\n",
    "%openad rxn predict reaction 'BrBr.c1ccc2cc3ccccc3cc2c1CCO' no cache"
   ]
  },
  {
   "cell_type": "markdown",
   "id": "174c1574-1f30-4205-8011-8f517e385d41",
   "metadata": {},
   "source": [
    "<br>"
   ]
  },
  {
   "cell_type": "markdown",
   "id": "3fb732c6-941e-49b4-b0f5-5dfebe8efa70",
   "metadata": {
    "tags": []
   },
   "source": [
    "### Predict reactions from list"
   ]
  },
  {
   "cell_type": "code",
   "execution_count": null,
   "id": "5017bb46-4e43-4cac-a254-669c837ccce1",
   "metadata": {},
   "outputs": [],
   "source": [
    "# Regular\n",
    "%openad rxn predict reactions from list ['BrBr.c1ccc2cc3ccccc3cc2c1CCO' , 'BrBr.c1ccc2cc3ccccc3cc2c1']"
   ]
  },
  {
   "cell_type": "code",
   "execution_count": null,
   "id": "7a3f45ce-d0be-4674-8750-a7d8ff44cc17",
   "metadata": {},
   "outputs": [],
   "source": [
    "# Cached\n",
    "%openad rxn predict reactions from list ['BrBr.c1ccc2cc3ccccc3cc2c1CCO' , 'BrBr.c1ccc2cc3ccccc3cc2c1']"
   ]
  },
  {
   "cell_type": "code",
   "execution_count": null,
   "id": "3036e379-9dbb-4401-b2a3-1fde95e7196d",
   "metadata": {},
   "outputs": [],
   "source": [
    "# No cache\n",
    "%openad rxn predict reactions from list ['BrBr.c1ccc2cc3ccccc3cc2c1CCO' , 'BrBr.c1ccc2cc3ccccc3cc2c1'] no cache"
   ]
  },
  {
   "cell_type": "markdown",
   "id": "3fdee083-56e5-4109-8337-25f0c5e25a2d",
   "metadata": {},
   "source": [
    "<br>"
   ]
  },
  {
   "cell_type": "markdown",
   "id": "fd6a2ac8-a2b0-42fd-bc74-c7ba7daa7430",
   "metadata": {
    "tags": []
   },
   "source": [
    "### Predict reactions from file"
   ]
  },
  {
   "cell_type": "code",
   "execution_count": null,
   "id": "fc70234f-123c-47cd-8684-06923f7fcca1",
   "metadata": {},
   "outputs": [],
   "source": [
    "# Regular\n",
    "%openad rxn predict reactions from file 'my_reactions.csv'"
   ]
  },
  {
   "cell_type": "code",
   "execution_count": null,
   "id": "2ace0594-baa9-4aba-b074-e0fc7b78b174",
   "metadata": {},
   "outputs": [],
   "source": [
    "# Cached\n",
    "%openad rxn predict reactions from file 'my_reactions.csv'"
   ]
  },
  {
   "cell_type": "code",
   "execution_count": null,
   "id": "072e5396-5650-4d63-9834-d4a89d0791f8",
   "metadata": {},
   "outputs": [],
   "source": [
    "# No cache\n",
    "%openad rxn predict reactions from file 'my_reactions.csv' no cache"
   ]
  },
  {
   "cell_type": "markdown",
   "id": "17be2170-ce0b-4259-8605-8e61e6eeb5aa",
   "metadata": {},
   "source": [
    "<br>"
   ]
  },
  {
   "cell_type": "markdown",
   "id": "96abc4dc-a57a-4d27-b108-7a51d3857e22",
   "metadata": {
    "tags": []
   },
   "source": [
    "### Predict reactions from dataframe"
   ]
  },
  {
   "cell_type": "code",
   "execution_count": null,
   "id": "80b2cb47-1991-4b7b-9dfb-fbe3a1561a8d",
   "metadata": {
    "tags": []
   },
   "outputs": [],
   "source": [
    "import pandas as pd\n",
    "my_reactions_df = pd.read_csv(reactions_csv_path)"
   ]
  },
  {
   "cell_type": "code",
   "execution_count": null,
   "id": "36ceab54-5918-462c-8f99-a543640efdd7",
   "metadata": {
    "tags": []
   },
   "outputs": [],
   "source": [
    "# Regular\n",
    "%openad rxn predict reactions from dataframe my_reactions_df"
   ]
  },
  {
   "cell_type": "code",
   "execution_count": null,
   "id": "d8427091-c875-450f-a967-a5a5c6aebf65",
   "metadata": {
    "tags": []
   },
   "outputs": [],
   "source": [
    "# Cached\n",
    "%openad rxn predict reactions from dataframe my_reactions_df"
   ]
  },
  {
   "cell_type": "code",
   "execution_count": null,
   "id": "cf371f59-3fc2-428a-900d-f5f46265bb15",
   "metadata": {
    "tags": []
   },
   "outputs": [],
   "source": [
    "# No cache\n",
    "%openad rxn predict reactions from dataframe my_reactions_df no cache"
   ]
  }
 ],
 "metadata": {
  "kernelspec": {
   "display_name": "venv",
   "language": "python",
   "name": "venv"
  },
  "language_info": {
   "codemirror_mode": {
    "name": "ipython",
    "version": 3
   },
   "file_extension": ".py",
   "mimetype": "text/x-python",
   "name": "python",
   "nbconvert_exporter": "python",
   "pygments_lexer": "ipython3",
   "version": "3.10.14"
  }
 },
 "nbformat": 4,
 "nbformat_minor": 5
}
